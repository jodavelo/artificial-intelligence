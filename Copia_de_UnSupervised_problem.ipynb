{
  "cells": [
    {
      "cell_type": "markdown",
      "metadata": {
        "id": "view-in-github",
        "colab_type": "text"
      },
      "source": [
        "<a href=\"https://colab.research.google.com/github/jodavelo/artificial-intelligence/blob/main/Copia_de_UnSupervised_problem.ipynb\" target=\"_parent\"><img src=\"https://colab.research.google.com/assets/colab-badge.svg\" alt=\"Open In Colab\"/></a>"
      ]
    },
    {
      "cell_type": "code",
      "execution_count": 4,
      "metadata": {
        "colab": {
          "base_uri": "https://localhost:8080/"
        },
        "id": "5PFd-2Vxnpae",
        "outputId": "818b15a5-d18b-47fb-8d30-5c53aa785b47"
      },
      "outputs": [
        {
          "output_type": "stream",
          "name": "stdout",
          "text": [
            "Mounted at /content/gdrive\n"
          ]
        }
      ],
      "source": [
        "# Importa la librería para montar Google Drive en Colab\n",
        "from google.colab import drive\n",
        "# Monta Google Drive en la ruta especificada\n",
        "drive.mount('/content/gdrive')"
      ]
    },
    {
      "cell_type": "code",
      "execution_count": null,
      "metadata": {
        "id": "BBr4zj-3p7BO"
      },
      "outputs": [],
      "source": [
        "# Importa las librerías necesarias para manejo de datos y visualización\n",
        "import pandas as pd\n",
        "import matplotlib.pyplot as plt\n",
        "import seaborn as sns\n",
        "# Importa las herramientas de preprocesamiento de scikit-learn\n",
        "from sklearn.preprocessing import OneHotEncoder, StandardScaler\n",
        "from sklearn.compose import ColumnTransformer\n",
        "from sklearn.pipeline import Pipeline\n"
      ]
    },
    {
      "cell_type": "code",
      "execution_count": null,
      "metadata": {
        "id": "iBfSyvK-pxVQ"
      },
      "outputs": [],
      "source": [
        "# Carga los datos desde un archivo CSV en Google Drive, especificando la codificación y el delimitador\n",
        "df = pd.read_csv('/content/gdrive/My Drive/Master/IA/Casual/segmentacion.csv', encoding='latin-1', delimiter=';')"
      ]
    },
    {
      "cell_type": "markdown",
      "metadata": {
        "id": "1FQmuzhWqWp8"
      },
      "source": [
        "## Data cleaning and preparation"
      ]
    },
    {
      "cell_type": "code",
      "execution_count": null,
      "metadata": {
        "id": "OEtcbHT4qYyX"
      },
      "outputs": [],
      "source": [
        "# Define las características categóricas y numéricas presentes en el dataset\n",
        "categorical_features = ['estado_terminal', 'producto_red', 'tecnologiapp', 'modelopp', 'tecnologiaaf', 'modeloaf', 'browser', 'nombretipoter', 'grupo_version', 'mcc', 'grupo_version_ant', 'ciudadfin']\n",
        "numerical_features = ['trx_dia_cero', 'trx_dia_uno', 'trx_dia_dos', 'trx_dia_tres', 'trx_dia_cuatro', 'trx_dia_cinco', 'trx_dia_seis', 'trx_mes_tres', 'trx_mes_dos', 'trx_mes_uno', 'prom_mes_tres', 'prom_mes_dos', 'prom_mes_uno', 'total_terminales', 'cantidad_falla_m3', 'cantidad_falla_m2', 'cantidad_falla_mes1']"
      ]
    },
    {
      "cell_type": "code",
      "execution_count": null,
      "metadata": {
        "id": "BpWcnArUyFcR"
      },
      "outputs": [],
      "source": [
        "# Crea un transformador de columnas que estandariza las características numéricas y convierte las categóricas a one-hot encoding\n",
        "#\n",
        "preprocessor = ColumnTransformer(\n",
        "    transformers=[\n",
        "        ('num', StandardScaler(), numerical_features),\n",
        "        ('cat', OneHotEncoder(handle_unknown='ignore'), categorical_features)\n",
        "    ]\n",
        ")"
      ]
    },
    {
      "cell_type": "code",
      "execution_count": null,
      "metadata": {
        "id": "WXqKsUtPqj6i"
      },
      "outputs": [],
      "source": [
        "# Crea un pipeline de preprocesamiento que incluye el transformador de columnas\n",
        "pipeline = Pipeline(steps=[('preprocessor', preprocessor)])"
      ]
    },
    {
      "cell_type": "code",
      "execution_count": null,
      "metadata": {
        "colab": {
          "base_uri": "https://localhost:8080/"
        },
        "id": "vHBR-sp1qpW0",
        "outputId": "f97fd6d2-f8c5-48c1-e2d3-250607229232"
      },
      "outputs": [
        {
          "output_type": "stream",
          "name": "stdout",
          "text": [
            "['mcodes', 'terminal', 'estado_terminal', 'producto_red', 'tecnologiapp', 'modelopp', 'tecnologiaaf', 'modeloaf', 'browser', 'nombretipoter', 'grupo_version', 'fecha_version', 'mcc', 'segmento_actual', 'grupo_version_ant', 'ciudadfin', 'seccionalfin', 'fecha_creacion_terminal', 'trx_dia_cero', 'trx_dia_uno', 'trx_dia_dos', 'trx_dia_tres', 'trx_dia_cuatro', 'trx_dia_cinco', 'trx_dia_seis', 'trx_mes_tres', 'trx_mes_dos', 'trx_mes_uno', 'prom_mes_tres', 'prom_mes_dos', 'prom_mes_uno', 'total_terminales', 'cantidad_falla_m3', 'cantidad_falla_m2', 'cantidad_falla_mes1', 'fecha_compra', 'inicio_actividades_pos', 'fecha_Full']\n"
          ]
        }
      ],
      "source": [
        "# Imprime la lista de columnas del DataFrame\n",
        "print(df.columns.tolist())"
      ]
    },
    {
      "cell_type": "code",
      "execution_count": null,
      "metadata": {
        "colab": {
          "base_uri": "https://localhost:8080/",
          "height": 342
        },
        "id": "cGbD-Wb3z8he",
        "outputId": "dbd11ba7-bb82-41c4-f60b-27fc5b03905d"
      },
      "outputs": [
        {
          "output_type": "execute_result",
          "data": {
            "text/plain": [
              "      mcodes         terminal estado_terminal producto_red tecnologiapp  \\\n",
              "0  348443760  1806A6M9U356211          Activo            h            a   \n",
              "1  348646977  1375A6MM7263427          Activo            q            c   \n",
              "2  212187780  125741149382240          Activo            m            a   \n",
              "3  214878384  1104S0148347454          Activo            t            b   \n",
              "4  214371423  125849396128146          Activo            h            a   \n",
              "\n",
              "  modelopp tecnologiaaf modeloaf browser nombretipoter  ... prom_mes_tres  \\\n",
              "0        p            b        j       o             f  ...             0   \n",
              "1        c            d        h       p             p  ...             0   \n",
              "2        p            b        j       o             k  ...             0   \n",
              "3        t            c        l       o             i  ...   0,266666667   \n",
              "4        p            a        j       o             f  ...   4,366666667   \n",
              "\n",
              "  prom_mes_dos prom_mes_uno total_terminales cantidad_falla_m3  \\\n",
              "0            0  38,51612903                1                 0   \n",
              "1            0  0,225806452                1                 0   \n",
              "2            0            0                4                 0   \n",
              "3  3,133333333  4,612903226                6                 0   \n",
              "4  4,033333333  9,677419355                1                 0   \n",
              "\n",
              "  cantidad_falla_m2 cantidad_falla_mes1             fecha_compra  \\\n",
              "0                 0                   0  2018-10-30 00:00:00.000   \n",
              "1                 0                   0  2018-03-27 00:00:00.000   \n",
              "2                 0                   1  2013-04-02 00:00:00.000   \n",
              "3                 5                  12  2012-09-27 00:00:00.000   \n",
              "4                 0                   0  2012-06-14 00:00:00.000   \n",
              "\n",
              "   inicio_actividades_pos  fecha_Full  \n",
              "0               6/12/2018  31/12/2018  \n",
              "1              10/12/2018  31/12/2018  \n",
              "2              19/09/2018  31/12/2018  \n",
              "3              22/05/2018  31/12/2018  \n",
              "4               9/08/2018  31/12/2018  \n",
              "\n",
              "[5 rows x 38 columns]"
            ],
            "text/html": [
              "\n",
              "  <div id=\"df-2cac5faf-0268-423d-b58a-8c67efcf2552\" class=\"colab-df-container\">\n",
              "    <div>\n",
              "<style scoped>\n",
              "    .dataframe tbody tr th:only-of-type {\n",
              "        vertical-align: middle;\n",
              "    }\n",
              "\n",
              "    .dataframe tbody tr th {\n",
              "        vertical-align: top;\n",
              "    }\n",
              "\n",
              "    .dataframe thead th {\n",
              "        text-align: right;\n",
              "    }\n",
              "</style>\n",
              "<table border=\"1\" class=\"dataframe\">\n",
              "  <thead>\n",
              "    <tr style=\"text-align: right;\">\n",
              "      <th></th>\n",
              "      <th>mcodes</th>\n",
              "      <th>terminal</th>\n",
              "      <th>estado_terminal</th>\n",
              "      <th>producto_red</th>\n",
              "      <th>tecnologiapp</th>\n",
              "      <th>modelopp</th>\n",
              "      <th>tecnologiaaf</th>\n",
              "      <th>modeloaf</th>\n",
              "      <th>browser</th>\n",
              "      <th>nombretipoter</th>\n",
              "      <th>...</th>\n",
              "      <th>prom_mes_tres</th>\n",
              "      <th>prom_mes_dos</th>\n",
              "      <th>prom_mes_uno</th>\n",
              "      <th>total_terminales</th>\n",
              "      <th>cantidad_falla_m3</th>\n",
              "      <th>cantidad_falla_m2</th>\n",
              "      <th>cantidad_falla_mes1</th>\n",
              "      <th>fecha_compra</th>\n",
              "      <th>inicio_actividades_pos</th>\n",
              "      <th>fecha_Full</th>\n",
              "    </tr>\n",
              "  </thead>\n",
              "  <tbody>\n",
              "    <tr>\n",
              "      <th>0</th>\n",
              "      <td>348443760</td>\n",
              "      <td>1806A6M9U356211</td>\n",
              "      <td>Activo</td>\n",
              "      <td>h</td>\n",
              "      <td>a</td>\n",
              "      <td>p</td>\n",
              "      <td>b</td>\n",
              "      <td>j</td>\n",
              "      <td>o</td>\n",
              "      <td>f</td>\n",
              "      <td>...</td>\n",
              "      <td>0</td>\n",
              "      <td>0</td>\n",
              "      <td>38,51612903</td>\n",
              "      <td>1</td>\n",
              "      <td>0</td>\n",
              "      <td>0</td>\n",
              "      <td>0</td>\n",
              "      <td>2018-10-30 00:00:00.000</td>\n",
              "      <td>6/12/2018</td>\n",
              "      <td>31/12/2018</td>\n",
              "    </tr>\n",
              "    <tr>\n",
              "      <th>1</th>\n",
              "      <td>348646977</td>\n",
              "      <td>1375A6MM7263427</td>\n",
              "      <td>Activo</td>\n",
              "      <td>q</td>\n",
              "      <td>c</td>\n",
              "      <td>c</td>\n",
              "      <td>d</td>\n",
              "      <td>h</td>\n",
              "      <td>p</td>\n",
              "      <td>p</td>\n",
              "      <td>...</td>\n",
              "      <td>0</td>\n",
              "      <td>0</td>\n",
              "      <td>0,225806452</td>\n",
              "      <td>1</td>\n",
              "      <td>0</td>\n",
              "      <td>0</td>\n",
              "      <td>0</td>\n",
              "      <td>2018-03-27 00:00:00.000</td>\n",
              "      <td>10/12/2018</td>\n",
              "      <td>31/12/2018</td>\n",
              "    </tr>\n",
              "    <tr>\n",
              "      <th>2</th>\n",
              "      <td>212187780</td>\n",
              "      <td>125741149382240</td>\n",
              "      <td>Activo</td>\n",
              "      <td>m</td>\n",
              "      <td>a</td>\n",
              "      <td>p</td>\n",
              "      <td>b</td>\n",
              "      <td>j</td>\n",
              "      <td>o</td>\n",
              "      <td>k</td>\n",
              "      <td>...</td>\n",
              "      <td>0</td>\n",
              "      <td>0</td>\n",
              "      <td>0</td>\n",
              "      <td>4</td>\n",
              "      <td>0</td>\n",
              "      <td>0</td>\n",
              "      <td>1</td>\n",
              "      <td>2013-04-02 00:00:00.000</td>\n",
              "      <td>19/09/2018</td>\n",
              "      <td>31/12/2018</td>\n",
              "    </tr>\n",
              "    <tr>\n",
              "      <th>3</th>\n",
              "      <td>214878384</td>\n",
              "      <td>1104S0148347454</td>\n",
              "      <td>Activo</td>\n",
              "      <td>t</td>\n",
              "      <td>b</td>\n",
              "      <td>t</td>\n",
              "      <td>c</td>\n",
              "      <td>l</td>\n",
              "      <td>o</td>\n",
              "      <td>i</td>\n",
              "      <td>...</td>\n",
              "      <td>0,266666667</td>\n",
              "      <td>3,133333333</td>\n",
              "      <td>4,612903226</td>\n",
              "      <td>6</td>\n",
              "      <td>0</td>\n",
              "      <td>5</td>\n",
              "      <td>12</td>\n",
              "      <td>2012-09-27 00:00:00.000</td>\n",
              "      <td>22/05/2018</td>\n",
              "      <td>31/12/2018</td>\n",
              "    </tr>\n",
              "    <tr>\n",
              "      <th>4</th>\n",
              "      <td>214371423</td>\n",
              "      <td>125849396128146</td>\n",
              "      <td>Activo</td>\n",
              "      <td>h</td>\n",
              "      <td>a</td>\n",
              "      <td>p</td>\n",
              "      <td>a</td>\n",
              "      <td>j</td>\n",
              "      <td>o</td>\n",
              "      <td>f</td>\n",
              "      <td>...</td>\n",
              "      <td>4,366666667</td>\n",
              "      <td>4,033333333</td>\n",
              "      <td>9,677419355</td>\n",
              "      <td>1</td>\n",
              "      <td>0</td>\n",
              "      <td>0</td>\n",
              "      <td>0</td>\n",
              "      <td>2012-06-14 00:00:00.000</td>\n",
              "      <td>9/08/2018</td>\n",
              "      <td>31/12/2018</td>\n",
              "    </tr>\n",
              "  </tbody>\n",
              "</table>\n",
              "<p>5 rows × 38 columns</p>\n",
              "</div>\n",
              "    <div class=\"colab-df-buttons\">\n",
              "\n",
              "  <div class=\"colab-df-container\">\n",
              "    <button class=\"colab-df-convert\" onclick=\"convertToInteractive('df-2cac5faf-0268-423d-b58a-8c67efcf2552')\"\n",
              "            title=\"Convert this dataframe to an interactive table.\"\n",
              "            style=\"display:none;\">\n",
              "\n",
              "  <svg xmlns=\"http://www.w3.org/2000/svg\" height=\"24px\" viewBox=\"0 -960 960 960\">\n",
              "    <path d=\"M120-120v-720h720v720H120Zm60-500h600v-160H180v160Zm220 220h160v-160H400v160Zm0 220h160v-160H400v160ZM180-400h160v-160H180v160Zm440 0h160v-160H620v160ZM180-180h160v-160H180v160Zm440 0h160v-160H620v160Z\"/>\n",
              "  </svg>\n",
              "    </button>\n",
              "\n",
              "  <style>\n",
              "    .colab-df-container {\n",
              "      display:flex;\n",
              "      gap: 12px;\n",
              "    }\n",
              "\n",
              "    .colab-df-convert {\n",
              "      background-color: #E8F0FE;\n",
              "      border: none;\n",
              "      border-radius: 50%;\n",
              "      cursor: pointer;\n",
              "      display: none;\n",
              "      fill: #1967D2;\n",
              "      height: 32px;\n",
              "      padding: 0 0 0 0;\n",
              "      width: 32px;\n",
              "    }\n",
              "\n",
              "    .colab-df-convert:hover {\n",
              "      background-color: #E2EBFA;\n",
              "      box-shadow: 0px 1px 2px rgba(60, 64, 67, 0.3), 0px 1px 3px 1px rgba(60, 64, 67, 0.15);\n",
              "      fill: #174EA6;\n",
              "    }\n",
              "\n",
              "    .colab-df-buttons div {\n",
              "      margin-bottom: 4px;\n",
              "    }\n",
              "\n",
              "    [theme=dark] .colab-df-convert {\n",
              "      background-color: #3B4455;\n",
              "      fill: #D2E3FC;\n",
              "    }\n",
              "\n",
              "    [theme=dark] .colab-df-convert:hover {\n",
              "      background-color: #434B5C;\n",
              "      box-shadow: 0px 1px 3px 1px rgba(0, 0, 0, 0.15);\n",
              "      filter: drop-shadow(0px 1px 2px rgba(0, 0, 0, 0.3));\n",
              "      fill: #FFFFFF;\n",
              "    }\n",
              "  </style>\n",
              "\n",
              "    <script>\n",
              "      const buttonEl =\n",
              "        document.querySelector('#df-2cac5faf-0268-423d-b58a-8c67efcf2552 button.colab-df-convert');\n",
              "      buttonEl.style.display =\n",
              "        google.colab.kernel.accessAllowed ? 'block' : 'none';\n",
              "\n",
              "      async function convertToInteractive(key) {\n",
              "        const element = document.querySelector('#df-2cac5faf-0268-423d-b58a-8c67efcf2552');\n",
              "        const dataTable =\n",
              "          await google.colab.kernel.invokeFunction('convertToInteractive',\n",
              "                                                    [key], {});\n",
              "        if (!dataTable) return;\n",
              "\n",
              "        const docLinkHtml = 'Like what you see? Visit the ' +\n",
              "          '<a target=\"_blank\" href=https://colab.research.google.com/notebooks/data_table.ipynb>data table notebook</a>'\n",
              "          + ' to learn more about interactive tables.';\n",
              "        element.innerHTML = '';\n",
              "        dataTable['output_type'] = 'display_data';\n",
              "        await google.colab.output.renderOutput(dataTable, element);\n",
              "        const docLink = document.createElement('div');\n",
              "        docLink.innerHTML = docLinkHtml;\n",
              "        element.appendChild(docLink);\n",
              "      }\n",
              "    </script>\n",
              "  </div>\n",
              "\n",
              "\n",
              "<div id=\"df-01074904-fde9-4ca6-be0a-c0cd051faa7d\">\n",
              "  <button class=\"colab-df-quickchart\" onclick=\"quickchart('df-01074904-fde9-4ca6-be0a-c0cd051faa7d')\"\n",
              "            title=\"Suggest charts\"\n",
              "            style=\"display:none;\">\n",
              "\n",
              "<svg xmlns=\"http://www.w3.org/2000/svg\" height=\"24px\"viewBox=\"0 0 24 24\"\n",
              "     width=\"24px\">\n",
              "    <g>\n",
              "        <path d=\"M19 3H5c-1.1 0-2 .9-2 2v14c0 1.1.9 2 2 2h14c1.1 0 2-.9 2-2V5c0-1.1-.9-2-2-2zM9 17H7v-7h2v7zm4 0h-2V7h2v10zm4 0h-2v-4h2v4z\"/>\n",
              "    </g>\n",
              "</svg>\n",
              "  </button>\n",
              "\n",
              "<style>\n",
              "  .colab-df-quickchart {\n",
              "      --bg-color: #E8F0FE;\n",
              "      --fill-color: #1967D2;\n",
              "      --hover-bg-color: #E2EBFA;\n",
              "      --hover-fill-color: #174EA6;\n",
              "      --disabled-fill-color: #AAA;\n",
              "      --disabled-bg-color: #DDD;\n",
              "  }\n",
              "\n",
              "  [theme=dark] .colab-df-quickchart {\n",
              "      --bg-color: #3B4455;\n",
              "      --fill-color: #D2E3FC;\n",
              "      --hover-bg-color: #434B5C;\n",
              "      --hover-fill-color: #FFFFFF;\n",
              "      --disabled-bg-color: #3B4455;\n",
              "      --disabled-fill-color: #666;\n",
              "  }\n",
              "\n",
              "  .colab-df-quickchart {\n",
              "    background-color: var(--bg-color);\n",
              "    border: none;\n",
              "    border-radius: 50%;\n",
              "    cursor: pointer;\n",
              "    display: none;\n",
              "    fill: var(--fill-color);\n",
              "    height: 32px;\n",
              "    padding: 0;\n",
              "    width: 32px;\n",
              "  }\n",
              "\n",
              "  .colab-df-quickchart:hover {\n",
              "    background-color: var(--hover-bg-color);\n",
              "    box-shadow: 0 1px 2px rgba(60, 64, 67, 0.3), 0 1px 3px 1px rgba(60, 64, 67, 0.15);\n",
              "    fill: var(--button-hover-fill-color);\n",
              "  }\n",
              "\n",
              "  .colab-df-quickchart-complete:disabled,\n",
              "  .colab-df-quickchart-complete:disabled:hover {\n",
              "    background-color: var(--disabled-bg-color);\n",
              "    fill: var(--disabled-fill-color);\n",
              "    box-shadow: none;\n",
              "  }\n",
              "\n",
              "  .colab-df-spinner {\n",
              "    border: 2px solid var(--fill-color);\n",
              "    border-color: transparent;\n",
              "    border-bottom-color: var(--fill-color);\n",
              "    animation:\n",
              "      spin 1s steps(1) infinite;\n",
              "  }\n",
              "\n",
              "  @keyframes spin {\n",
              "    0% {\n",
              "      border-color: transparent;\n",
              "      border-bottom-color: var(--fill-color);\n",
              "      border-left-color: var(--fill-color);\n",
              "    }\n",
              "    20% {\n",
              "      border-color: transparent;\n",
              "      border-left-color: var(--fill-color);\n",
              "      border-top-color: var(--fill-color);\n",
              "    }\n",
              "    30% {\n",
              "      border-color: transparent;\n",
              "      border-left-color: var(--fill-color);\n",
              "      border-top-color: var(--fill-color);\n",
              "      border-right-color: var(--fill-color);\n",
              "    }\n",
              "    40% {\n",
              "      border-color: transparent;\n",
              "      border-right-color: var(--fill-color);\n",
              "      border-top-color: var(--fill-color);\n",
              "    }\n",
              "    60% {\n",
              "      border-color: transparent;\n",
              "      border-right-color: var(--fill-color);\n",
              "    }\n",
              "    80% {\n",
              "      border-color: transparent;\n",
              "      border-right-color: var(--fill-color);\n",
              "      border-bottom-color: var(--fill-color);\n",
              "    }\n",
              "    90% {\n",
              "      border-color: transparent;\n",
              "      border-bottom-color: var(--fill-color);\n",
              "    }\n",
              "  }\n",
              "</style>\n",
              "\n",
              "  <script>\n",
              "    async function quickchart(key) {\n",
              "      const quickchartButtonEl =\n",
              "        document.querySelector('#' + key + ' button');\n",
              "      quickchartButtonEl.disabled = true;  // To prevent multiple clicks.\n",
              "      quickchartButtonEl.classList.add('colab-df-spinner');\n",
              "      try {\n",
              "        const charts = await google.colab.kernel.invokeFunction(\n",
              "            'suggestCharts', [key], {});\n",
              "      } catch (error) {\n",
              "        console.error('Error during call to suggestCharts:', error);\n",
              "      }\n",
              "      quickchartButtonEl.classList.remove('colab-df-spinner');\n",
              "      quickchartButtonEl.classList.add('colab-df-quickchart-complete');\n",
              "    }\n",
              "    (() => {\n",
              "      let quickchartButtonEl =\n",
              "        document.querySelector('#df-01074904-fde9-4ca6-be0a-c0cd051faa7d button');\n",
              "      quickchartButtonEl.style.display =\n",
              "        google.colab.kernel.accessAllowed ? 'block' : 'none';\n",
              "    })();\n",
              "  </script>\n",
              "</div>\n",
              "\n",
              "    </div>\n",
              "  </div>\n"
            ],
            "application/vnd.google.colaboratory.intrinsic+json": {
              "type": "dataframe",
              "variable_name": "df"
            }
          },
          "metadata": {},
          "execution_count": 40
        }
      ],
      "source": [
        "# Muestra las primeras filas del DataFrame\n",
        "df.head()"
      ]
    },
    {
      "cell_type": "code",
      "execution_count": null,
      "metadata": {
        "colab": {
          "base_uri": "https://localhost:8080/"
        },
        "id": "b1vlPtvL0oqn",
        "outputId": "2973a69b-ec1e-4dfb-b332-c14ca29f828e"
      },
      "outputs": [
        {
          "output_type": "stream",
          "name": "stdout",
          "text": [
            "['mcodes', 'terminal', 'estado_terminal', 'producto_red', 'tecnologiapp', 'modelopp', 'tecnologiaaf', 'modeloaf', 'browser', 'nombretipoter', 'grupo_version', 'fecha_version', 'mcc', 'segmento_actual', 'grupo_version_ant', 'ciudadfin', 'seccionalfin', 'fecha_creacion_terminal', 'trx_dia_cero', 'trx_dia_uno', 'trx_dia_dos', 'trx_dia_tres', 'trx_dia_cuatro', 'trx_dia_cinco', 'trx_dia_seis', 'trx_mes_tres', 'trx_mes_dos', 'trx_mes_uno', 'prom_mes_tres', 'prom_mes_dos', 'prom_mes_uno', 'total_terminales', 'cantidad_falla_m3', 'cantidad_falla_m2', 'cantidad_falla_mes1', 'fecha_compra', 'inicio_actividades_pos', 'fecha_Full']\n"
          ]
        }
      ],
      "source": [
        "# Imprime nuevamente la lista de columnas del DataFrame (posiblemente para verificar cambios)\n",
        "print(df.columns.tolist())"
      ]
    },
    {
      "cell_type": "markdown",
      "metadata": {
        "id": "scg7J1Rr2dPw"
      },
      "source": [
        "Fix the last one column name"
      ]
    },
    {
      "cell_type": "code",
      "execution_count": null,
      "metadata": {
        "colab": {
          "base_uri": "https://localhost:8080/"
        },
        "id": "Wse-9kdt2aNw",
        "outputId": "05bc7718-a9e3-4e49-85cd-5ae82007b4ff"
      },
      "outputs": [
        {
          "output_type": "stream",
          "name": "stdout",
          "text": [
            "['mcodes', 'terminal', 'estado_terminal', 'producto_red', 'tecnologiapp', 'modelopp', 'tecnologiaaf', 'modeloaf', 'browser', 'nombretipoter', 'grupo_version', 'fecha_version', 'mcc', 'segmento_actual', 'grupo_version_ant', 'ciudadfin', 'seccionalfin', 'fecha_creacion_terminal', 'trx_dia_cero', 'trx_dia_uno', 'trx_dia_dos', 'trx_dia_tres', 'trx_dia_cuatro', 'trx_dia_cinco', 'trx_dia_seis', 'trx_mes_tres', 'trx_mes_dos', 'trx_mes_uno', 'prom_mes_tres', 'prom_mes_dos', 'prom_mes_uno', 'total_terminales', 'cantidad_falla_m3', 'cantidad_falla_m2', 'cantidad_falla_mes1', 'fecha_compra', 'inicio_actividades_pos', 'fecha_Full']\n"
          ]
        }
      ],
      "source": [
        "# Reemplaza secuencias de comas en los nombres de columnas por cadenas vacías\n",
        "df.columns = [col.replace(',,,,', '') for col in df.columns]\n",
        "print(df.columns.tolist())\n"
      ]
    },
    {
      "cell_type": "markdown",
      "metadata": {
        "id": "STlhNXsN4N6T"
      },
      "source": [
        "Data convert ---> (strings to floats)"
      ]
    },
    {
      "cell_type": "code",
      "execution_count": null,
      "metadata": {
        "id": "FabAnW8F3Oil"
      },
      "outputs": [],
      "source": [
        "# Convierte las características numéricas de formato texto a float, reemplazando comas por puntos\n",
        "for col in numerical_features:\n",
        "    df[col] = df[col].astype(str).str.replace(',', '.').astype(float)"
      ]
    },
    {
      "cell_type": "code",
      "execution_count": null,
      "metadata": {
        "id": "WYCcit0r4NQc"
      },
      "outputs": [],
      "source": [
        "# Aplica el pipeline de preprocesamiento al DataFrame y obtiene el dataset transformado\n",
        "df_transformed = pipeline.fit_transform(df)"
      ]
    },
    {
      "cell_type": "code",
      "execution_count": null,
      "metadata": {
        "id": "5QWu9zdp5nfD"
      },
      "outputs": [],
      "source": [
        "# Lista de características numéricas transformadas (en este caso, es igual a las originales)\n",
        "transformed_numerical_features = numerical_features"
      ]
    },
    {
      "cell_type": "code",
      "execution_count": null,
      "metadata": {
        "id": "KFhwudb05qMf"
      },
      "outputs": [],
      "source": [
        "# transformed_categorical_features = pipeline.named_steps['preprocessor'].named_transformers_['cat'].get_feature_names_out()"
      ]
    },
    {
      "cell_type": "code",
      "execution_count": null,
      "metadata": {
        "id": "l-MyKLc45uD1"
      },
      "outputs": [],
      "source": [
        "# Inicializa la lista de columnas transformadas solo con las características numéricas\n",
        "transformed_columns = list(transformed_numerical_features)"
      ]
    },
    {
      "cell_type": "code",
      "execution_count": null,
      "metadata": {
        "colab": {
          "base_uri": "https://localhost:8080/"
        },
        "id": "WSYZvHJ24jLr",
        "outputId": "fcdfc477-e523-419f-c276-bb4d54aafef3"
      },
      "outputs": [
        {
          "output_type": "stream",
          "name": "stdout",
          "text": [
            "(99999, 1191)\n"
          ]
        }
      ],
      "source": [
        "# Imprime la forma del DataFrame transformado\n",
        "print(df_transformed.shape)"
      ]
    },
    {
      "cell_type": "code",
      "execution_count": null,
      "metadata": {
        "id": "Z2S8QPF753Fg"
      },
      "outputs": [],
      "source": [
        "# Combina las características numéricas y categóricas transformadas para obtener los nombres de todas las columnas transformadas\n",
        "transformed_columns = (numerical_features +\n",
        "                       list(pipeline.named_steps['preprocessor'].named_transformers_['cat'].get_feature_names_out()))\n",
        "# Verifica si el número de columnas transformadas coincide con el esperado y se crea un DataFrame con los datos transformados\n",
        "if df_transformed.shape[1] == len(transformed_columns):\n",
        "    df_transformed_df = pd.DataFrame(df_transformed.toarray(), columns=transformed_columns)\n",
        "else:\n",
        "    print(f\"Error: Mismatch in number of transformed columns ({df_transformed.shape[1]}) and provided column names ({len(transformed_columns)})\")"
      ]
    },
    {
      "cell_type": "code",
      "execution_count": null,
      "metadata": {
        "colab": {
          "base_uri": "https://localhost:8080/"
        },
        "id": "XHwO5uLY7g-v",
        "outputId": "374e8a5c-a2be-4f29-df07-39b0b7873138"
      },
      "outputs": [
        {
          "output_type": "execute_result",
          "data": {
            "text/plain": [
              "<99999x1191 sparse matrix of type '<class 'numpy.float64'>'\n",
              "\twith 2899971 stored elements in Compressed Sparse Row format>"
            ]
          },
          "metadata": {},
          "execution_count": 50
        }
      ],
      "source": [
        "# Imprime el DataFrame transformado (esta línea no funcionará correctamente como está escrita)\n",
        "df_transformed"
      ]
    },
    {
      "cell_type": "markdown",
      "source": [],
      "metadata": {
        "id": "uBkWUm1IxDZs"
      }
    },
    {
      "cell_type": "markdown",
      "metadata": {
        "id": "_pLzLtDa-Ldr"
      },
      "source": [
        "## K- Means - clustering"
      ]
    },
    {
      "cell_type": "code",
      "execution_count": null,
      "metadata": {
        "id": "NyTqWosM-SMJ"
      },
      "outputs": [],
      "source": [
        "# Importa KMeans para clustering y PCA para reducción de dimensionalidad\n",
        "from sklearn.cluster import KMeans\n",
        "import matplotlib.pyplot as plt"
      ]
    },
    {
      "cell_type": "code",
      "execution_count": 3,
      "metadata": {
        "id": "nVm1OxpW-Z3H",
        "colab": {
          "base_uri": "https://localhost:8080/",
          "height": 147
        },
        "outputId": "0cdddcec-c77f-457e-d73e-f5089d9a7d0d"
      },
      "outputs": [
        {
          "output_type": "error",
          "ename": "NameError",
          "evalue": "name 'df_transformed' is not defined",
          "traceback": [
            "\u001b[0;31m---------------------------------------------------------------------------\u001b[0m",
            "\u001b[0;31mNameError\u001b[0m                                 Traceback (most recent call last)",
            "\u001b[0;32m<ipython-input-3-d510d353fccb>\u001b[0m in \u001b[0;36m<cell line: 1>\u001b[0;34m()\u001b[0m\n\u001b[0;32m----> 1\u001b[0;31m \u001b[0mX\u001b[0m \u001b[0;34m=\u001b[0m \u001b[0mdf_transformed\u001b[0m\u001b[0;34m\u001b[0m\u001b[0;34m\u001b[0m\u001b[0m\n\u001b[0m",
            "\u001b[0;31mNameError\u001b[0m: name 'df_transformed' is not defined"
          ]
        }
      ],
      "source": [
        "#asigna el DataFrame o array transformado, resultante del preprocesamiento aplicado mediante el pipeline\n",
        "X = df_transformed"
      ]
    },
    {
      "cell_type": "markdown",
      "metadata": {
        "id": "FLWQgbwg-dlt"
      },
      "source": [
        "### Apply K means"
      ]
    },
    {
      "cell_type": "code",
      "execution_count": null,
      "metadata": {
        "colab": {
          "base_uri": "https://localhost:8080/",
          "height": 131
        },
        "id": "Yw0sOPSW-f5Q",
        "outputId": "77c4007e-232b-4482-f273-2f731bdeb6f2"
      },
      "outputs": [
        {
          "output_type": "stream",
          "name": "stderr",
          "text": [
            "/usr/local/lib/python3.10/dist-packages/sklearn/cluster/_kmeans.py:870: FutureWarning: The default value of `n_init` will change from 10 to 'auto' in 1.4. Set the value of `n_init` explicitly to suppress the warning\n",
            "  warnings.warn(\n"
          ]
        },
        {
          "output_type": "execute_result",
          "data": {
            "text/plain": [
              "KMeans(n_clusters=5, random_state=42)"
            ],
            "text/html": [
              "<style>#sk-container-id-3 {color: black;background-color: white;}#sk-container-id-3 pre{padding: 0;}#sk-container-id-3 div.sk-toggleable {background-color: white;}#sk-container-id-3 label.sk-toggleable__label {cursor: pointer;display: block;width: 100%;margin-bottom: 0;padding: 0.3em;box-sizing: border-box;text-align: center;}#sk-container-id-3 label.sk-toggleable__label-arrow:before {content: \"▸\";float: left;margin-right: 0.25em;color: #696969;}#sk-container-id-3 label.sk-toggleable__label-arrow:hover:before {color: black;}#sk-container-id-3 div.sk-estimator:hover label.sk-toggleable__label-arrow:before {color: black;}#sk-container-id-3 div.sk-toggleable__content {max-height: 0;max-width: 0;overflow: hidden;text-align: left;background-color: #f0f8ff;}#sk-container-id-3 div.sk-toggleable__content pre {margin: 0.2em;color: black;border-radius: 0.25em;background-color: #f0f8ff;}#sk-container-id-3 input.sk-toggleable__control:checked~div.sk-toggleable__content {max-height: 200px;max-width: 100%;overflow: auto;}#sk-container-id-3 input.sk-toggleable__control:checked~label.sk-toggleable__label-arrow:before {content: \"▾\";}#sk-container-id-3 div.sk-estimator input.sk-toggleable__control:checked~label.sk-toggleable__label {background-color: #d4ebff;}#sk-container-id-3 div.sk-label input.sk-toggleable__control:checked~label.sk-toggleable__label {background-color: #d4ebff;}#sk-container-id-3 input.sk-hidden--visually {border: 0;clip: rect(1px 1px 1px 1px);clip: rect(1px, 1px, 1px, 1px);height: 1px;margin: -1px;overflow: hidden;padding: 0;position: absolute;width: 1px;}#sk-container-id-3 div.sk-estimator {font-family: monospace;background-color: #f0f8ff;border: 1px dotted black;border-radius: 0.25em;box-sizing: border-box;margin-bottom: 0.5em;}#sk-container-id-3 div.sk-estimator:hover {background-color: #d4ebff;}#sk-container-id-3 div.sk-parallel-item::after {content: \"\";width: 100%;border-bottom: 1px solid gray;flex-grow: 1;}#sk-container-id-3 div.sk-label:hover label.sk-toggleable__label {background-color: #d4ebff;}#sk-container-id-3 div.sk-serial::before {content: \"\";position: absolute;border-left: 1px solid gray;box-sizing: border-box;top: 0;bottom: 0;left: 50%;z-index: 0;}#sk-container-id-3 div.sk-serial {display: flex;flex-direction: column;align-items: center;background-color: white;padding-right: 0.2em;padding-left: 0.2em;position: relative;}#sk-container-id-3 div.sk-item {position: relative;z-index: 1;}#sk-container-id-3 div.sk-parallel {display: flex;align-items: stretch;justify-content: center;background-color: white;position: relative;}#sk-container-id-3 div.sk-item::before, #sk-container-id-3 div.sk-parallel-item::before {content: \"\";position: absolute;border-left: 1px solid gray;box-sizing: border-box;top: 0;bottom: 0;left: 50%;z-index: -1;}#sk-container-id-3 div.sk-parallel-item {display: flex;flex-direction: column;z-index: 1;position: relative;background-color: white;}#sk-container-id-3 div.sk-parallel-item:first-child::after {align-self: flex-end;width: 50%;}#sk-container-id-3 div.sk-parallel-item:last-child::after {align-self: flex-start;width: 50%;}#sk-container-id-3 div.sk-parallel-item:only-child::after {width: 0;}#sk-container-id-3 div.sk-dashed-wrapped {border: 1px dashed gray;margin: 0 0.4em 0.5em 0.4em;box-sizing: border-box;padding-bottom: 0.4em;background-color: white;}#sk-container-id-3 div.sk-label label {font-family: monospace;font-weight: bold;display: inline-block;line-height: 1.2em;}#sk-container-id-3 div.sk-label-container {text-align: center;}#sk-container-id-3 div.sk-container {/* jupyter's `normalize.less` sets `[hidden] { display: none; }` but bootstrap.min.css set `[hidden] { display: none !important; }` so we also need the `!important` here to be able to override the default hidden behavior on the sphinx rendered scikit-learn.org. See: https://github.com/scikit-learn/scikit-learn/issues/21755 */display: inline-block !important;position: relative;}#sk-container-id-3 div.sk-text-repr-fallback {display: none;}</style><div id=\"sk-container-id-3\" class=\"sk-top-container\"><div class=\"sk-text-repr-fallback\"><pre>KMeans(n_clusters=5, random_state=42)</pre><b>In a Jupyter environment, please rerun this cell to show the HTML representation or trust the notebook. <br />On GitHub, the HTML representation is unable to render, please try loading this page with nbviewer.org.</b></div><div class=\"sk-container\" hidden><div class=\"sk-item\"><div class=\"sk-estimator sk-toggleable\"><input class=\"sk-toggleable__control sk-hidden--visually\" id=\"sk-estimator-id-3\" type=\"checkbox\" checked><label for=\"sk-estimator-id-3\" class=\"sk-toggleable__label sk-toggleable__label-arrow\">KMeans</label><div class=\"sk-toggleable__content\"><pre>KMeans(n_clusters=5, random_state=42)</pre></div></div></div></div></div>"
            ]
          },
          "metadata": {},
          "execution_count": 53
        }
      ],
      "source": [
        "# Configura y entrena el modelo KMeans con un número especificado de clusters y una semilla aleatoria\n",
        "kmeans = KMeans(n_clusters=5, random_state=42)\n",
        "kmeans.fit(X)"
      ]
    },
    {
      "cell_type": "code",
      "execution_count": null,
      "metadata": {
        "id": "YN9ppxP2-svJ"
      },
      "outputs": [],
      "source": [
        "# Obtiene las etiquetas de cluster asignadas a cada punto de datos\n",
        "labels = kmeans.labels_"
      ]
    },
    {
      "cell_type": "code",
      "execution_count": null,
      "metadata": {
        "id": "_OdYSX9U-xnM"
      },
      "outputs": [],
      "source": [
        "# Crea una copia del DataFrame original para no modificarlo\n",
        "df_original = df.copy()"
      ]
    },
    {
      "cell_type": "code",
      "execution_count": null,
      "metadata": {
        "id": "uZcMux77-z5r"
      },
      "outputs": [],
      "source": [
        "# Asigna las etiquetas de cluster al DataFrame copiado\n",
        "df_original['Cluster'] = labels"
      ]
    },
    {
      "cell_type": "markdown",
      "metadata": {
        "id": "GyBcJ64Q-7Lg"
      },
      "source": [
        "To determinate the optime number for K means clusters"
      ]
    },
    {
      "cell_type": "code",
      "execution_count": null,
      "metadata": {
        "colab": {
          "base_uri": "https://localhost:8080/",
          "height": 621
        },
        "id": "dKCN9nwX_CqJ",
        "outputId": "43977ee8-5a45-467f-ddd1-0a3ecda9e6f7"
      },
      "outputs": [
        {
          "output_type": "stream",
          "name": "stderr",
          "text": [
            "/usr/local/lib/python3.10/dist-packages/sklearn/cluster/_kmeans.py:870: FutureWarning: The default value of `n_init` will change from 10 to 'auto' in 1.4. Set the value of `n_init` explicitly to suppress the warning\n",
            "  warnings.warn(\n"
          ]
        },
        {
          "output_type": "display_data",
          "data": {
            "text/plain": [
              "<Figure size 1000x600 with 1 Axes>"
            ],
            "image/png": "[encoded data removed]"
          },
          "metadata": {}
        }
      ],
      "source": [
        "# Calcula y grafica el método del codo para determinar el número óptimo de clusters\n",
        "wcss = []\n",
        "for i in range(1, 11):\n",
        "    kmeans = KMeans(n_clusters=i, random_state=42)\n",
        "    kmeans.fit(X)\n",
        "    wcss.append(kmeans.inertia_)\n",
        "\n",
        "\n",
        "plt.figure(figsize=(10, 6))\n",
        "plt.plot(range(1, 11), wcss, marker='o', linestyle='--')\n",
        "plt.title('Elbow method')\n",
        "plt.xlabel('Number of clusters')\n",
        "plt.ylabel('WCSS')\n",
        "plt.xticks(range(1, 11))\n",
        "plt.show()"
      ]
    },
    {
      "cell_type": "markdown",
      "metadata": {
        "id": "Ac_05Ho1Bjnh"
      },
      "source": [
        "## Apply K-Means with a specific number of clusters"
      ]
    },
    {
      "cell_type": "code",
      "execution_count": null,
      "metadata": {
        "colab": {
          "base_uri": "https://localhost:8080/",
          "height": 74
        },
        "id": "jiJfI95aBptm",
        "outputId": "2d88be12-7370-43a1-fc49-c87989b20940"
      },
      "outputs": [
        {
          "output_type": "execute_result",
          "data": {
            "text/plain": [
              "KMeans(n_clusters=5, random_state=42)"
            ],
            "text/html": [
              "<style>#sk-container-id-4 {color: black;background-color: white;}#sk-container-id-4 pre{padding: 0;}#sk-container-id-4 div.sk-toggleable {background-color: white;}#sk-container-id-4 label.sk-toggleable__label {cursor: pointer;display: block;width: 100%;margin-bottom: 0;padding: 0.3em;box-sizing: border-box;text-align: center;}#sk-container-id-4 label.sk-toggleable__label-arrow:before {content: \"▸\";float: left;margin-right: 0.25em;color: #696969;}#sk-container-id-4 label.sk-toggleable__label-arrow:hover:before {color: black;}#sk-container-id-4 div.sk-estimator:hover label.sk-toggleable__label-arrow:before {color: black;}#sk-container-id-4 div.sk-toggleable__content {max-height: 0;max-width: 0;overflow: hidden;text-align: left;background-color: #f0f8ff;}#sk-container-id-4 div.sk-toggleable__content pre {margin: 0.2em;color: black;border-radius: 0.25em;background-color: #f0f8ff;}#sk-container-id-4 input.sk-toggleable__control:checked~div.sk-toggleable__content {max-height: 200px;max-width: 100%;overflow: auto;}#sk-container-id-4 input.sk-toggleable__control:checked~label.sk-toggleable__label-arrow:before {content: \"▾\";}#sk-container-id-4 div.sk-estimator input.sk-toggleable__control:checked~label.sk-toggleable__label {background-color: #d4ebff;}#sk-container-id-4 div.sk-label input.sk-toggleable__control:checked~label.sk-toggleable__label {background-color: #d4ebff;}#sk-container-id-4 input.sk-hidden--visually {border: 0;clip: rect(1px 1px 1px 1px);clip: rect(1px, 1px, 1px, 1px);height: 1px;margin: -1px;overflow: hidden;padding: 0;position: absolute;width: 1px;}#sk-container-id-4 div.sk-estimator {font-family: monospace;background-color: #f0f8ff;border: 1px dotted black;border-radius: 0.25em;box-sizing: border-box;margin-bottom: 0.5em;}#sk-container-id-4 div.sk-estimator:hover {background-color: #d4ebff;}#sk-container-id-4 div.sk-parallel-item::after {content: \"\";width: 100%;border-bottom: 1px solid gray;flex-grow: 1;}#sk-container-id-4 div.sk-label:hover label.sk-toggleable__label {background-color: #d4ebff;}#sk-container-id-4 div.sk-serial::before {content: \"\";position: absolute;border-left: 1px solid gray;box-sizing: border-box;top: 0;bottom: 0;left: 50%;z-index: 0;}#sk-container-id-4 div.sk-serial {display: flex;flex-direction: column;align-items: center;background-color: white;padding-right: 0.2em;padding-left: 0.2em;position: relative;}#sk-container-id-4 div.sk-item {position: relative;z-index: 1;}#sk-container-id-4 div.sk-parallel {display: flex;align-items: stretch;justify-content: center;background-color: white;position: relative;}#sk-container-id-4 div.sk-item::before, #sk-container-id-4 div.sk-parallel-item::before {content: \"\";position: absolute;border-left: 1px solid gray;box-sizing: border-box;top: 0;bottom: 0;left: 50%;z-index: -1;}#sk-container-id-4 div.sk-parallel-item {display: flex;flex-direction: column;z-index: 1;position: relative;background-color: white;}#sk-container-id-4 div.sk-parallel-item:first-child::after {align-self: flex-end;width: 50%;}#sk-container-id-4 div.sk-parallel-item:last-child::after {align-self: flex-start;width: 50%;}#sk-container-id-4 div.sk-parallel-item:only-child::after {width: 0;}#sk-container-id-4 div.sk-dashed-wrapped {border: 1px dashed gray;margin: 0 0.4em 0.5em 0.4em;box-sizing: border-box;padding-bottom: 0.4em;background-color: white;}#sk-container-id-4 div.sk-label label {font-family: monospace;font-weight: bold;display: inline-block;line-height: 1.2em;}#sk-container-id-4 div.sk-label-container {text-align: center;}#sk-container-id-4 div.sk-container {/* jupyter's `normalize.less` sets `[hidden] { display: none; }` but bootstrap.min.css set `[hidden] { display: none !important; }` so we also need the `!important` here to be able to override the default hidden behavior on the sphinx rendered scikit-learn.org. See: https://github.com/scikit-learn/scikit-learn/issues/21755 */display: inline-block !important;position: relative;}#sk-container-id-4 div.sk-text-repr-fallback {display: none;}</style><div id=\"sk-container-id-4\" class=\"sk-top-container\"><div class=\"sk-text-repr-fallback\"><pre>KMeans(n_clusters=5, random_state=42)</pre><b>In a Jupyter environment, please rerun this cell to show the HTML representation or trust the notebook. <br />On GitHub, the HTML representation is unable to render, please try loading this page with nbviewer.org.</b></div><div class=\"sk-container\" hidden><div class=\"sk-item\"><div class=\"sk-estimator sk-toggleable\"><input class=\"sk-toggleable__control sk-hidden--visually\" id=\"sk-estimator-id-4\" type=\"checkbox\" checked><label for=\"sk-estimator-id-4\" class=\"sk-toggleable__label sk-toggleable__label-arrow\">KMeans</label><div class=\"sk-toggleable__content\"><pre>KMeans(n_clusters=5, random_state=42)</pre></div></div></div></div></div>"
            ]
          },
          "metadata": {},
          "execution_count": 59
        }
      ],
      "source": [
        "# Inicializa el modelo KMeans con 5 clusters y una semilla aleatoria para reproducibilidad\n",
        "kmeans = KMeans(n_clusters=5, random_state=42)\n",
        "# Ajusta el modelo KMeans al conjunto de datos transformado\n",
        "kmeans.fit(X)"
      ]
    },
    {
      "cell_type": "code",
      "execution_count": null,
      "metadata": {
        "id": "S-txr4qxBzE3"
      },
      "outputs": [],
      "source": [
        "# Obtiene las etiquetas de los clusters asignadas a cada muestra en el conjunto de datos\n",
        "labels = kmeans.labels_"
      ]
    },
    {
      "cell_type": "code",
      "execution_count": null,
      "metadata": {
        "id": "saaaveQJB2lY"
      },
      "outputs": [],
      "source": [
        "# Asigna las etiquetas de clusters obtenidas con K-Means a una nueva columna en el DataFrame original\n",
        "df_original['Cluster'] = labels"
      ]
    },
    {
      "cell_type": "markdown",
      "metadata": {
        "id": "yWMM-V_cB9KR"
      },
      "source": [
        "### Cluster Analysis"
      ]
    },
    {
      "cell_type": "code",
      "execution_count": null,
      "metadata": {
        "colab": {
          "base_uri": "https://localhost:8080/"
        },
        "id": "2ohaThVAB_So",
        "outputId": "6f376149-aed7-48b8-81be-5b560ed7503c"
      },
      "outputs": [
        {
          "output_type": "stream",
          "name": "stdout",
          "text": [
            "0    38064\n",
            "1    37593\n",
            "3    22893\n",
            "4     1447\n",
            "2        2\n",
            "Name: Cluster, dtype: int64\n"
          ]
        }
      ],
      "source": [
        "# Cuenta la cantidad de muestras en cada cluster y las imprime para obtener una idea de la distribución de los clusters\n",
        "cluster_counts = df_original['Cluster'].value_counts()\n",
        "print(cluster_counts)"
      ]
    },
    {
      "cell_type": "code",
      "execution_count": null,
      "metadata": {
        "colab": {
          "base_uri": "https://localhost:8080/"
        },
        "id": "M-Z5g6lsCIM7",
        "outputId": "c411b5de-0e3a-4d8b-9f15-1914badde940"
      },
      "outputs": [
        {
          "output_type": "stream",
          "name": "stdout",
          "text": [
            "               mcodes  trx_dia_cero   trx_dia_uno   trx_dia_dos  \\\n",
            "Cluster                                                           \n",
            "0        3.133705e+08     13.092055     11.675047     14.726907   \n",
            "1        2.623466e+08     15.936318      9.524539     19.469156   \n",
            "2        3.024393e+08  55872.000000  79945.500000  77395.500000   \n",
            "3        3.202989e+08     10.350675     11.377539     13.656402   \n",
            "4        2.685306e+08    100.169316    103.791292    119.612301   \n",
            "\n",
            "          trx_dia_tres  trx_dia_cuatro  trx_dia_cinco  trx_dia_seis  \\\n",
            "Cluster                                                               \n",
            "0            13.397541       11.462721      11.341346      3.529083   \n",
            "1            23.964169       22.106616      21.786849      4.103024   \n",
            "2        111849.000000    81810.000000   78297.000000  79233.000000   \n",
            "3            12.954659       11.106015      10.240729      5.092910   \n",
            "4           119.778162      112.793366     112.343469     77.315826   \n",
            "\n",
            "         trx_mes_tres   trx_mes_dos   trx_mes_uno  prom_mes_tres  \\\n",
            "Cluster                                                            \n",
            "0        2.331603e+02  2.500117e+02  3.670456e+02       2.590670   \n",
            "1        6.073197e+02  5.974183e+02  6.147184e+02       6.747997   \n",
            "2        3.206169e+06  4.192920e+06  2.815712e+06   35624.100000   \n",
            "3        2.516312e+02  2.682407e+02  3.471469e+02       2.795903   \n",
            "4        3.619221e+03  2.899144e+03  4.056771e+03      40.213568   \n",
            "\n",
            "         prom_mes_dos  prom_mes_uno  total_terminales  cantidad_falla_m3  \\\n",
            "Cluster                                                                    \n",
            "0            2.777907      3.946726         14.489071           0.313052   \n",
            "1            6.637981      6.609875         23.456947           0.152050   \n",
            "2        46588.000000  30276.467745          2.000000           0.000000   \n",
            "3            2.980453      3.732762          7.539728           0.497270   \n",
            "4           32.212716     43.621196       1126.290947          18.650311   \n",
            "\n",
            "         cantidad_falla_m2  cantidad_falla_mes1  \n",
            "Cluster                                          \n",
            "0                 0.238414             0.109657  \n",
            "1                 0.100551             0.112388  \n",
            "2                 0.000000             0.000000  \n",
            "3                 0.445944             0.157515  \n",
            "4                 6.531444             5.707671  \n"
          ]
        },
        {
          "output_type": "stream",
          "name": "stderr",
          "text": [
            "<ipython-input-63-0366d4a71a6b>:1: FutureWarning: The default value of numeric_only in DataFrameGroupBy.mean is deprecated. In a future version, numeric_only will default to False. Either specify numeric_only or select only columns which should be valid for the function.\n",
            "  cluster_stats = df_original.groupby('Cluster').mean()\n"
          ]
        }
      ],
      "source": [
        "# Calcula las estadísticas promedio para cada cluster y las imprime, lo cual ayuda a entender las características promedio de cada cluster\n",
        "cluster_stats = df_original.groupby('Cluster').mean()\n",
        "print(cluster_stats)"
      ]
    },
    {
      "cell_type": "markdown",
      "source": [
        "### K Means visualization"
      ],
      "metadata": {
        "id": "S4yh7NIyiL7I"
      }
    },
    {
      "cell_type": "code",
      "source": [
        "# Inicializa PCA para reducir la dimensionalidad a 2 componentes principales, facilitando la visualización de los clusters\n",
        "from sklearn.decomposition import PCA\n",
        "pca = PCA(n_components=2)\n",
        "# Aplica PCA a los datos transformados y los reduce a dos dimensiones\n",
        "reduced_data = pca.fit_transform(X.toarray())\n",
        "\n",
        "# Crea un DataFrame con los datos reducidos y agrega las etiquetas de clusters correspondientes\n",
        "reduced_df = pd.DataFrame(reduced_data, columns=['PC1', 'PC2'])\n",
        "reduced_df['Cluster'] = labels"
      ],
      "metadata": {
        "id": "iC9hRmrqiQin"
      },
      "execution_count": null,
      "outputs": []
    },
    {
      "cell_type": "code",
      "source": [
        "# Configura el estilo de los gráficos con seaborn y prepara un gráfico de dispersión de los componentes principales\n",
        "import matplotlib.pyplot as plt\n",
        "import seaborn as sns\n",
        "sns.set(style='whitegrid', palette='muted')\n",
        "\n",
        "plt.figure(figsize=(10, 8))\n",
        "sns.scatterplot(x='PC1', y='PC2', hue='Cluster', data=reduced_df, palette='viridis', alpha=0.7)\n",
        "\n",
        "# Añade un título y etiquetas para los ejes al gráfico, proporcionando contexto sobre la visualización\n",
        "plt.title('Cluster visualization K-Means with PCA')\n",
        "plt.xlabel('Main component 1')\n",
        "plt.ylabel('Main component 2')\n",
        "\n",
        "# Muestra el gráfico, lo cual permite visualizar cómo se distribuyen los clusters en un espacio de dos dimensiones\n",
        "plt.show()"
      ],
      "metadata": {
        "colab": {
          "base_uri": "https://localhost:8080/",
          "height": 727
        },
        "id": "RLsIWhrnihA_",
        "outputId": "2712a885-9b03-4ce2-8d11-1c543709ad89"
      },
      "execution_count": null,
      "outputs": [
        {
          "output_type": "display_data",
          "data": {
            "text/plain": [
              "<Figure size 1000x800 with 1 Axes>"
            ],
            "image/png": "[encoded data removed]"
          },
          "metadata": {}
        }
      ]
    },
    {
      "cell_type": "markdown",
      "metadata": {
        "id": "SGUEGp0VFDuX"
      },
      "source": [
        "## Clusters evaluation"
      ]
    },
    {
      "cell_type": "code",
      "execution_count": null,
      "metadata": {
        "colab": {
          "base_uri": "https://localhost:8080/"
        },
        "id": "Wga6N-mCFrFm",
        "outputId": "c4e41de2-4b0f-40e6-eb71-3140ca864f8f"
      },
      "outputs": [
        {
          "output_type": "stream",
          "name": "stdout",
          "text": [
            "El coeficiente de silueta promedio para los clusters es: 0.24525423630769355\n"
          ]
        }
      ],
      "source": [
        "# Calcula el coeficiente de silueta promedio para los clusters, que es una medida de cuán similar es una muestra a su propio cluster en comparación con otros clusters\n",
        "from sklearn.metrics import silhouette_score\n",
        "silhouette_avg = silhouette_score(X, labels)\n",
        "# Imprime el coeficiente de silueta promedio, proporcionando una idea de la calidad de la agrupación realizada\n",
        "print(f\"El coeficiente de silueta promedio para los clusters es: {silhouette_avg}\")"
      ]
    }
  ],
  "metadata": {
    "colab": {
      "provenance": [],
      "authorship_tag": "ABX9TyNxXdNO4uQCpswTxC4k34pf",
      "include_colab_link": true
    },
    "kernelspec": {
      "display_name": "Python 3",
      "name": "python3"
    },
    "language_info": {
      "name": "python"
    }
  },
  "nbformat": 4,
  "nbformat_minor": 0
}