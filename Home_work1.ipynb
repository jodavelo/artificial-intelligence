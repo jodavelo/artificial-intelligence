{
  "nbformat": 4,
  "nbformat_minor": 0,
  "metadata": {
    "colab": {
      "provenance": [],
      "gpuType": "T4",
      "authorship_tag": "ABX9TyNkpasb0PJo+6XQXkUpr2Bj",
      "include_colab_link": true
    },
    "kernelspec": {
      "name": "python3",
      "display_name": "Python 3"
    },
    "language_info": {
      "name": "python"
    },
    "accelerator": "GPU"
  },
  "cells": [
    {
      "cell_type": "markdown",
      "metadata": {
        "id": "view-in-github",
        "colab_type": "text"
      },
      "source": [
        "<a href=\"https://colab.research.google.com/github/jodavelo/artificial-intelligence/blob/main/Home_work1.ipynb\" target=\"_parent\"><img src=\"https://colab.research.google.com/assets/colab-badge.svg\" alt=\"Open In Colab\"/></a>"
      ]
    },
    {
      "cell_type": "code",
      "execution_count": null,
      "metadata": {
        "colab": {
          "base_uri": "https://localhost:8080/"
        },
        "id": "7x82HHmzbaZ7",
        "outputId": "ad013129-cbb1-49d0-fd27-33f38d2f634b"
      },
      "outputs": [
        {
          "output_type": "stream",
          "name": "stdout",
          "text": [
            "Drive already mounted at /content/gdrive; to attempt to forcibly remount, call drive.mount(\"/content/gdrive\", force_remount=True).\n"
          ]
        }
      ],
      "source": [
        "from google.colab import drive\n",
        "drive.mount('/content/gdrive')"
      ]
    },
    {
      "cell_type": "markdown",
      "source": [
        "Import all the necesary libraries and Classifiers"
      ],
      "metadata": {
        "id": "nobqoAornmt6"
      }
    },
    {
      "cell_type": "code",
      "source": [
        "import pandas as pd\n",
        "import numpy as np\n",
        "import matplotlib.pyplot as plt\n",
        "import seaborn as sns\n",
        "plt.style.use('fivethirtyeight')\n",
        "import warnings\n",
        "warnings.filterwarnings('ignore')\n",
        "import nltk\n",
        "import re\n",
        "from nltk.stem import PorterStemmer\n",
        "from nltk.stem import WordNetLemmatizer\n",
        "from nltk.corpus import stopwords\n",
        "nltk.download('punkt')\n",
        "nltk.download('stopwords')\n",
        "nltk.download('wordnet')\n",
        "from sklearn.preprocessing import LabelEncoder\n",
        "from sklearn.feature_extraction.text import CountVectorizer\n",
        "from sklearn.feature_extraction.text import TfidfVectorizer\n",
        "from sklearn.model_selection import train_test_split\n",
        "from sklearn.naive_bayes import GaussianNB\n",
        "from xgboost import XGBClassifier\n",
        "from lightgbm import LGBMClassifier\n",
        "from sklearn.metrics import accuracy_score\n",
        "from sklearn.metrics import confusion_matrix\n",
        "from sklearn.metrics import classification_report\n",
        "from sklearn.model_selection import GridSearchCV\n",
        "from nltk.tokenize import word_tokenize"
      ],
      "metadata": {
        "colab": {
          "base_uri": "https://localhost:8080/"
        },
        "id": "y-kYPYLGnrsP",
        "outputId": "2c602bb3-9ba6-4dda-eb2a-e90aaec9c1ff"
      },
      "execution_count": null,
      "outputs": [
        {
          "output_type": "stream",
          "name": "stderr",
          "text": [
            "[nltk_data] Downloading package punkt to /root/nltk_data...\n",
            "[nltk_data]   Unzipping tokenizers/punkt.zip.\n",
            "[nltk_data] Downloading package stopwords to /root/nltk_data...\n",
            "[nltk_data]   Unzipping corpora/stopwords.zip.\n",
            "[nltk_data] Downloading package wordnet to /root/nltk_data...\n"
          ]
        }
      ]
    },
    {
      "cell_type": "code",
      "source": [
        "data = pd.read_csv('/content/gdrive/My Drive/Master/IA/DeepLearning/Homework1/gender-classifier-DFE-791531.csv',encoding='latin1')"
      ],
      "metadata": {
        "id": "upCgkoZmn00n"
      },
      "execution_count": null,
      "outputs": []
    },
    {
      "cell_type": "markdown",
      "source": [
        "Data Exploration"
      ],
      "metadata": {
        "id": "gsJ7hylFoEzi"
      }
    },
    {
      "cell_type": "code",
      "source": [
        "data.head()"
      ],
      "metadata": {
        "colab": {
          "base_uri": "https://localhost:8080/",
          "height": 516
        },
        "id": "y8d_yAx5oGCB",
        "outputId": "dd815f11-dfd1-4fcb-a4d7-42b7d778c7ae"
      },
      "execution_count": null,
      "outputs": [
        {
          "output_type": "execute_result",
          "data": {
            "text/plain": [
              "    _unit_id  _golden _unit_state  _trusted_judgments _last_judgment_at  \\\n",
              "0  815719226    False   finalized                   3    10/26/15 23:24   \n",
              "1  815719227    False   finalized                   3    10/26/15 23:30   \n",
              "2  815719228    False   finalized                   3    10/26/15 23:33   \n",
              "3  815719229    False   finalized                   3    10/26/15 23:10   \n",
              "4  815719230    False   finalized                   3     10/27/15 1:15   \n",
              "\n",
              "   gender  gender:confidence profile_yn  profile_yn:confidence  \\\n",
              "0    male             1.0000        yes                    1.0   \n",
              "1    male             1.0000        yes                    1.0   \n",
              "2    male             0.6625        yes                    1.0   \n",
              "3    male             1.0000        yes                    1.0   \n",
              "4  female             1.0000        yes                    1.0   \n",
              "\n",
              "          created  ...                                       profileimage  \\\n",
              "0    12/5/13 1:48  ...  https://pbs.twimg.com/profile_images/414342229...   \n",
              "1   10/1/12 13:51  ...  https://pbs.twimg.com/profile_images/539604221...   \n",
              "2  11/28/14 11:30  ...  https://pbs.twimg.com/profile_images/657330418...   \n",
              "3   6/11/09 22:39  ...  https://pbs.twimg.com/profile_images/259703936...   \n",
              "4   4/16/14 13:23  ...  https://pbs.twimg.com/profile_images/564094871...   \n",
              "\n",
              "   retweet_count sidebar_color  \\\n",
              "0              0        FFFFFF   \n",
              "1              0        C0DEED   \n",
              "2              1        C0DEED   \n",
              "3              0        C0DEED   \n",
              "4              0             0   \n",
              "\n",
              "                                                text tweet_coord tweet_count  \\\n",
              "0  Robbie E Responds To Critics After Win Against...         NaN      110964   \n",
              "1  ÛÏIt felt like they were my friends and I was...         NaN        7471   \n",
              "2  i absolutely adore when louis starts the songs...         NaN        5617   \n",
              "3  Hi @JordanSpieth - Looking at the url - do you...         NaN        1693   \n",
              "4  Watching Neighbours on Sky+ catching up with t...         NaN       31462   \n",
              "\n",
              "    tweet_created      tweet_id   tweet_location               user_timezone  \n",
              "0  10/26/15 12:40  6.587300e+17  main; @Kan1shk3                     Chennai  \n",
              "1  10/26/15 12:40  6.587300e+17              NaN  Eastern Time (US & Canada)  \n",
              "2  10/26/15 12:40  6.587300e+17           clcncl                    Belgrade  \n",
              "3  10/26/15 12:40  6.587300e+17    Palo Alto, CA  Pacific Time (US & Canada)  \n",
              "4  10/26/15 12:40  6.587300e+17              NaN                         NaN  \n",
              "\n",
              "[5 rows x 26 columns]"
            ],
            "text/html": [
              "\n",
              "  <div id=\"df-02023e71-ce55-4dc4-908d-0dbdef503e39\" class=\"colab-df-container\">\n",
              "    <div>\n",
              "<style scoped>\n",
              "    .dataframe tbody tr th:only-of-type {\n",
              "        vertical-align: middle;\n",
              "    }\n",
              "\n",
              "    .dataframe tbody tr th {\n",
              "        vertical-align: top;\n",
              "    }\n",
              "\n",
              "    .dataframe thead th {\n",
              "        text-align: right;\n",
              "    }\n",
              "</style>\n",
              "<table border=\"1\" class=\"dataframe\">\n",
              "  <thead>\n",
              "    <tr style=\"text-align: right;\">\n",
              "      <th></th>\n",
              "      <th>_unit_id</th>\n",
              "      <th>_golden</th>\n",
              "      <th>_unit_state</th>\n",
              "      <th>_trusted_judgments</th>\n",
              "      <th>_last_judgment_at</th>\n",
              "      <th>gender</th>\n",
              "      <th>gender:confidence</th>\n",
              "      <th>profile_yn</th>\n",
              "      <th>profile_yn:confidence</th>\n",
              "      <th>created</th>\n",
              "      <th>...</th>\n",
              "      <th>profileimage</th>\n",
              "      <th>retweet_count</th>\n",
              "      <th>sidebar_color</th>\n",
              "      <th>text</th>\n",
              "      <th>tweet_coord</th>\n",
              "      <th>tweet_count</th>\n",
              "      <th>tweet_created</th>\n",
              "      <th>tweet_id</th>\n",
              "      <th>tweet_location</th>\n",
              "      <th>user_timezone</th>\n",
              "    </tr>\n",
              "  </thead>\n",
              "  <tbody>\n",
              "    <tr>\n",
              "      <th>0</th>\n",
              "      <td>815719226</td>\n",
              "      <td>False</td>\n",
              "      <td>finalized</td>\n",
              "      <td>3</td>\n",
              "      <td>10/26/15 23:24</td>\n",
              "      <td>male</td>\n",
              "      <td>1.0000</td>\n",
              "      <td>yes</td>\n",
              "      <td>1.0</td>\n",
              "      <td>12/5/13 1:48</td>\n",
              "      <td>...</td>\n",
              "      <td>https://pbs.twimg.com/profile_images/414342229...</td>\n",
              "      <td>0</td>\n",
              "      <td>FFFFFF</td>\n",
              "      <td>Robbie E Responds To Critics After Win Against...</td>\n",
              "      <td>NaN</td>\n",
              "      <td>110964</td>\n",
              "      <td>10/26/15 12:40</td>\n",
              "      <td>6.587300e+17</td>\n",
              "      <td>main; @Kan1shk3</td>\n",
              "      <td>Chennai</td>\n",
              "    </tr>\n",
              "    <tr>\n",
              "      <th>1</th>\n",
              "      <td>815719227</td>\n",
              "      <td>False</td>\n",
              "      <td>finalized</td>\n",
              "      <td>3</td>\n",
              "      <td>10/26/15 23:30</td>\n",
              "      <td>male</td>\n",
              "      <td>1.0000</td>\n",
              "      <td>yes</td>\n",
              "      <td>1.0</td>\n",
              "      <td>10/1/12 13:51</td>\n",
              "      <td>...</td>\n",
              "      <td>https://pbs.twimg.com/profile_images/539604221...</td>\n",
              "      <td>0</td>\n",
              "      <td>C0DEED</td>\n",
              "      <td>ÛÏIt felt like they were my friends and I was...</td>\n",
              "      <td>NaN</td>\n",
              "      <td>7471</td>\n",
              "      <td>10/26/15 12:40</td>\n",
              "      <td>6.587300e+17</td>\n",
              "      <td>NaN</td>\n",
              "      <td>Eastern Time (US &amp; Canada)</td>\n",
              "    </tr>\n",
              "    <tr>\n",
              "      <th>2</th>\n",
              "      <td>815719228</td>\n",
              "      <td>False</td>\n",
              "      <td>finalized</td>\n",
              "      <td>3</td>\n",
              "      <td>10/26/15 23:33</td>\n",
              "      <td>male</td>\n",
              "      <td>0.6625</td>\n",
              "      <td>yes</td>\n",
              "      <td>1.0</td>\n",
              "      <td>11/28/14 11:30</td>\n",
              "      <td>...</td>\n",
              "      <td>https://pbs.twimg.com/profile_images/657330418...</td>\n",
              "      <td>1</td>\n",
              "      <td>C0DEED</td>\n",
              "      <td>i absolutely adore when louis starts the songs...</td>\n",
              "      <td>NaN</td>\n",
              "      <td>5617</td>\n",
              "      <td>10/26/15 12:40</td>\n",
              "      <td>6.587300e+17</td>\n",
              "      <td>clcncl</td>\n",
              "      <td>Belgrade</td>\n",
              "    </tr>\n",
              "    <tr>\n",
              "      <th>3</th>\n",
              "      <td>815719229</td>\n",
              "      <td>False</td>\n",
              "      <td>finalized</td>\n",
              "      <td>3</td>\n",
              "      <td>10/26/15 23:10</td>\n",
              "      <td>male</td>\n",
              "      <td>1.0000</td>\n",
              "      <td>yes</td>\n",
              "      <td>1.0</td>\n",
              "      <td>6/11/09 22:39</td>\n",
              "      <td>...</td>\n",
              "      <td>https://pbs.twimg.com/profile_images/259703936...</td>\n",
              "      <td>0</td>\n",
              "      <td>C0DEED</td>\n",
              "      <td>Hi @JordanSpieth - Looking at the url - do you...</td>\n",
              "      <td>NaN</td>\n",
              "      <td>1693</td>\n",
              "      <td>10/26/15 12:40</td>\n",
              "      <td>6.587300e+17</td>\n",
              "      <td>Palo Alto, CA</td>\n",
              "      <td>Pacific Time (US &amp; Canada)</td>\n",
              "    </tr>\n",
              "    <tr>\n",
              "      <th>4</th>\n",
              "      <td>815719230</td>\n",
              "      <td>False</td>\n",
              "      <td>finalized</td>\n",
              "      <td>3</td>\n",
              "      <td>10/27/15 1:15</td>\n",
              "      <td>female</td>\n",
              "      <td>1.0000</td>\n",
              "      <td>yes</td>\n",
              "      <td>1.0</td>\n",
              "      <td>4/16/14 13:23</td>\n",
              "      <td>...</td>\n",
              "      <td>https://pbs.twimg.com/profile_images/564094871...</td>\n",
              "      <td>0</td>\n",
              "      <td>0</td>\n",
              "      <td>Watching Neighbours on Sky+ catching up with t...</td>\n",
              "      <td>NaN</td>\n",
              "      <td>31462</td>\n",
              "      <td>10/26/15 12:40</td>\n",
              "      <td>6.587300e+17</td>\n",
              "      <td>NaN</td>\n",
              "      <td>NaN</td>\n",
              "    </tr>\n",
              "  </tbody>\n",
              "</table>\n",
              "<p>5 rows × 26 columns</p>\n",
              "</div>\n",
              "    <div class=\"colab-df-buttons\">\n",
              "\n",
              "  <div class=\"colab-df-container\">\n",
              "    <button class=\"colab-df-convert\" onclick=\"convertToInteractive('df-02023e71-ce55-4dc4-908d-0dbdef503e39')\"\n",
              "            title=\"Convert this dataframe to an interactive table.\"\n",
              "            style=\"display:none;\">\n",
              "\n",
              "  <svg xmlns=\"http://www.w3.org/2000/svg\" height=\"24px\" viewBox=\"0 -960 960 960\">\n",
              "    <path d=\"M120-120v-720h720v720H120Zm60-500h600v-160H180v160Zm220 220h160v-160H400v160Zm0 220h160v-160H400v160ZM180-400h160v-160H180v160Zm440 0h160v-160H620v160ZM180-180h160v-160H180v160Zm440 0h160v-160H620v160Z\"/>\n",
              "  </svg>\n",
              "    </button>\n",
              "\n",
              "  <style>\n",
              "    .colab-df-container {\n",
              "      display:flex;\n",
              "      gap: 12px;\n",
              "    }\n",
              "\n",
              "    .colab-df-convert {\n",
              "      background-color: #E8F0FE;\n",
              "      border: none;\n",
              "      border-radius: 50%;\n",
              "      cursor: pointer;\n",
              "      display: none;\n",
              "      fill: #1967D2;\n",
              "      height: 32px;\n",
              "      padding: 0 0 0 0;\n",
              "      width: 32px;\n",
              "    }\n",
              "\n",
              "    .colab-df-convert:hover {\n",
              "      background-color: #E2EBFA;\n",
              "      box-shadow: 0px 1px 2px rgba(60, 64, 67, 0.3), 0px 1px 3px 1px rgba(60, 64, 67, 0.15);\n",
              "      fill: #174EA6;\n",
              "    }\n",
              "\n",
              "    .colab-df-buttons div {\n",
              "      margin-bottom: 4px;\n",
              "    }\n",
              "\n",
              "    [theme=dark] .colab-df-convert {\n",
              "      background-color: #3B4455;\n",
              "      fill: #D2E3FC;\n",
              "    }\n",
              "\n",
              "    [theme=dark] .colab-df-convert:hover {\n",
              "      background-color: #434B5C;\n",
              "      box-shadow: 0px 1px 3px 1px rgba(0, 0, 0, 0.15);\n",
              "      filter: drop-shadow(0px 1px 2px rgba(0, 0, 0, 0.3));\n",
              "      fill: #FFFFFF;\n",
              "    }\n",
              "  </style>\n",
              "\n",
              "    <script>\n",
              "      const buttonEl =\n",
              "        document.querySelector('#df-02023e71-ce55-4dc4-908d-0dbdef503e39 button.colab-df-convert');\n",
              "      buttonEl.style.display =\n",
              "        google.colab.kernel.accessAllowed ? 'block' : 'none';\n",
              "\n",
              "      async function convertToInteractive(key) {\n",
              "        const element = document.querySelector('#df-02023e71-ce55-4dc4-908d-0dbdef503e39');\n",
              "        const dataTable =\n",
              "          await google.colab.kernel.invokeFunction('convertToInteractive',\n",
              "                                                    [key], {});\n",
              "        if (!dataTable) return;\n",
              "\n",
              "        const docLinkHtml = 'Like what you see? Visit the ' +\n",
              "          '<a target=\"_blank\" href=https://colab.research.google.com/notebooks/data_table.ipynb>data table notebook</a>'\n",
              "          + ' to learn more about interactive tables.';\n",
              "        element.innerHTML = '';\n",
              "        dataTable['output_type'] = 'display_data';\n",
              "        await google.colab.output.renderOutput(dataTable, element);\n",
              "        const docLink = document.createElement('div');\n",
              "        docLink.innerHTML = docLinkHtml;\n",
              "        element.appendChild(docLink);\n",
              "      }\n",
              "    </script>\n",
              "  </div>\n",
              "\n",
              "\n",
              "<div id=\"df-39f9e00e-77ed-4098-9e37-ee9ecad937f8\">\n",
              "  <button class=\"colab-df-quickchart\" onclick=\"quickchart('df-39f9e00e-77ed-4098-9e37-ee9ecad937f8')\"\n",
              "            title=\"Suggest charts\"\n",
              "            style=\"display:none;\">\n",
              "\n",
              "<svg xmlns=\"http://www.w3.org/2000/svg\" height=\"24px\"viewBox=\"0 0 24 24\"\n",
              "     width=\"24px\">\n",
              "    <g>\n",
              "        <path d=\"M19 3H5c-1.1 0-2 .9-2 2v14c0 1.1.9 2 2 2h14c1.1 0 2-.9 2-2V5c0-1.1-.9-2-2-2zM9 17H7v-7h2v7zm4 0h-2V7h2v10zm4 0h-2v-4h2v4z\"/>\n",
              "    </g>\n",
              "</svg>\n",
              "  </button>\n",
              "\n",
              "<style>\n",
              "  .colab-df-quickchart {\n",
              "      --bg-color: #E8F0FE;\n",
              "      --fill-color: #1967D2;\n",
              "      --hover-bg-color: #E2EBFA;\n",
              "      --hover-fill-color: #174EA6;\n",
              "      --disabled-fill-color: #AAA;\n",
              "      --disabled-bg-color: #DDD;\n",
              "  }\n",
              "\n",
              "  [theme=dark] .colab-df-quickchart {\n",
              "      --bg-color: #3B4455;\n",
              "      --fill-color: #D2E3FC;\n",
              "      --hover-bg-color: #434B5C;\n",
              "      --hover-fill-color: #FFFFFF;\n",
              "      --disabled-bg-color: #3B4455;\n",
              "      --disabled-fill-color: #666;\n",
              "  }\n",
              "\n",
              "  .colab-df-quickchart {\n",
              "    background-color: var(--bg-color);\n",
              "    border: none;\n",
              "    border-radius: 50%;\n",
              "    cursor: pointer;\n",
              "    display: none;\n",
              "    fill: var(--fill-color);\n",
              "    height: 32px;\n",
              "    padding: 0;\n",
              "    width: 32px;\n",
              "  }\n",
              "\n",
              "  .colab-df-quickchart:hover {\n",
              "    background-color: var(--hover-bg-color);\n",
              "    box-shadow: 0 1px 2px rgba(60, 64, 67, 0.3), 0 1px 3px 1px rgba(60, 64, 67, 0.15);\n",
              "    fill: var(--button-hover-fill-color);\n",
              "  }\n",
              "\n",
              "  .colab-df-quickchart-complete:disabled,\n",
              "  .colab-df-quickchart-complete:disabled:hover {\n",
              "    background-color: var(--disabled-bg-color);\n",
              "    fill: var(--disabled-fill-color);\n",
              "    box-shadow: none;\n",
              "  }\n",
              "\n",
              "  .colab-df-spinner {\n",
              "    border: 2px solid var(--fill-color);\n",
              "    border-color: transparent;\n",
              "    border-bottom-color: var(--fill-color);\n",
              "    animation:\n",
              "      spin 1s steps(1) infinite;\n",
              "  }\n",
              "\n",
              "  @keyframes spin {\n",
              "    0% {\n",
              "      border-color: transparent;\n",
              "      border-bottom-color: var(--fill-color);\n",
              "      border-left-color: var(--fill-color);\n",
              "    }\n",
              "    20% {\n",
              "      border-color: transparent;\n",
              "      border-left-color: var(--fill-color);\n",
              "      border-top-color: var(--fill-color);\n",
              "    }\n",
              "    30% {\n",
              "      border-color: transparent;\n",
              "      border-left-color: var(--fill-color);\n",
              "      border-top-color: var(--fill-color);\n",
              "      border-right-color: var(--fill-color);\n",
              "    }\n",
              "    40% {\n",
              "      border-color: transparent;\n",
              "      border-right-color: var(--fill-color);\n",
              "      border-top-color: var(--fill-color);\n",
              "    }\n",
              "    60% {\n",
              "      border-color: transparent;\n",
              "      border-right-color: var(--fill-color);\n",
              "    }\n",
              "    80% {\n",
              "      border-color: transparent;\n",
              "      border-right-color: var(--fill-color);\n",
              "      border-bottom-color: var(--fill-color);\n",
              "    }\n",
              "    90% {\n",
              "      border-color: transparent;\n",
              "      border-bottom-color: var(--fill-color);\n",
              "    }\n",
              "  }\n",
              "</style>\n",
              "\n",
              "  <script>\n",
              "    async function quickchart(key) {\n",
              "      const quickchartButtonEl =\n",
              "        document.querySelector('#' + key + ' button');\n",
              "      quickchartButtonEl.disabled = true;  // To prevent multiple clicks.\n",
              "      quickchartButtonEl.classList.add('colab-df-spinner');\n",
              "      try {\n",
              "        const charts = await google.colab.kernel.invokeFunction(\n",
              "            'suggestCharts', [key], {});\n",
              "      } catch (error) {\n",
              "        console.error('Error during call to suggestCharts:', error);\n",
              "      }\n",
              "      quickchartButtonEl.classList.remove('colab-df-spinner');\n",
              "      quickchartButtonEl.classList.add('colab-df-quickchart-complete');\n",
              "    }\n",
              "    (() => {\n",
              "      let quickchartButtonEl =\n",
              "        document.querySelector('#df-39f9e00e-77ed-4098-9e37-ee9ecad937f8 button');\n",
              "      quickchartButtonEl.style.display =\n",
              "        google.colab.kernel.accessAllowed ? 'block' : 'none';\n",
              "    })();\n",
              "  </script>\n",
              "</div>\n",
              "\n",
              "    </div>\n",
              "  </div>\n"
            ],
            "application/vnd.google.colaboratory.intrinsic+json": {
              "type": "dataframe",
              "variable_name": "data"
            }
          },
          "metadata": {},
          "execution_count": 5
        }
      ]
    },
    {
      "cell_type": "code",
      "source": [
        "data.info()"
      ],
      "metadata": {
        "colab": {
          "base_uri": "https://localhost:8080/"
        },
        "id": "Uwf2EEqgoYUO",
        "outputId": "38fb2953-7ca5-40c9-a9b7-dd2c4965c535"
      },
      "execution_count": null,
      "outputs": [
        {
          "output_type": "stream",
          "name": "stdout",
          "text": [
            "<class 'pandas.core.frame.DataFrame'>\n",
            "RangeIndex: 20050 entries, 0 to 20049\n",
            "Data columns (total 26 columns):\n",
            " #   Column                 Non-Null Count  Dtype  \n",
            "---  ------                 --------------  -----  \n",
            " 0   _unit_id               20050 non-null  int64  \n",
            " 1   _golden                20050 non-null  bool   \n",
            " 2   _unit_state            20050 non-null  object \n",
            " 3   _trusted_judgments     20050 non-null  int64  \n",
            " 4   _last_judgment_at      20000 non-null  object \n",
            " 5   gender                 19953 non-null  object \n",
            " 6   gender:confidence      20024 non-null  float64\n",
            " 7   profile_yn             20050 non-null  object \n",
            " 8   profile_yn:confidence  20050 non-null  float64\n",
            " 9   created                20050 non-null  object \n",
            " 10  description            16306 non-null  object \n",
            " 11  fav_number             20050 non-null  int64  \n",
            " 12  gender_gold            50 non-null     object \n",
            " 13  link_color             20050 non-null  object \n",
            " 14  name                   20050 non-null  object \n",
            " 15  profile_yn_gold        50 non-null     object \n",
            " 16  profileimage           20050 non-null  object \n",
            " 17  retweet_count          20050 non-null  int64  \n",
            " 18  sidebar_color          20050 non-null  object \n",
            " 19  text                   20050 non-null  object \n",
            " 20  tweet_coord            159 non-null    object \n",
            " 21  tweet_count            20050 non-null  int64  \n",
            " 22  tweet_created          20050 non-null  object \n",
            " 23  tweet_id               20050 non-null  float64\n",
            " 24  tweet_location         12566 non-null  object \n",
            " 25  user_timezone          12252 non-null  object \n",
            "dtypes: bool(1), float64(3), int64(5), object(17)\n",
            "memory usage: 3.8+ MB\n"
          ]
        }
      ]
    },
    {
      "cell_type": "markdown",
      "source": [
        "Data Cleaning\n",
        "we will be droping the redundant columns from our data"
      ],
      "metadata": {
        "id": "4VW8tFy-oaf_"
      }
    },
    {
      "cell_type": "code",
      "source": [
        "data.drop(['_unit_id','_last_judgment_at','created','fav_number','profileimage','retweet_count','tweet_coord',\n",
        "         '_trusted_judgments', 'tweet_count', 'tweet_created', 'tweet_id', 'tweet_location', 'user_timezone',\n",
        "         '_golden','_unit_state', 'gender_gold', 'link_color', 'name', 'profile_yn_gold', 'sidebar_color',\n",
        "         'profile_yn', 'profile_yn:confidence','gender:confidence'], axis=1, inplace=True)"
      ],
      "metadata": {
        "id": "tSjy8P0oodPF"
      },
      "execution_count": null,
      "outputs": []
    },
    {
      "cell_type": "code",
      "source": [
        "data.head()"
      ],
      "metadata": {
        "colab": {
          "base_uri": "https://localhost:8080/",
          "height": 206
        },
        "id": "Odm3QPnIoiIU",
        "outputId": "ba3e0c6e-1c0d-46a5-be3c-1b76c13daf48"
      },
      "execution_count": null,
      "outputs": [
        {
          "output_type": "execute_result",
          "data": {
            "text/plain": [
              "   gender                                        description  \\\n",
              "0    male                              i sing my own rhythm.   \n",
              "1    male  I'm the author of novels filled with family dr...   \n",
              "2    male                louis whining and squealing and all   \n",
              "3    male  Mobile guy.  49ers, Shazam, Google, Kleiner Pe...   \n",
              "4  female  Ricky Wilson The Best FRONTMAN/Kaiser Chiefs T...   \n",
              "\n",
              "                                                text  \n",
              "0  Robbie E Responds To Critics After Win Against...  \n",
              "1  ÛÏIt felt like they were my friends and I was...  \n",
              "2  i absolutely adore when louis starts the songs...  \n",
              "3  Hi @JordanSpieth - Looking at the url - do you...  \n",
              "4  Watching Neighbours on Sky+ catching up with t...  "
            ],
            "text/html": [
              "\n",
              "  <div id=\"df-3494c517-16a2-4949-bfa7-a6bb69ee48f3\" class=\"colab-df-container\">\n",
              "    <div>\n",
              "<style scoped>\n",
              "    .dataframe tbody tr th:only-of-type {\n",
              "        vertical-align: middle;\n",
              "    }\n",
              "\n",
              "    .dataframe tbody tr th {\n",
              "        vertical-align: top;\n",
              "    }\n",
              "\n",
              "    .dataframe thead th {\n",
              "        text-align: right;\n",
              "    }\n",
              "</style>\n",
              "<table border=\"1\" class=\"dataframe\">\n",
              "  <thead>\n",
              "    <tr style=\"text-align: right;\">\n",
              "      <th></th>\n",
              "      <th>gender</th>\n",
              "      <th>description</th>\n",
              "      <th>text</th>\n",
              "    </tr>\n",
              "  </thead>\n",
              "  <tbody>\n",
              "    <tr>\n",
              "      <th>0</th>\n",
              "      <td>male</td>\n",
              "      <td>i sing my own rhythm.</td>\n",
              "      <td>Robbie E Responds To Critics After Win Against...</td>\n",
              "    </tr>\n",
              "    <tr>\n",
              "      <th>1</th>\n",
              "      <td>male</td>\n",
              "      <td>I'm the author of novels filled with family dr...</td>\n",
              "      <td>ÛÏIt felt like they were my friends and I was...</td>\n",
              "    </tr>\n",
              "    <tr>\n",
              "      <th>2</th>\n",
              "      <td>male</td>\n",
              "      <td>louis whining and squealing and all</td>\n",
              "      <td>i absolutely adore when louis starts the songs...</td>\n",
              "    </tr>\n",
              "    <tr>\n",
              "      <th>3</th>\n",
              "      <td>male</td>\n",
              "      <td>Mobile guy.  49ers, Shazam, Google, Kleiner Pe...</td>\n",
              "      <td>Hi @JordanSpieth - Looking at the url - do you...</td>\n",
              "    </tr>\n",
              "    <tr>\n",
              "      <th>4</th>\n",
              "      <td>female</td>\n",
              "      <td>Ricky Wilson The Best FRONTMAN/Kaiser Chiefs T...</td>\n",
              "      <td>Watching Neighbours on Sky+ catching up with t...</td>\n",
              "    </tr>\n",
              "  </tbody>\n",
              "</table>\n",
              "</div>\n",
              "    <div class=\"colab-df-buttons\">\n",
              "\n",
              "  <div class=\"colab-df-container\">\n",
              "    <button class=\"colab-df-convert\" onclick=\"convertToInteractive('df-3494c517-16a2-4949-bfa7-a6bb69ee48f3')\"\n",
              "            title=\"Convert this dataframe to an interactive table.\"\n",
              "            style=\"display:none;\">\n",
              "\n",
              "  <svg xmlns=\"http://www.w3.org/2000/svg\" height=\"24px\" viewBox=\"0 -960 960 960\">\n",
              "    <path d=\"M120-120v-720h720v720H120Zm60-500h600v-160H180v160Zm220 220h160v-160H400v160Zm0 220h160v-160H400v160ZM180-400h160v-160H180v160Zm440 0h160v-160H620v160ZM180-180h160v-160H180v160Zm440 0h160v-160H620v160Z\"/>\n",
              "  </svg>\n",
              "    </button>\n",
              "\n",
              "  <style>\n",
              "    .colab-df-container {\n",
              "      display:flex;\n",
              "      gap: 12px;\n",
              "    }\n",
              "\n",
              "    .colab-df-convert {\n",
              "      background-color: #E8F0FE;\n",
              "      border: none;\n",
              "      border-radius: 50%;\n",
              "      cursor: pointer;\n",
              "      display: none;\n",
              "      fill: #1967D2;\n",
              "      height: 32px;\n",
              "      padding: 0 0 0 0;\n",
              "      width: 32px;\n",
              "    }\n",
              "\n",
              "    .colab-df-convert:hover {\n",
              "      background-color: #E2EBFA;\n",
              "      box-shadow: 0px 1px 2px rgba(60, 64, 67, 0.3), 0px 1px 3px 1px rgba(60, 64, 67, 0.15);\n",
              "      fill: #174EA6;\n",
              "    }\n",
              "\n",
              "    .colab-df-buttons div {\n",
              "      margin-bottom: 4px;\n",
              "    }\n",
              "\n",
              "    [theme=dark] .colab-df-convert {\n",
              "      background-color: #3B4455;\n",
              "      fill: #D2E3FC;\n",
              "    }\n",
              "\n",
              "    [theme=dark] .colab-df-convert:hover {\n",
              "      background-color: #434B5C;\n",
              "      box-shadow: 0px 1px 3px 1px rgba(0, 0, 0, 0.15);\n",
              "      filter: drop-shadow(0px 1px 2px rgba(0, 0, 0, 0.3));\n",
              "      fill: #FFFFFF;\n",
              "    }\n",
              "  </style>\n",
              "\n",
              "    <script>\n",
              "      const buttonEl =\n",
              "        document.querySelector('#df-3494c517-16a2-4949-bfa7-a6bb69ee48f3 button.colab-df-convert');\n",
              "      buttonEl.style.display =\n",
              "        google.colab.kernel.accessAllowed ? 'block' : 'none';\n",
              "\n",
              "      async function convertToInteractive(key) {\n",
              "        const element = document.querySelector('#df-3494c517-16a2-4949-bfa7-a6bb69ee48f3');\n",
              "        const dataTable =\n",
              "          await google.colab.kernel.invokeFunction('convertToInteractive',\n",
              "                                                    [key], {});\n",
              "        if (!dataTable) return;\n",
              "\n",
              "        const docLinkHtml = 'Like what you see? Visit the ' +\n",
              "          '<a target=\"_blank\" href=https://colab.research.google.com/notebooks/data_table.ipynb>data table notebook</a>'\n",
              "          + ' to learn more about interactive tables.';\n",
              "        element.innerHTML = '';\n",
              "        dataTable['output_type'] = 'display_data';\n",
              "        await google.colab.output.renderOutput(dataTable, element);\n",
              "        const docLink = document.createElement('div');\n",
              "        docLink.innerHTML = docLinkHtml;\n",
              "        element.appendChild(docLink);\n",
              "      }\n",
              "    </script>\n",
              "  </div>\n",
              "\n",
              "\n",
              "<div id=\"df-c1f15514-dd2c-4925-85fd-4a520a9d7125\">\n",
              "  <button class=\"colab-df-quickchart\" onclick=\"quickchart('df-c1f15514-dd2c-4925-85fd-4a520a9d7125')\"\n",
              "            title=\"Suggest charts\"\n",
              "            style=\"display:none;\">\n",
              "\n",
              "<svg xmlns=\"http://www.w3.org/2000/svg\" height=\"24px\"viewBox=\"0 0 24 24\"\n",
              "     width=\"24px\">\n",
              "    <g>\n",
              "        <path d=\"M19 3H5c-1.1 0-2 .9-2 2v14c0 1.1.9 2 2 2h14c1.1 0 2-.9 2-2V5c0-1.1-.9-2-2-2zM9 17H7v-7h2v7zm4 0h-2V7h2v10zm4 0h-2v-4h2v4z\"/>\n",
              "    </g>\n",
              "</svg>\n",
              "  </button>\n",
              "\n",
              "<style>\n",
              "  .colab-df-quickchart {\n",
              "      --bg-color: #E8F0FE;\n",
              "      --fill-color: #1967D2;\n",
              "      --hover-bg-color: #E2EBFA;\n",
              "      --hover-fill-color: #174EA6;\n",
              "      --disabled-fill-color: #AAA;\n",
              "      --disabled-bg-color: #DDD;\n",
              "  }\n",
              "\n",
              "  [theme=dark] .colab-df-quickchart {\n",
              "      --bg-color: #3B4455;\n",
              "      --fill-color: #D2E3FC;\n",
              "      --hover-bg-color: #434B5C;\n",
              "      --hover-fill-color: #FFFFFF;\n",
              "      --disabled-bg-color: #3B4455;\n",
              "      --disabled-fill-color: #666;\n",
              "  }\n",
              "\n",
              "  .colab-df-quickchart {\n",
              "    background-color: var(--bg-color);\n",
              "    border: none;\n",
              "    border-radius: 50%;\n",
              "    cursor: pointer;\n",
              "    display: none;\n",
              "    fill: var(--fill-color);\n",
              "    height: 32px;\n",
              "    padding: 0;\n",
              "    width: 32px;\n",
              "  }\n",
              "\n",
              "  .colab-df-quickchart:hover {\n",
              "    background-color: var(--hover-bg-color);\n",
              "    box-shadow: 0 1px 2px rgba(60, 64, 67, 0.3), 0 1px 3px 1px rgba(60, 64, 67, 0.15);\n",
              "    fill: var(--button-hover-fill-color);\n",
              "  }\n",
              "\n",
              "  .colab-df-quickchart-complete:disabled,\n",
              "  .colab-df-quickchart-complete:disabled:hover {\n",
              "    background-color: var(--disabled-bg-color);\n",
              "    fill: var(--disabled-fill-color);\n",
              "    box-shadow: none;\n",
              "  }\n",
              "\n",
              "  .colab-df-spinner {\n",
              "    border: 2px solid var(--fill-color);\n",
              "    border-color: transparent;\n",
              "    border-bottom-color: var(--fill-color);\n",
              "    animation:\n",
              "      spin 1s steps(1) infinite;\n",
              "  }\n",
              "\n",
              "  @keyframes spin {\n",
              "    0% {\n",
              "      border-color: transparent;\n",
              "      border-bottom-color: var(--fill-color);\n",
              "      border-left-color: var(--fill-color);\n",
              "    }\n",
              "    20% {\n",
              "      border-color: transparent;\n",
              "      border-left-color: var(--fill-color);\n",
              "      border-top-color: var(--fill-color);\n",
              "    }\n",
              "    30% {\n",
              "      border-color: transparent;\n",
              "      border-left-color: var(--fill-color);\n",
              "      border-top-color: var(--fill-color);\n",
              "      border-right-color: var(--fill-color);\n",
              "    }\n",
              "    40% {\n",
              "      border-color: transparent;\n",
              "      border-right-color: var(--fill-color);\n",
              "      border-top-color: var(--fill-color);\n",
              "    }\n",
              "    60% {\n",
              "      border-color: transparent;\n",
              "      border-right-color: var(--fill-color);\n",
              "    }\n",
              "    80% {\n",
              "      border-color: transparent;\n",
              "      border-right-color: var(--fill-color);\n",
              "      border-bottom-color: var(--fill-color);\n",
              "    }\n",
              "    90% {\n",
              "      border-color: transparent;\n",
              "      border-bottom-color: var(--fill-color);\n",
              "    }\n",
              "  }\n",
              "</style>\n",
              "\n",
              "  <script>\n",
              "    async function quickchart(key) {\n",
              "      const quickchartButtonEl =\n",
              "        document.querySelector('#' + key + ' button');\n",
              "      quickchartButtonEl.disabled = true;  // To prevent multiple clicks.\n",
              "      quickchartButtonEl.classList.add('colab-df-spinner');\n",
              "      try {\n",
              "        const charts = await google.colab.kernel.invokeFunction(\n",
              "            'suggestCharts', [key], {});\n",
              "      } catch (error) {\n",
              "        console.error('Error during call to suggestCharts:', error);\n",
              "      }\n",
              "      quickchartButtonEl.classList.remove('colab-df-spinner');\n",
              "      quickchartButtonEl.classList.add('colab-df-quickchart-complete');\n",
              "    }\n",
              "    (() => {\n",
              "      let quickchartButtonEl =\n",
              "        document.querySelector('#df-c1f15514-dd2c-4925-85fd-4a520a9d7125 button');\n",
              "      quickchartButtonEl.style.display =\n",
              "        google.colab.kernel.accessAllowed ? 'block' : 'none';\n",
              "    })();\n",
              "  </script>\n",
              "</div>\n",
              "\n",
              "    </div>\n",
              "  </div>\n"
            ],
            "application/vnd.google.colaboratory.intrinsic+json": {
              "type": "dataframe",
              "variable_name": "data",
              "summary": "{\n  \"name\": \"data\",\n  \"rows\": 20050,\n  \"fields\": [\n    {\n      \"column\": \"gender\",\n      \"properties\": {\n        \"dtype\": \"category\",\n        \"samples\": [\n          \"female\",\n          \"unknown\",\n          \"male\"\n        ],\n        \"num_unique_values\": 4,\n        \"semantic_type\": \"\",\n        \"description\": \"\"\n      }\n    },\n    {\n      \"column\": \"description\",\n      \"properties\": {\n        \"dtype\": \"string\",\n        \"samples\": [\n          \"ORGANIC NOSHABLES & OTHER SUNDRIES ~ MARKETING & PR PRO Instagram: @OrganicExpert \\u0089\\u00cf\\u00e4\\u0095\\u00fc\\u008f:anitamariegriffin@gmail.com\",\n          \"Football fan and gamer https://t.co/AKq4vjBk2K\",\n          \"when niall smiles it's like for a split second everything stops and all of the bad in my life goes away...I'd be nothing without him.\"\n        ],\n        \"num_unique_values\": 15140,\n        \"semantic_type\": \"\",\n        \"description\": \"\"\n      }\n    },\n    {\n      \"column\": \"text\",\n      \"properties\": {\n        \"dtype\": \"string\",\n        \"samples\": [\n          \"And the UHNW Wealth Manager award goes to...Jamie Black @sarasinpartners !  Congratulations #spearsawards\",\n          \"@jdonofficial @thisisheart can you play a-ha on 1 nov for mine and magne f's birthdays pretty please jason? Ta, kati x\",\n          \"@jeremycorbyn @lfi zionists deny stealing land/water/housing and bully those who say they r https://t.co/FebuzJYRAa https://t.co/ZKAL0qd0ts\"\n        ],\n        \"num_unique_values\": 18412,\n        \"semantic_type\": \"\",\n        \"description\": \"\"\n      }\n    }\n  ]\n}"
            }
          },
          "metadata": {},
          "execution_count": 8
        }
      ]
    },
    {
      "cell_type": "markdown",
      "source": [
        "we will check for null values"
      ],
      "metadata": {
        "id": "fwiJLChLorxW"
      }
    },
    {
      "cell_type": "code",
      "source": [
        "data.isna().sum()"
      ],
      "metadata": {
        "colab": {
          "base_uri": "https://localhost:8080/"
        },
        "id": "qCiPgsP0orBC",
        "outputId": "22923cec-8d68-4e0d-c31a-44f74db86dcc"
      },
      "execution_count": null,
      "outputs": [
        {
          "output_type": "execute_result",
          "data": {
            "text/plain": [
              "gender           97\n",
              "description    3744\n",
              "text              0\n",
              "dtype: int64"
            ]
          },
          "metadata": {},
          "execution_count": 9
        }
      ]
    },
    {
      "cell_type": "markdown",
      "source": [
        "Will drop the rows with null values"
      ],
      "metadata": {
        "id": "9KlkIdcmoyE0"
      }
    },
    {
      "cell_type": "code",
      "source": [
        "data.dropna(axis = 0, inplace = True)"
      ],
      "metadata": {
        "id": "00xiGm2nozwS"
      },
      "execution_count": null,
      "outputs": []
    },
    {
      "cell_type": "markdown",
      "source": [
        "Let's count the gender column"
      ],
      "metadata": {
        "id": "TMRY_tjdo-qJ"
      }
    },
    {
      "cell_type": "code",
      "source": [
        "data['gender'].value_counts()"
      ],
      "metadata": {
        "colab": {
          "base_uri": "https://localhost:8080/"
        },
        "id": "2l61xfRQo_8K",
        "outputId": "48e53643-c99a-4f14-dae3-69281f421f2f"
      },
      "execution_count": null,
      "outputs": [
        {
          "output_type": "execute_result",
          "data": {
            "text/plain": [
              "female     5725\n",
              "male       5469\n",
              "brand      4328\n",
              "unknown     702\n",
              "Name: gender, dtype: int64"
            ]
          },
          "metadata": {},
          "execution_count": 11
        }
      ]
    },
    {
      "cell_type": "markdown",
      "source": [
        "we will only keep the male and female variables and drop the others."
      ],
      "metadata": {
        "id": "sP4BKzgfpD0k"
      }
    },
    {
      "cell_type": "code",
      "source": [
        "data = data[(data.gender == 'female') | (data.gender == 'male')]"
      ],
      "metadata": {
        "id": "B-7gw1XwpIR2"
      },
      "execution_count": null,
      "outputs": []
    },
    {
      "cell_type": "markdown",
      "source": [
        "And check the counts again"
      ],
      "metadata": {
        "id": "Fq-iu3P_pND6"
      }
    },
    {
      "cell_type": "code",
      "source": [
        "data['gender'].value_counts()"
      ],
      "metadata": {
        "colab": {
          "base_uri": "https://localhost:8080/"
        },
        "id": "FgCeIDA1pNj5",
        "outputId": "5b8fb2cf-bfbe-41d7-9e63-970e91a6a4c7"
      },
      "execution_count": null,
      "outputs": [
        {
          "output_type": "execute_result",
          "data": {
            "text/plain": [
              "female    5725\n",
              "male      5469\n",
              "Name: gender, dtype: int64"
            ]
          },
          "metadata": {},
          "execution_count": 13
        }
      ]
    },
    {
      "cell_type": "markdown",
      "source": [
        "##Data Preprocessing"
      ],
      "metadata": {
        "id": "kmjn_4AKpU0N"
      }
    },
    {
      "cell_type": "markdown",
      "source": [
        "we will encode male and female category as 1 and 0"
      ],
      "metadata": {
        "id": "OGlxoCS_pXj7"
      }
    },
    {
      "cell_type": "code",
      "source": [
        "for gen in data['gender']:\n",
        "    if gen == 'male':\n",
        "        data['gender'].replace({'male':1}, inplace = True)\n",
        "    elif gen == 'female':\n",
        "        data['gender'].replace({'female':0}, inplace = True)\n",
        "\n",
        "data['gender'].value_counts()"
      ],
      "metadata": {
        "colab": {
          "base_uri": "https://localhost:8080/"
        },
        "id": "JyxSJZIspZEw",
        "outputId": "51979d26-818a-4c8f-f999-2d4c9fc29399"
      },
      "execution_count": null,
      "outputs": [
        {
          "output_type": "execute_result",
          "data": {
            "text/plain": [
              "0    5725\n",
              "1    5469\n",
              "Name: gender, dtype: int64"
            ]
          },
          "metadata": {},
          "execution_count": 14
        }
      ]
    },
    {
      "cell_type": "markdown",
      "source": [
        "**Cleaning Text**"
      ],
      "metadata": {
        "id": "mmxficmbpggU"
      }
    },
    {
      "cell_type": "markdown",
      "source": [
        "we will be cleaning the description column"
      ],
      "metadata": {
        "id": "PMsMZpMjpsht"
      }
    },
    {
      "cell_type": "code",
      "source": [
        "def clean(review):\n",
        "\n",
        "    descrip = re.sub('[^a-zA-Z]', ' ', review)\n",
        "\n",
        "    review = review.lower()\n",
        "    return review\n",
        "\n",
        "data['descrip_cleaned'] = pd.DataFrame(data['description'].apply(lambda x: clean(x)))\n",
        "\n",
        "data.head()"
      ],
      "metadata": {
        "colab": {
          "base_uri": "https://localhost:8080/",
          "height": 206
        },
        "id": "W_JF4XOgptHp",
        "outputId": "a0186bc7-481e-45db-8e82-26300d95ab4f"
      },
      "execution_count": null,
      "outputs": [
        {
          "output_type": "execute_result",
          "data": {
            "text/plain": [
              "   gender                                        description  \\\n",
              "0       1                              i sing my own rhythm.   \n",
              "1       1  I'm the author of novels filled with family dr...   \n",
              "2       1                louis whining and squealing and all   \n",
              "3       1  Mobile guy.  49ers, Shazam, Google, Kleiner Pe...   \n",
              "4       0  Ricky Wilson The Best FRONTMAN/Kaiser Chiefs T...   \n",
              "\n",
              "                                                text  \\\n",
              "0  Robbie E Responds To Critics After Win Against...   \n",
              "1  ÛÏIt felt like they were my friends and I was...   \n",
              "2  i absolutely adore when louis starts the songs...   \n",
              "3  Hi @JordanSpieth - Looking at the url - do you...   \n",
              "4  Watching Neighbours on Sky+ catching up with t...   \n",
              "\n",
              "                                     descrip_cleaned  \n",
              "0                              i sing my own rhythm.  \n",
              "1  i'm the author of novels filled with family dr...  \n",
              "2                louis whining and squealing and all  \n",
              "3  mobile guy.  49ers, shazam, google, kleiner pe...  \n",
              "4  ricky wilson the best frontman/kaiser chiefs t...  "
            ],
            "text/html": [
              "\n",
              "  <div id=\"df-9ec5a7cf-f568-4472-809e-814256c91d23\" class=\"colab-df-container\">\n",
              "    <div>\n",
              "<style scoped>\n",
              "    .dataframe tbody tr th:only-of-type {\n",
              "        vertical-align: middle;\n",
              "    }\n",
              "\n",
              "    .dataframe tbody tr th {\n",
              "        vertical-align: top;\n",
              "    }\n",
              "\n",
              "    .dataframe thead th {\n",
              "        text-align: right;\n",
              "    }\n",
              "</style>\n",
              "<table border=\"1\" class=\"dataframe\">\n",
              "  <thead>\n",
              "    <tr style=\"text-align: right;\">\n",
              "      <th></th>\n",
              "      <th>gender</th>\n",
              "      <th>description</th>\n",
              "      <th>text</th>\n",
              "      <th>descrip_cleaned</th>\n",
              "    </tr>\n",
              "  </thead>\n",
              "  <tbody>\n",
              "    <tr>\n",
              "      <th>0</th>\n",
              "      <td>1</td>\n",
              "      <td>i sing my own rhythm.</td>\n",
              "      <td>Robbie E Responds To Critics After Win Against...</td>\n",
              "      <td>i sing my own rhythm.</td>\n",
              "    </tr>\n",
              "    <tr>\n",
              "      <th>1</th>\n",
              "      <td>1</td>\n",
              "      <td>I'm the author of novels filled with family dr...</td>\n",
              "      <td>ÛÏIt felt like they were my friends and I was...</td>\n",
              "      <td>i'm the author of novels filled with family dr...</td>\n",
              "    </tr>\n",
              "    <tr>\n",
              "      <th>2</th>\n",
              "      <td>1</td>\n",
              "      <td>louis whining and squealing and all</td>\n",
              "      <td>i absolutely adore when louis starts the songs...</td>\n",
              "      <td>louis whining and squealing and all</td>\n",
              "    </tr>\n",
              "    <tr>\n",
              "      <th>3</th>\n",
              "      <td>1</td>\n",
              "      <td>Mobile guy.  49ers, Shazam, Google, Kleiner Pe...</td>\n",
              "      <td>Hi @JordanSpieth - Looking at the url - do you...</td>\n",
              "      <td>mobile guy.  49ers, shazam, google, kleiner pe...</td>\n",
              "    </tr>\n",
              "    <tr>\n",
              "      <th>4</th>\n",
              "      <td>0</td>\n",
              "      <td>Ricky Wilson The Best FRONTMAN/Kaiser Chiefs T...</td>\n",
              "      <td>Watching Neighbours on Sky+ catching up with t...</td>\n",
              "      <td>ricky wilson the best frontman/kaiser chiefs t...</td>\n",
              "    </tr>\n",
              "  </tbody>\n",
              "</table>\n",
              "</div>\n",
              "    <div class=\"colab-df-buttons\">\n",
              "\n",
              "  <div class=\"colab-df-container\">\n",
              "    <button class=\"colab-df-convert\" onclick=\"convertToInteractive('df-9ec5a7cf-f568-4472-809e-814256c91d23')\"\n",
              "            title=\"Convert this dataframe to an interactive table.\"\n",
              "            style=\"display:none;\">\n",
              "\n",
              "  <svg xmlns=\"http://www.w3.org/2000/svg\" height=\"24px\" viewBox=\"0 -960 960 960\">\n",
              "    <path d=\"M120-120v-720h720v720H120Zm60-500h600v-160H180v160Zm220 220h160v-160H400v160Zm0 220h160v-160H400v160ZM180-400h160v-160H180v160Zm440 0h160v-160H620v160ZM180-180h160v-160H180v160Zm440 0h160v-160H620v160Z\"/>\n",
              "  </svg>\n",
              "    </button>\n",
              "\n",
              "  <style>\n",
              "    .colab-df-container {\n",
              "      display:flex;\n",
              "      gap: 12px;\n",
              "    }\n",
              "\n",
              "    .colab-df-convert {\n",
              "      background-color: #E8F0FE;\n",
              "      border: none;\n",
              "      border-radius: 50%;\n",
              "      cursor: pointer;\n",
              "      display: none;\n",
              "      fill: #1967D2;\n",
              "      height: 32px;\n",
              "      padding: 0 0 0 0;\n",
              "      width: 32px;\n",
              "    }\n",
              "\n",
              "    .colab-df-convert:hover {\n",
              "      background-color: #E2EBFA;\n",
              "      box-shadow: 0px 1px 2px rgba(60, 64, 67, 0.3), 0px 1px 3px 1px rgba(60, 64, 67, 0.15);\n",
              "      fill: #174EA6;\n",
              "    }\n",
              "\n",
              "    .colab-df-buttons div {\n",
              "      margin-bottom: 4px;\n",
              "    }\n",
              "\n",
              "    [theme=dark] .colab-df-convert {\n",
              "      background-color: #3B4455;\n",
              "      fill: #D2E3FC;\n",
              "    }\n",
              "\n",
              "    [theme=dark] .colab-df-convert:hover {\n",
              "      background-color: #434B5C;\n",
              "      box-shadow: 0px 1px 3px 1px rgba(0, 0, 0, 0.15);\n",
              "      filter: drop-shadow(0px 1px 2px rgba(0, 0, 0, 0.3));\n",
              "      fill: #FFFFFF;\n",
              "    }\n",
              "  </style>\n",
              "\n",
              "    <script>\n",
              "      const buttonEl =\n",
              "        document.querySelector('#df-9ec5a7cf-f568-4472-809e-814256c91d23 button.colab-df-convert');\n",
              "      buttonEl.style.display =\n",
              "        google.colab.kernel.accessAllowed ? 'block' : 'none';\n",
              "\n",
              "      async function convertToInteractive(key) {\n",
              "        const element = document.querySelector('#df-9ec5a7cf-f568-4472-809e-814256c91d23');\n",
              "        const dataTable =\n",
              "          await google.colab.kernel.invokeFunction('convertToInteractive',\n",
              "                                                    [key], {});\n",
              "        if (!dataTable) return;\n",
              "\n",
              "        const docLinkHtml = 'Like what you see? Visit the ' +\n",
              "          '<a target=\"_blank\" href=https://colab.research.google.com/notebooks/data_table.ipynb>data table notebook</a>'\n",
              "          + ' to learn more about interactive tables.';\n",
              "        element.innerHTML = '';\n",
              "        dataTable['output_type'] = 'display_data';\n",
              "        await google.colab.output.renderOutput(dataTable, element);\n",
              "        const docLink = document.createElement('div');\n",
              "        docLink.innerHTML = docLinkHtml;\n",
              "        element.appendChild(docLink);\n",
              "      }\n",
              "    </script>\n",
              "  </div>\n",
              "\n",
              "\n",
              "<div id=\"df-fbdaa8dd-6865-4fc4-ad53-d8edb18ab1fd\">\n",
              "  <button class=\"colab-df-quickchart\" onclick=\"quickchart('df-fbdaa8dd-6865-4fc4-ad53-d8edb18ab1fd')\"\n",
              "            title=\"Suggest charts\"\n",
              "            style=\"display:none;\">\n",
              "\n",
              "<svg xmlns=\"http://www.w3.org/2000/svg\" height=\"24px\"viewBox=\"0 0 24 24\"\n",
              "     width=\"24px\">\n",
              "    <g>\n",
              "        <path d=\"M19 3H5c-1.1 0-2 .9-2 2v14c0 1.1.9 2 2 2h14c1.1 0 2-.9 2-2V5c0-1.1-.9-2-2-2zM9 17H7v-7h2v7zm4 0h-2V7h2v10zm4 0h-2v-4h2v4z\"/>\n",
              "    </g>\n",
              "</svg>\n",
              "  </button>\n",
              "\n",
              "<style>\n",
              "  .colab-df-quickchart {\n",
              "      --bg-color: #E8F0FE;\n",
              "      --fill-color: #1967D2;\n",
              "      --hover-bg-color: #E2EBFA;\n",
              "      --hover-fill-color: #174EA6;\n",
              "      --disabled-fill-color: #AAA;\n",
              "      --disabled-bg-color: #DDD;\n",
              "  }\n",
              "\n",
              "  [theme=dark] .colab-df-quickchart {\n",
              "      --bg-color: #3B4455;\n",
              "      --fill-color: #D2E3FC;\n",
              "      --hover-bg-color: #434B5C;\n",
              "      --hover-fill-color: #FFFFFF;\n",
              "      --disabled-bg-color: #3B4455;\n",
              "      --disabled-fill-color: #666;\n",
              "  }\n",
              "\n",
              "  .colab-df-quickchart {\n",
              "    background-color: var(--bg-color);\n",
              "    border: none;\n",
              "    border-radius: 50%;\n",
              "    cursor: pointer;\n",
              "    display: none;\n",
              "    fill: var(--fill-color);\n",
              "    height: 32px;\n",
              "    padding: 0;\n",
              "    width: 32px;\n",
              "  }\n",
              "\n",
              "  .colab-df-quickchart:hover {\n",
              "    background-color: var(--hover-bg-color);\n",
              "    box-shadow: 0 1px 2px rgba(60, 64, 67, 0.3), 0 1px 3px 1px rgba(60, 64, 67, 0.15);\n",
              "    fill: var(--button-hover-fill-color);\n",
              "  }\n",
              "\n",
              "  .colab-df-quickchart-complete:disabled,\n",
              "  .colab-df-quickchart-complete:disabled:hover {\n",
              "    background-color: var(--disabled-bg-color);\n",
              "    fill: var(--disabled-fill-color);\n",
              "    box-shadow: none;\n",
              "  }\n",
              "\n",
              "  .colab-df-spinner {\n",
              "    border: 2px solid var(--fill-color);\n",
              "    border-color: transparent;\n",
              "    border-bottom-color: var(--fill-color);\n",
              "    animation:\n",
              "      spin 1s steps(1) infinite;\n",
              "  }\n",
              "\n",
              "  @keyframes spin {\n",
              "    0% {\n",
              "      border-color: transparent;\n",
              "      border-bottom-color: var(--fill-color);\n",
              "      border-left-color: var(--fill-color);\n",
              "    }\n",
              "    20% {\n",
              "      border-color: transparent;\n",
              "      border-left-color: var(--fill-color);\n",
              "      border-top-color: var(--fill-color);\n",
              "    }\n",
              "    30% {\n",
              "      border-color: transparent;\n",
              "      border-left-color: var(--fill-color);\n",
              "      border-top-color: var(--fill-color);\n",
              "      border-right-color: var(--fill-color);\n",
              "    }\n",
              "    40% {\n",
              "      border-color: transparent;\n",
              "      border-right-color: var(--fill-color);\n",
              "      border-top-color: var(--fill-color);\n",
              "    }\n",
              "    60% {\n",
              "      border-color: transparent;\n",
              "      border-right-color: var(--fill-color);\n",
              "    }\n",
              "    80% {\n",
              "      border-color: transparent;\n",
              "      border-right-color: var(--fill-color);\n",
              "      border-bottom-color: var(--fill-color);\n",
              "    }\n",
              "    90% {\n",
              "      border-color: transparent;\n",
              "      border-bottom-color: var(--fill-color);\n",
              "    }\n",
              "  }\n",
              "</style>\n",
              "\n",
              "  <script>\n",
              "    async function quickchart(key) {\n",
              "      const quickchartButtonEl =\n",
              "        document.querySelector('#' + key + ' button');\n",
              "      quickchartButtonEl.disabled = true;  // To prevent multiple clicks.\n",
              "      quickchartButtonEl.classList.add('colab-df-spinner');\n",
              "      try {\n",
              "        const charts = await google.colab.kernel.invokeFunction(\n",
              "            'suggestCharts', [key], {});\n",
              "      } catch (error) {\n",
              "        console.error('Error during call to suggestCharts:', error);\n",
              "      }\n",
              "      quickchartButtonEl.classList.remove('colab-df-spinner');\n",
              "      quickchartButtonEl.classList.add('colab-df-quickchart-complete');\n",
              "    }\n",
              "    (() => {\n",
              "      let quickchartButtonEl =\n",
              "        document.querySelector('#df-fbdaa8dd-6865-4fc4-ad53-d8edb18ab1fd button');\n",
              "      quickchartButtonEl.style.display =\n",
              "        google.colab.kernel.accessAllowed ? 'block' : 'none';\n",
              "    })();\n",
              "  </script>\n",
              "</div>\n",
              "\n",
              "    </div>\n",
              "  </div>\n"
            ],
            "application/vnd.google.colaboratory.intrinsic+json": {
              "type": "dataframe",
              "variable_name": "data",
              "summary": "{\n  \"name\": \"data\",\n  \"rows\": 11194,\n  \"fields\": [\n    {\n      \"column\": \"gender\",\n      \"properties\": {\n        \"dtype\": \"number\",\n        \"std\": 0,\n        \"min\": 0,\n        \"max\": 1,\n        \"samples\": [\n          0,\n          1\n        ],\n        \"num_unique_values\": 2,\n        \"semantic_type\": \"\",\n        \"description\": \"\"\n      }\n    },\n    {\n      \"column\": \"description\",\n      \"properties\": {\n        \"dtype\": \"string\",\n        \"samples\": [\n          \"Never let adversity dictate ur future endeavors. #teammizzou\",\n          \"I am the managing editor of the Sierra Sun  newspaper in beautiful  North Lake Tahoe and Truckee, Calif. I also dig music, football and a nice whisky to sip.\"\n        ],\n        \"num_unique_values\": 10657,\n        \"semantic_type\": \"\",\n        \"description\": \"\"\n      }\n    },\n    {\n      \"column\": \"text\",\n      \"properties\": {\n        \"dtype\": \"string\",\n        \"samples\": [\n          \"when harry waved at me and some girls....\\n\\n#MadeInTheAM https://t.co/JEL4nxkoDa\",\n          \"What is the craziest thing you've done in public? \\u0089\\u00db\\u00d3 Oh you don't wanna know. https://t.co/eYGEcXs5Zu\"\n        ],\n        \"num_unique_values\": 11130,\n        \"semantic_type\": \"\",\n        \"description\": \"\"\n      }\n    },\n    {\n      \"column\": \"descrip_cleaned\",\n      \"properties\": {\n        \"dtype\": \"string\",\n        \"samples\": [\n          \"sick from the lips, caramel wanna try it? #bafhouse #teamprettypothead the perfect balance between badass and feminie. di hempress -empress;\",\n          \"author of data science 101 blog, married to @swannymom, 5 kids, tweets mostly #datascience and #startups stuff, formerly @swgoof\"\n        ],\n        \"num_unique_values\": 10646,\n        \"semantic_type\": \"\",\n        \"description\": \"\"\n      }\n    }\n  ]\n}"
            }
          },
          "metadata": {},
          "execution_count": 15
        }
      ]
    },
    {
      "cell_type": "code",
      "source": [
        "data['descrip_cleaned'].replace('[@+]', \"\", regex=True,inplace=True)\n",
        "data['descrip_cleaned'].replace('[()]', \"\", regex=True,inplace=True)\n",
        "data['descrip_cleaned'].replace('[#+]', \"\", regex=True,inplace=True)\n",
        "url_regex = '''(?i)\\b((?:https?://|www\\d{0,3}[.]|[a-z0-9.\\-]+[.][a-z]{2,4}/)(?:[^\\s()<>]+|\\(([^\\s()<>]+|(\\([^\\s()<>]+\\)))*\\))+(?:\\(([^\\s()<>]+|(\\([^\\s()<>]+\\)))*\\)|[^\\s`!()\\[\\]{};:'\".,<>?«»“”‘’]))'''\n",
        "data['descrip_cleaned'] = data['descrip_cleaned'].replace(url_regex, \"\", regex=True)"
      ],
      "metadata": {
        "id": "gLUnJa-0p8t8"
      },
      "execution_count": null,
      "outputs": []
    },
    {
      "cell_type": "code",
      "source": [
        "data.head()"
      ],
      "metadata": {
        "colab": {
          "base_uri": "https://localhost:8080/",
          "height": 206
        },
        "id": "QLvEWQgXp_jK",
        "outputId": "b7412a22-52fc-4702-f6ad-ba6f7d62051c"
      },
      "execution_count": null,
      "outputs": [
        {
          "output_type": "execute_result",
          "data": {
            "text/plain": [
              "   gender                                        description  \\\n",
              "0       1                              i sing my own rhythm.   \n",
              "1       1  I'm the author of novels filled with family dr...   \n",
              "2       1                louis whining and squealing and all   \n",
              "3       1  Mobile guy.  49ers, Shazam, Google, Kleiner Pe...   \n",
              "4       0  Ricky Wilson The Best FRONTMAN/Kaiser Chiefs T...   \n",
              "\n",
              "                                                text  \\\n",
              "0  Robbie E Responds To Critics After Win Against...   \n",
              "1  ÛÏIt felt like they were my friends and I was...   \n",
              "2  i absolutely adore when louis starts the songs...   \n",
              "3  Hi @JordanSpieth - Looking at the url - do you...   \n",
              "4  Watching Neighbours on Sky+ catching up with t...   \n",
              "\n",
              "                                     descrip_cleaned  \n",
              "0                              i sing my own rhythm.  \n",
              "1  i'm the author of novels filled with family dr...  \n",
              "2                louis whining and squealing and all  \n",
              "3  mobile guy.  49ers, shazam, google, kleiner pe...  \n",
              "4  ricky wilson the best frontman/kaiser chiefs t...  "
            ],
            "text/html": [
              "\n",
              "  <div id=\"df-3ebb8600-dc09-4522-b7a2-ac9c459f6519\" class=\"colab-df-container\">\n",
              "    <div>\n",
              "<style scoped>\n",
              "    .dataframe tbody tr th:only-of-type {\n",
              "        vertical-align: middle;\n",
              "    }\n",
              "\n",
              "    .dataframe tbody tr th {\n",
              "        vertical-align: top;\n",
              "    }\n",
              "\n",
              "    .dataframe thead th {\n",
              "        text-align: right;\n",
              "    }\n",
              "</style>\n",
              "<table border=\"1\" class=\"dataframe\">\n",
              "  <thead>\n",
              "    <tr style=\"text-align: right;\">\n",
              "      <th></th>\n",
              "      <th>gender</th>\n",
              "      <th>description</th>\n",
              "      <th>text</th>\n",
              "      <th>descrip_cleaned</th>\n",
              "    </tr>\n",
              "  </thead>\n",
              "  <tbody>\n",
              "    <tr>\n",
              "      <th>0</th>\n",
              "      <td>1</td>\n",
              "      <td>i sing my own rhythm.</td>\n",
              "      <td>Robbie E Responds To Critics After Win Against...</td>\n",
              "      <td>i sing my own rhythm.</td>\n",
              "    </tr>\n",
              "    <tr>\n",
              "      <th>1</th>\n",
              "      <td>1</td>\n",
              "      <td>I'm the author of novels filled with family dr...</td>\n",
              "      <td>ÛÏIt felt like they were my friends and I was...</td>\n",
              "      <td>i'm the author of novels filled with family dr...</td>\n",
              "    </tr>\n",
              "    <tr>\n",
              "      <th>2</th>\n",
              "      <td>1</td>\n",
              "      <td>louis whining and squealing and all</td>\n",
              "      <td>i absolutely adore when louis starts the songs...</td>\n",
              "      <td>louis whining and squealing and all</td>\n",
              "    </tr>\n",
              "    <tr>\n",
              "      <th>3</th>\n",
              "      <td>1</td>\n",
              "      <td>Mobile guy.  49ers, Shazam, Google, Kleiner Pe...</td>\n",
              "      <td>Hi @JordanSpieth - Looking at the url - do you...</td>\n",
              "      <td>mobile guy.  49ers, shazam, google, kleiner pe...</td>\n",
              "    </tr>\n",
              "    <tr>\n",
              "      <th>4</th>\n",
              "      <td>0</td>\n",
              "      <td>Ricky Wilson The Best FRONTMAN/Kaiser Chiefs T...</td>\n",
              "      <td>Watching Neighbours on Sky+ catching up with t...</td>\n",
              "      <td>ricky wilson the best frontman/kaiser chiefs t...</td>\n",
              "    </tr>\n",
              "  </tbody>\n",
              "</table>\n",
              "</div>\n",
              "    <div class=\"colab-df-buttons\">\n",
              "\n",
              "  <div class=\"colab-df-container\">\n",
              "    <button class=\"colab-df-convert\" onclick=\"convertToInteractive('df-3ebb8600-dc09-4522-b7a2-ac9c459f6519')\"\n",
              "            title=\"Convert this dataframe to an interactive table.\"\n",
              "            style=\"display:none;\">\n",
              "\n",
              "  <svg xmlns=\"http://www.w3.org/2000/svg\" height=\"24px\" viewBox=\"0 -960 960 960\">\n",
              "    <path d=\"M120-120v-720h720v720H120Zm60-500h600v-160H180v160Zm220 220h160v-160H400v160Zm0 220h160v-160H400v160ZM180-400h160v-160H180v160Zm440 0h160v-160H620v160ZM180-180h160v-160H180v160Zm440 0h160v-160H620v160Z\"/>\n",
              "  </svg>\n",
              "    </button>\n",
              "\n",
              "  <style>\n",
              "    .colab-df-container {\n",
              "      display:flex;\n",
              "      gap: 12px;\n",
              "    }\n",
              "\n",
              "    .colab-df-convert {\n",
              "      background-color: #E8F0FE;\n",
              "      border: none;\n",
              "      border-radius: 50%;\n",
              "      cursor: pointer;\n",
              "      display: none;\n",
              "      fill: #1967D2;\n",
              "      height: 32px;\n",
              "      padding: 0 0 0 0;\n",
              "      width: 32px;\n",
              "    }\n",
              "\n",
              "    .colab-df-convert:hover {\n",
              "      background-color: #E2EBFA;\n",
              "      box-shadow: 0px 1px 2px rgba(60, 64, 67, 0.3), 0px 1px 3px 1px rgba(60, 64, 67, 0.15);\n",
              "      fill: #174EA6;\n",
              "    }\n",
              "\n",
              "    .colab-df-buttons div {\n",
              "      margin-bottom: 4px;\n",
              "    }\n",
              "\n",
              "    [theme=dark] .colab-df-convert {\n",
              "      background-color: #3B4455;\n",
              "      fill: #D2E3FC;\n",
              "    }\n",
              "\n",
              "    [theme=dark] .colab-df-convert:hover {\n",
              "      background-color: #434B5C;\n",
              "      box-shadow: 0px 1px 3px 1px rgba(0, 0, 0, 0.15);\n",
              "      filter: drop-shadow(0px 1px 2px rgba(0, 0, 0, 0.3));\n",
              "      fill: #FFFFFF;\n",
              "    }\n",
              "  </style>\n",
              "\n",
              "    <script>\n",
              "      const buttonEl =\n",
              "        document.querySelector('#df-3ebb8600-dc09-4522-b7a2-ac9c459f6519 button.colab-df-convert');\n",
              "      buttonEl.style.display =\n",
              "        google.colab.kernel.accessAllowed ? 'block' : 'none';\n",
              "\n",
              "      async function convertToInteractive(key) {\n",
              "        const element = document.querySelector('#df-3ebb8600-dc09-4522-b7a2-ac9c459f6519');\n",
              "        const dataTable =\n",
              "          await google.colab.kernel.invokeFunction('convertToInteractive',\n",
              "                                                    [key], {});\n",
              "        if (!dataTable) return;\n",
              "\n",
              "        const docLinkHtml = 'Like what you see? Visit the ' +\n",
              "          '<a target=\"_blank\" href=https://colab.research.google.com/notebooks/data_table.ipynb>data table notebook</a>'\n",
              "          + ' to learn more about interactive tables.';\n",
              "        element.innerHTML = '';\n",
              "        dataTable['output_type'] = 'display_data';\n",
              "        await google.colab.output.renderOutput(dataTable, element);\n",
              "        const docLink = document.createElement('div');\n",
              "        docLink.innerHTML = docLinkHtml;\n",
              "        element.appendChild(docLink);\n",
              "      }\n",
              "    </script>\n",
              "  </div>\n",
              "\n",
              "\n",
              "<div id=\"df-d3b68bdf-3adf-4ec0-aeb5-8f6ba823c5a5\">\n",
              "  <button class=\"colab-df-quickchart\" onclick=\"quickchart('df-d3b68bdf-3adf-4ec0-aeb5-8f6ba823c5a5')\"\n",
              "            title=\"Suggest charts\"\n",
              "            style=\"display:none;\">\n",
              "\n",
              "<svg xmlns=\"http://www.w3.org/2000/svg\" height=\"24px\"viewBox=\"0 0 24 24\"\n",
              "     width=\"24px\">\n",
              "    <g>\n",
              "        <path d=\"M19 3H5c-1.1 0-2 .9-2 2v14c0 1.1.9 2 2 2h14c1.1 0 2-.9 2-2V5c0-1.1-.9-2-2-2zM9 17H7v-7h2v7zm4 0h-2V7h2v10zm4 0h-2v-4h2v4z\"/>\n",
              "    </g>\n",
              "</svg>\n",
              "  </button>\n",
              "\n",
              "<style>\n",
              "  .colab-df-quickchart {\n",
              "      --bg-color: #E8F0FE;\n",
              "      --fill-color: #1967D2;\n",
              "      --hover-bg-color: #E2EBFA;\n",
              "      --hover-fill-color: #174EA6;\n",
              "      --disabled-fill-color: #AAA;\n",
              "      --disabled-bg-color: #DDD;\n",
              "  }\n",
              "\n",
              "  [theme=dark] .colab-df-quickchart {\n",
              "      --bg-color: #3B4455;\n",
              "      --fill-color: #D2E3FC;\n",
              "      --hover-bg-color: #434B5C;\n",
              "      --hover-fill-color: #FFFFFF;\n",
              "      --disabled-bg-color: #3B4455;\n",
              "      --disabled-fill-color: #666;\n",
              "  }\n",
              "\n",
              "  .colab-df-quickchart {\n",
              "    background-color: var(--bg-color);\n",
              "    border: none;\n",
              "    border-radius: 50%;\n",
              "    cursor: pointer;\n",
              "    display: none;\n",
              "    fill: var(--fill-color);\n",
              "    height: 32px;\n",
              "    padding: 0;\n",
              "    width: 32px;\n",
              "  }\n",
              "\n",
              "  .colab-df-quickchart:hover {\n",
              "    background-color: var(--hover-bg-color);\n",
              "    box-shadow: 0 1px 2px rgba(60, 64, 67, 0.3), 0 1px 3px 1px rgba(60, 64, 67, 0.15);\n",
              "    fill: var(--button-hover-fill-color);\n",
              "  }\n",
              "\n",
              "  .colab-df-quickchart-complete:disabled,\n",
              "  .colab-df-quickchart-complete:disabled:hover {\n",
              "    background-color: var(--disabled-bg-color);\n",
              "    fill: var(--disabled-fill-color);\n",
              "    box-shadow: none;\n",
              "  }\n",
              "\n",
              "  .colab-df-spinner {\n",
              "    border: 2px solid var(--fill-color);\n",
              "    border-color: transparent;\n",
              "    border-bottom-color: var(--fill-color);\n",
              "    animation:\n",
              "      spin 1s steps(1) infinite;\n",
              "  }\n",
              "\n",
              "  @keyframes spin {\n",
              "    0% {\n",
              "      border-color: transparent;\n",
              "      border-bottom-color: var(--fill-color);\n",
              "      border-left-color: var(--fill-color);\n",
              "    }\n",
              "    20% {\n",
              "      border-color: transparent;\n",
              "      border-left-color: var(--fill-color);\n",
              "      border-top-color: var(--fill-color);\n",
              "    }\n",
              "    30% {\n",
              "      border-color: transparent;\n",
              "      border-left-color: var(--fill-color);\n",
              "      border-top-color: var(--fill-color);\n",
              "      border-right-color: var(--fill-color);\n",
              "    }\n",
              "    40% {\n",
              "      border-color: transparent;\n",
              "      border-right-color: var(--fill-color);\n",
              "      border-top-color: var(--fill-color);\n",
              "    }\n",
              "    60% {\n",
              "      border-color: transparent;\n",
              "      border-right-color: var(--fill-color);\n",
              "    }\n",
              "    80% {\n",
              "      border-color: transparent;\n",
              "      border-right-color: var(--fill-color);\n",
              "      border-bottom-color: var(--fill-color);\n",
              "    }\n",
              "    90% {\n",
              "      border-color: transparent;\n",
              "      border-bottom-color: var(--fill-color);\n",
              "    }\n",
              "  }\n",
              "</style>\n",
              "\n",
              "  <script>\n",
              "    async function quickchart(key) {\n",
              "      const quickchartButtonEl =\n",
              "        document.querySelector('#' + key + ' button');\n",
              "      quickchartButtonEl.disabled = true;  // To prevent multiple clicks.\n",
              "      quickchartButtonEl.classList.add('colab-df-spinner');\n",
              "      try {\n",
              "        const charts = await google.colab.kernel.invokeFunction(\n",
              "            'suggestCharts', [key], {});\n",
              "      } catch (error) {\n",
              "        console.error('Error during call to suggestCharts:', error);\n",
              "      }\n",
              "      quickchartButtonEl.classList.remove('colab-df-spinner');\n",
              "      quickchartButtonEl.classList.add('colab-df-quickchart-complete');\n",
              "    }\n",
              "    (() => {\n",
              "      let quickchartButtonEl =\n",
              "        document.querySelector('#df-d3b68bdf-3adf-4ec0-aeb5-8f6ba823c5a5 button');\n",
              "      quickchartButtonEl.style.display =\n",
              "        google.colab.kernel.accessAllowed ? 'block' : 'none';\n",
              "    })();\n",
              "  </script>\n",
              "</div>\n",
              "\n",
              "    </div>\n",
              "  </div>\n"
            ],
            "application/vnd.google.colaboratory.intrinsic+json": {
              "type": "dataframe",
              "variable_name": "data",
              "summary": "{\n  \"name\": \"data\",\n  \"rows\": 11194,\n  \"fields\": [\n    {\n      \"column\": \"gender\",\n      \"properties\": {\n        \"dtype\": \"number\",\n        \"std\": 0,\n        \"min\": 0,\n        \"max\": 1,\n        \"samples\": [\n          0,\n          1\n        ],\n        \"num_unique_values\": 2,\n        \"semantic_type\": \"\",\n        \"description\": \"\"\n      }\n    },\n    {\n      \"column\": \"description\",\n      \"properties\": {\n        \"dtype\": \"string\",\n        \"samples\": [\n          \"Never let adversity dictate ur future endeavors. #teammizzou\",\n          \"I am the managing editor of the Sierra Sun  newspaper in beautiful  North Lake Tahoe and Truckee, Calif. I also dig music, football and a nice whisky to sip.\"\n        ],\n        \"num_unique_values\": 10657,\n        \"semantic_type\": \"\",\n        \"description\": \"\"\n      }\n    },\n    {\n      \"column\": \"text\",\n      \"properties\": {\n        \"dtype\": \"string\",\n        \"samples\": [\n          \"when harry waved at me and some girls....\\n\\n#MadeInTheAM https://t.co/JEL4nxkoDa\",\n          \"What is the craziest thing you've done in public? \\u0089\\u00db\\u00d3 Oh you don't wanna know. https://t.co/eYGEcXs5Zu\"\n        ],\n        \"num_unique_values\": 11130,\n        \"semantic_type\": \"\",\n        \"description\": \"\"\n      }\n    },\n    {\n      \"column\": \"descrip_cleaned\",\n      \"properties\": {\n        \"dtype\": \"string\",\n        \"samples\": [\n          \"sick from the lips, caramel wanna try it? bafhouse teamprettypothead the perfect balance between badass and feminie. di hempress -empress;\",\n          \"author of data science 101 blog, married to swannymom, 5 kids, tweets mostly datascience and startups stuff, formerly swgoof\"\n        ],\n        \"num_unique_values\": 10646,\n        \"semantic_type\": \"\",\n        \"description\": \"\"\n      }\n    }\n  ]\n}"
            }
          },
          "metadata": {},
          "execution_count": 17
        }
      ]
    },
    {
      "cell_type": "markdown",
      "source": [
        "**Tokenize the cleaned descriptions**"
      ],
      "metadata": {
        "id": "dvKohLS6qC76"
      }
    },
    {
      "cell_type": "markdown",
      "source": [
        "Tokenization is the process of breaking text into smaller pieces which we know as tokens. More about Tokenization in this link"
      ],
      "metadata": {
        "id": "iW0_DBkOqJyD"
      }
    },
    {
      "cell_type": "code",
      "source": [
        "data['descrip_cleaned'] = [nltk.word_tokenize(tweet) for tweet in data['descrip_cleaned']]\n",
        "descrip_new = []\n",
        "for each_row in data['descrip_cleaned']:\n",
        "    descrip_new.append([i for i in each_row if i.isalpha()])\n",
        "descrip_new_alpha = []"
      ],
      "metadata": {
        "id": "2XJ_q1WaqG2z"
      },
      "execution_count": null,
      "outputs": []
    },
    {
      "cell_type": "markdown",
      "source": [
        "**Stopwords Removal**"
      ],
      "metadata": {
        "id": "VG2gmeseqdx2"
      }
    },
    {
      "cell_type": "markdown",
      "source": [
        "stop words don't add any meaning to the sentences. we will remove them"
      ],
      "metadata": {
        "id": "drUyTIG_qfN_"
      }
    },
    {
      "cell_type": "code",
      "source": [
        "stop_words = set(stopwords.words('english'))\n",
        "# now remove them from the list\n",
        "for each_row in descrip_new:\n",
        "    descrip_new_alpha.append([i for i in each_row if i not in stop_words])"
      ],
      "metadata": {
        "id": "C_ibYD1yqgyd"
      },
      "execution_count": null,
      "outputs": []
    },
    {
      "cell_type": "markdown",
      "source": [
        "**Lemmatization**"
      ],
      "metadata": {
        "id": "KWEhamhpqlnj"
      }
    },
    {
      "cell_type": "markdown",
      "source": [
        "Lemmatization is the process of grouping together the different inflected forms of a word so they can be analyzed as a single item. Lemmatization is similar to stemming but it brings context to the words. So it links words with similar meanings to one word."
      ],
      "metadata": {
        "id": "9G7ygJsaqm-O"
      }
    },
    {
      "cell_type": "code",
      "source": [
        "description_new_lemma = []\n",
        "lemma = nltk.WordNetLemmatizer()\n",
        "for each_row in descrip_new_alpha:\n",
        "    description_new_lemma.append([lemma.lemmatize(word) for word in each_row])\n",
        "#put back the new sentences\n",
        "data['descrip_cleaned'] = description_new_lemma\n",
        "data['descrip_cleaned'] = [\" \".join(desc) for desc in data['descrip_cleaned'].values]"
      ],
      "metadata": {
        "id": "6iiAot9GqpRw"
      },
      "execution_count": null,
      "outputs": []
    },
    {
      "cell_type": "markdown",
      "source": [
        "**Text cleaning of the 'text' column**"
      ],
      "metadata": {
        "id": "KXgfF7I2rT5n"
      }
    },
    {
      "cell_type": "markdown",
      "source": [
        "whatever we've done for the 'description' column, will do that for 'text' column too"
      ],
      "metadata": {
        "id": "3BepBbBwrbO_"
      }
    },
    {
      "cell_type": "code",
      "source": [
        "data['text_cleaned'] = pd.DataFrame(data['text'].apply(lambda y: clean(y)))\n",
        "data.head()\n"
      ],
      "metadata": {
        "colab": {
          "base_uri": "https://localhost:8080/",
          "height": 206
        },
        "id": "4E7x-E5NrVJ2",
        "outputId": "f87fd3e3-d92b-4d6d-d124-c04ae85180ad"
      },
      "execution_count": null,
      "outputs": [
        {
          "output_type": "execute_result",
          "data": {
            "text/plain": [
              "   gender                                        description  \\\n",
              "0       1                              i sing my own rhythm.   \n",
              "1       1  I'm the author of novels filled with family dr...   \n",
              "2       1                louis whining and squealing and all   \n",
              "3       1  Mobile guy.  49ers, Shazam, Google, Kleiner Pe...   \n",
              "4       0  Ricky Wilson The Best FRONTMAN/Kaiser Chiefs T...   \n",
              "\n",
              "                                                text  \\\n",
              "0  Robbie E Responds To Critics After Win Against...   \n",
              "1  ÛÏIt felt like they were my friends and I was...   \n",
              "2  i absolutely adore when louis starts the songs...   \n",
              "3  Hi @JordanSpieth - Looking at the url - do you...   \n",
              "4  Watching Neighbours on Sky+ catching up with t...   \n",
              "\n",
              "                                     descrip_cleaned  \\\n",
              "0                                        sing rhythm   \n",
              "1           author novel filled family drama romance   \n",
              "2                            louis whining squealing   \n",
              "3  mobile guy shazam google kleiner perkins yahoo...   \n",
              "4  ricky wilson best chief best band xxxx thank k...   \n",
              "\n",
              "                                        text_cleaned  \n",
              "0  robbie e responds to critics after win against...  \n",
              "1  ûïit felt like they were my friends and i was...  \n",
              "2  i absolutely adore when louis starts the songs...  \n",
              "3  hi @jordanspieth - looking at the url - do you...  \n",
              "4  watching neighbours on sky+ catching up with t...  "
            ],
            "text/html": [
              "\n",
              "  <div id=\"df-7ba81fb1-6acb-4bf5-8b97-fac7b6369460\" class=\"colab-df-container\">\n",
              "    <div>\n",
              "<style scoped>\n",
              "    .dataframe tbody tr th:only-of-type {\n",
              "        vertical-align: middle;\n",
              "    }\n",
              "\n",
              "    .dataframe tbody tr th {\n",
              "        vertical-align: top;\n",
              "    }\n",
              "\n",
              "    .dataframe thead th {\n",
              "        text-align: right;\n",
              "    }\n",
              "</style>\n",
              "<table border=\"1\" class=\"dataframe\">\n",
              "  <thead>\n",
              "    <tr style=\"text-align: right;\">\n",
              "      <th></th>\n",
              "      <th>gender</th>\n",
              "      <th>description</th>\n",
              "      <th>text</th>\n",
              "      <th>descrip_cleaned</th>\n",
              "      <th>text_cleaned</th>\n",
              "    </tr>\n",
              "  </thead>\n",
              "  <tbody>\n",
              "    <tr>\n",
              "      <th>0</th>\n",
              "      <td>1</td>\n",
              "      <td>i sing my own rhythm.</td>\n",
              "      <td>Robbie E Responds To Critics After Win Against...</td>\n",
              "      <td>sing rhythm</td>\n",
              "      <td>robbie e responds to critics after win against...</td>\n",
              "    </tr>\n",
              "    <tr>\n",
              "      <th>1</th>\n",
              "      <td>1</td>\n",
              "      <td>I'm the author of novels filled with family dr...</td>\n",
              "      <td>ÛÏIt felt like they were my friends and I was...</td>\n",
              "      <td>author novel filled family drama romance</td>\n",
              "      <td>ûïit felt like they were my friends and i was...</td>\n",
              "    </tr>\n",
              "    <tr>\n",
              "      <th>2</th>\n",
              "      <td>1</td>\n",
              "      <td>louis whining and squealing and all</td>\n",
              "      <td>i absolutely adore when louis starts the songs...</td>\n",
              "      <td>louis whining squealing</td>\n",
              "      <td>i absolutely adore when louis starts the songs...</td>\n",
              "    </tr>\n",
              "    <tr>\n",
              "      <th>3</th>\n",
              "      <td>1</td>\n",
              "      <td>Mobile guy.  49ers, Shazam, Google, Kleiner Pe...</td>\n",
              "      <td>Hi @JordanSpieth - Looking at the url - do you...</td>\n",
              "      <td>mobile guy shazam google kleiner perkins yahoo...</td>\n",
              "      <td>hi @jordanspieth - looking at the url - do you...</td>\n",
              "    </tr>\n",
              "    <tr>\n",
              "      <th>4</th>\n",
              "      <td>0</td>\n",
              "      <td>Ricky Wilson The Best FRONTMAN/Kaiser Chiefs T...</td>\n",
              "      <td>Watching Neighbours on Sky+ catching up with t...</td>\n",
              "      <td>ricky wilson best chief best band xxxx thank k...</td>\n",
              "      <td>watching neighbours on sky+ catching up with t...</td>\n",
              "    </tr>\n",
              "  </tbody>\n",
              "</table>\n",
              "</div>\n",
              "    <div class=\"colab-df-buttons\">\n",
              "\n",
              "  <div class=\"colab-df-container\">\n",
              "    <button class=\"colab-df-convert\" onclick=\"convertToInteractive('df-7ba81fb1-6acb-4bf5-8b97-fac7b6369460')\"\n",
              "            title=\"Convert this dataframe to an interactive table.\"\n",
              "            style=\"display:none;\">\n",
              "\n",
              "  <svg xmlns=\"http://www.w3.org/2000/svg\" height=\"24px\" viewBox=\"0 -960 960 960\">\n",
              "    <path d=\"M120-120v-720h720v720H120Zm60-500h600v-160H180v160Zm220 220h160v-160H400v160Zm0 220h160v-160H400v160ZM180-400h160v-160H180v160Zm440 0h160v-160H620v160ZM180-180h160v-160H180v160Zm440 0h160v-160H620v160Z\"/>\n",
              "  </svg>\n",
              "    </button>\n",
              "\n",
              "  <style>\n",
              "    .colab-df-container {\n",
              "      display:flex;\n",
              "      gap: 12px;\n",
              "    }\n",
              "\n",
              "    .colab-df-convert {\n",
              "      background-color: #E8F0FE;\n",
              "      border: none;\n",
              "      border-radius: 50%;\n",
              "      cursor: pointer;\n",
              "      display: none;\n",
              "      fill: #1967D2;\n",
              "      height: 32px;\n",
              "      padding: 0 0 0 0;\n",
              "      width: 32px;\n",
              "    }\n",
              "\n",
              "    .colab-df-convert:hover {\n",
              "      background-color: #E2EBFA;\n",
              "      box-shadow: 0px 1px 2px rgba(60, 64, 67, 0.3), 0px 1px 3px 1px rgba(60, 64, 67, 0.15);\n",
              "      fill: #174EA6;\n",
              "    }\n",
              "\n",
              "    .colab-df-buttons div {\n",
              "      margin-bottom: 4px;\n",
              "    }\n",
              "\n",
              "    [theme=dark] .colab-df-convert {\n",
              "      background-color: #3B4455;\n",
              "      fill: #D2E3FC;\n",
              "    }\n",
              "\n",
              "    [theme=dark] .colab-df-convert:hover {\n",
              "      background-color: #434B5C;\n",
              "      box-shadow: 0px 1px 3px 1px rgba(0, 0, 0, 0.15);\n",
              "      filter: drop-shadow(0px 1px 2px rgba(0, 0, 0, 0.3));\n",
              "      fill: #FFFFFF;\n",
              "    }\n",
              "  </style>\n",
              "\n",
              "    <script>\n",
              "      const buttonEl =\n",
              "        document.querySelector('#df-7ba81fb1-6acb-4bf5-8b97-fac7b6369460 button.colab-df-convert');\n",
              "      buttonEl.style.display =\n",
              "        google.colab.kernel.accessAllowed ? 'block' : 'none';\n",
              "\n",
              "      async function convertToInteractive(key) {\n",
              "        const element = document.querySelector('#df-7ba81fb1-6acb-4bf5-8b97-fac7b6369460');\n",
              "        const dataTable =\n",
              "          await google.colab.kernel.invokeFunction('convertToInteractive',\n",
              "                                                    [key], {});\n",
              "        if (!dataTable) return;\n",
              "\n",
              "        const docLinkHtml = 'Like what you see? Visit the ' +\n",
              "          '<a target=\"_blank\" href=https://colab.research.google.com/notebooks/data_table.ipynb>data table notebook</a>'\n",
              "          + ' to learn more about interactive tables.';\n",
              "        element.innerHTML = '';\n",
              "        dataTable['output_type'] = 'display_data';\n",
              "        await google.colab.output.renderOutput(dataTable, element);\n",
              "        const docLink = document.createElement('div');\n",
              "        docLink.innerHTML = docLinkHtml;\n",
              "        element.appendChild(docLink);\n",
              "      }\n",
              "    </script>\n",
              "  </div>\n",
              "\n",
              "\n",
              "<div id=\"df-9b96feb6-fa5c-464f-badc-d15c4ad2ddaf\">\n",
              "  <button class=\"colab-df-quickchart\" onclick=\"quickchart('df-9b96feb6-fa5c-464f-badc-d15c4ad2ddaf')\"\n",
              "            title=\"Suggest charts\"\n",
              "            style=\"display:none;\">\n",
              "\n",
              "<svg xmlns=\"http://www.w3.org/2000/svg\" height=\"24px\"viewBox=\"0 0 24 24\"\n",
              "     width=\"24px\">\n",
              "    <g>\n",
              "        <path d=\"M19 3H5c-1.1 0-2 .9-2 2v14c0 1.1.9 2 2 2h14c1.1 0 2-.9 2-2V5c0-1.1-.9-2-2-2zM9 17H7v-7h2v7zm4 0h-2V7h2v10zm4 0h-2v-4h2v4z\"/>\n",
              "    </g>\n",
              "</svg>\n",
              "  </button>\n",
              "\n",
              "<style>\n",
              "  .colab-df-quickchart {\n",
              "      --bg-color: #E8F0FE;\n",
              "      --fill-color: #1967D2;\n",
              "      --hover-bg-color: #E2EBFA;\n",
              "      --hover-fill-color: #174EA6;\n",
              "      --disabled-fill-color: #AAA;\n",
              "      --disabled-bg-color: #DDD;\n",
              "  }\n",
              "\n",
              "  [theme=dark] .colab-df-quickchart {\n",
              "      --bg-color: #3B4455;\n",
              "      --fill-color: #D2E3FC;\n",
              "      --hover-bg-color: #434B5C;\n",
              "      --hover-fill-color: #FFFFFF;\n",
              "      --disabled-bg-color: #3B4455;\n",
              "      --disabled-fill-color: #666;\n",
              "  }\n",
              "\n",
              "  .colab-df-quickchart {\n",
              "    background-color: var(--bg-color);\n",
              "    border: none;\n",
              "    border-radius: 50%;\n",
              "    cursor: pointer;\n",
              "    display: none;\n",
              "    fill: var(--fill-color);\n",
              "    height: 32px;\n",
              "    padding: 0;\n",
              "    width: 32px;\n",
              "  }\n",
              "\n",
              "  .colab-df-quickchart:hover {\n",
              "    background-color: var(--hover-bg-color);\n",
              "    box-shadow: 0 1px 2px rgba(60, 64, 67, 0.3), 0 1px 3px 1px rgba(60, 64, 67, 0.15);\n",
              "    fill: var(--button-hover-fill-color);\n",
              "  }\n",
              "\n",
              "  .colab-df-quickchart-complete:disabled,\n",
              "  .colab-df-quickchart-complete:disabled:hover {\n",
              "    background-color: var(--disabled-bg-color);\n",
              "    fill: var(--disabled-fill-color);\n",
              "    box-shadow: none;\n",
              "  }\n",
              "\n",
              "  .colab-df-spinner {\n",
              "    border: 2px solid var(--fill-color);\n",
              "    border-color: transparent;\n",
              "    border-bottom-color: var(--fill-color);\n",
              "    animation:\n",
              "      spin 1s steps(1) infinite;\n",
              "  }\n",
              "\n",
              "  @keyframes spin {\n",
              "    0% {\n",
              "      border-color: transparent;\n",
              "      border-bottom-color: var(--fill-color);\n",
              "      border-left-color: var(--fill-color);\n",
              "    }\n",
              "    20% {\n",
              "      border-color: transparent;\n",
              "      border-left-color: var(--fill-color);\n",
              "      border-top-color: var(--fill-color);\n",
              "    }\n",
              "    30% {\n",
              "      border-color: transparent;\n",
              "      border-left-color: var(--fill-color);\n",
              "      border-top-color: var(--fill-color);\n",
              "      border-right-color: var(--fill-color);\n",
              "    }\n",
              "    40% {\n",
              "      border-color: transparent;\n",
              "      border-right-color: var(--fill-color);\n",
              "      border-top-color: var(--fill-color);\n",
              "    }\n",
              "    60% {\n",
              "      border-color: transparent;\n",
              "      border-right-color: var(--fill-color);\n",
              "    }\n",
              "    80% {\n",
              "      border-color: transparent;\n",
              "      border-right-color: var(--fill-color);\n",
              "      border-bottom-color: var(--fill-color);\n",
              "    }\n",
              "    90% {\n",
              "      border-color: transparent;\n",
              "      border-bottom-color: var(--fill-color);\n",
              "    }\n",
              "  }\n",
              "</style>\n",
              "\n",
              "  <script>\n",
              "    async function quickchart(key) {\n",
              "      const quickchartButtonEl =\n",
              "        document.querySelector('#' + key + ' button');\n",
              "      quickchartButtonEl.disabled = true;  // To prevent multiple clicks.\n",
              "      quickchartButtonEl.classList.add('colab-df-spinner');\n",
              "      try {\n",
              "        const charts = await google.colab.kernel.invokeFunction(\n",
              "            'suggestCharts', [key], {});\n",
              "      } catch (error) {\n",
              "        console.error('Error during call to suggestCharts:', error);\n",
              "      }\n",
              "      quickchartButtonEl.classList.remove('colab-df-spinner');\n",
              "      quickchartButtonEl.classList.add('colab-df-quickchart-complete');\n",
              "    }\n",
              "    (() => {\n",
              "      let quickchartButtonEl =\n",
              "        document.querySelector('#df-9b96feb6-fa5c-464f-badc-d15c4ad2ddaf button');\n",
              "      quickchartButtonEl.style.display =\n",
              "        google.colab.kernel.accessAllowed ? 'block' : 'none';\n",
              "    })();\n",
              "  </script>\n",
              "</div>\n",
              "\n",
              "    </div>\n",
              "  </div>\n"
            ],
            "application/vnd.google.colaboratory.intrinsic+json": {
              "type": "dataframe",
              "variable_name": "data",
              "summary": "{\n  \"name\": \"data\",\n  \"rows\": 11194,\n  \"fields\": [\n    {\n      \"column\": \"gender\",\n      \"properties\": {\n        \"dtype\": \"number\",\n        \"std\": 0,\n        \"min\": 0,\n        \"max\": 1,\n        \"samples\": [\n          0,\n          1\n        ],\n        \"num_unique_values\": 2,\n        \"semantic_type\": \"\",\n        \"description\": \"\"\n      }\n    },\n    {\n      \"column\": \"description\",\n      \"properties\": {\n        \"dtype\": \"string\",\n        \"samples\": [\n          \"Never let adversity dictate ur future endeavors. #teammizzou\",\n          \"I am the managing editor of the Sierra Sun  newspaper in beautiful  North Lake Tahoe and Truckee, Calif. I also dig music, football and a nice whisky to sip.\"\n        ],\n        \"num_unique_values\": 10657,\n        \"semantic_type\": \"\",\n        \"description\": \"\"\n      }\n    },\n    {\n      \"column\": \"text\",\n      \"properties\": {\n        \"dtype\": \"string\",\n        \"samples\": [\n          \"when harry waved at me and some girls....\\n\\n#MadeInTheAM https://t.co/JEL4nxkoDa\",\n          \"What is the craziest thing you've done in public? \\u0089\\u00db\\u00d3 Oh you don't wanna know. https://t.co/eYGEcXs5Zu\"\n        ],\n        \"num_unique_values\": 11130,\n        \"semantic_type\": \"\",\n        \"description\": \"\"\n      }\n    },\n    {\n      \"column\": \"descrip_cleaned\",\n      \"properties\": {\n        \"dtype\": \"string\",\n        \"samples\": [\n          \"wan na contribute chaos wan na watch complain\",\n          \"educator feminist hopeless romantic candy addict happily nappy louis born tennessee raised twitter thought deal\"\n        ],\n        \"num_unique_values\": 10177,\n        \"semantic_type\": \"\",\n        \"description\": \"\"\n      }\n    },\n    {\n      \"column\": \"text_cleaned\",\n      \"properties\": {\n        \"dtype\": \"string\",\n        \"samples\": [\n          \"washington post: #iran marches, russia rules, #obama sits back and watches https://t.co/atv2uosavs https://t.co/7mo0ujioig #usa #canada\",\n          \"what is the craziest thing you've done in public? \\u0089\\u00fb\\u00f3 oh you don't wanna know. https://t.co/eygecxs5zu\"\n        ],\n        \"num_unique_values\": 11126,\n        \"semantic_type\": \"\",\n        \"description\": \"\"\n      }\n    }\n  ]\n}"
            }
          },
          "metadata": {},
          "execution_count": 21
        }
      ]
    },
    {
      "cell_type": "code",
      "source": [
        "data['text_cleaned'].replace('[@+]', \"\", regex=True,inplace=True)\n",
        "data['text_cleaned'].replace('[()]', \"\", regex=True,inplace=True)\n",
        "data['text_cleaned'].replace('[#+]', \"\", regex=True,inplace=True)\n",
        "url_regex = '''(?i)\\b((?:https?://|www\\d{0,3}[.]|[a-z0-9.\\-]+[.][a-z]{2,4}/)(?:[^\\s()<>]+|\\(([^\\s()<>]+|(\\([^\\s()<>]+\\)))*\\))+(?:\\(([^\\s()<>]+|(\\([^\\s()<>]+\\)))*\\)|[^\\s`!()\\[\\]{};:'\".,<>?«»“”‘’]))'''\n",
        "data['text_cleaned'] = data['text_cleaned'].replace(url_regex, \"\", regex=True)"
      ],
      "metadata": {
        "id": "W6SmSJwIrsbx"
      },
      "execution_count": null,
      "outputs": []
    },
    {
      "cell_type": "code",
      "source": [
        "data['text_cleaned'] = [nltk.word_tokenize(tweet) for tweet in data['text_cleaned']]\n",
        "text_new = []\n",
        "for each_row in data['text_cleaned']:\n",
        "    text_new.append([i for i in each_row if i.isalpha()])\n",
        "text_new_alpha = []"
      ],
      "metadata": {
        "id": "LP7LoC0pruHe"
      },
      "execution_count": null,
      "outputs": []
    },
    {
      "cell_type": "code",
      "source": [
        "for each_row in text_new:\n",
        "    text_new_alpha.append([i for i in each_row if i not in stop_words])"
      ],
      "metadata": {
        "id": "7z5jxB1vrwDP"
      },
      "execution_count": null,
      "outputs": []
    },
    {
      "cell_type": "code",
      "source": [
        "text_new_lemma = []\n",
        "for each_row in text_new_alpha:\n",
        "    text_new_lemma.append([lemma.lemmatize(word) for word in each_row])\n",
        "#put back the new sentences\n",
        "data['text_cleaned'] = text_new_lemma\n",
        "data['text_cleaned'] = [\" \".join(desc) for desc in data['text_cleaned'].values]"
      ],
      "metadata": {
        "id": "E5hlQFLEryVi"
      },
      "execution_count": null,
      "outputs": []
    },
    {
      "cell_type": "code",
      "source": [
        "data.head()"
      ],
      "metadata": {
        "colab": {
          "base_uri": "https://localhost:8080/",
          "height": 206
        },
        "id": "6i9gFTosvjD4",
        "outputId": "ad1d20cb-7cda-465e-f3d8-c82e7ed59f4b"
      },
      "execution_count": null,
      "outputs": [
        {
          "output_type": "execute_result",
          "data": {
            "text/plain": [
              "   gender                                        description  \\\n",
              "0       1                              i sing my own rhythm.   \n",
              "1       1  I'm the author of novels filled with family dr...   \n",
              "2       1                louis whining and squealing and all   \n",
              "3       1  Mobile guy.  49ers, Shazam, Google, Kleiner Pe...   \n",
              "4       0  Ricky Wilson The Best FRONTMAN/Kaiser Chiefs T...   \n",
              "\n",
              "                                                text  \\\n",
              "0  Robbie E Responds To Critics After Win Against...   \n",
              "1  ÛÏIt felt like they were my friends and I was...   \n",
              "2  i absolutely adore when louis starts the songs...   \n",
              "3  Hi @JordanSpieth - Looking at the url - do you...   \n",
              "4  Watching Neighbours on Sky+ catching up with t...   \n",
              "\n",
              "                                     descrip_cleaned  \\\n",
              "0                                        sing rhythm   \n",
              "1           author novel filled family drama romance   \n",
              "2                            louis whining squealing   \n",
              "3  mobile guy shazam google kleiner perkins yahoo...   \n",
              "4  ricky wilson best chief best band xxxx thank k...   \n",
              "\n",
              "                                        text_cleaned  \n",
              "0  robbie e responds critic win eddie edward worl...  \n",
              "1    felt like friend living story http retired http  \n",
              "2  absolutely adore louis start song hit hard fee...  \n",
              "3  hi jordanspieth looking url use ifttt typicall...  \n",
              "4    watching neighbour sky catching neighbs xxx xxx  "
            ],
            "text/html": [
              "\n",
              "  <div id=\"df-f2cc27ed-979d-462a-9246-cbc0e5863056\" class=\"colab-df-container\">\n",
              "    <div>\n",
              "<style scoped>\n",
              "    .dataframe tbody tr th:only-of-type {\n",
              "        vertical-align: middle;\n",
              "    }\n",
              "\n",
              "    .dataframe tbody tr th {\n",
              "        vertical-align: top;\n",
              "    }\n",
              "\n",
              "    .dataframe thead th {\n",
              "        text-align: right;\n",
              "    }\n",
              "</style>\n",
              "<table border=\"1\" class=\"dataframe\">\n",
              "  <thead>\n",
              "    <tr style=\"text-align: right;\">\n",
              "      <th></th>\n",
              "      <th>gender</th>\n",
              "      <th>description</th>\n",
              "      <th>text</th>\n",
              "      <th>descrip_cleaned</th>\n",
              "      <th>text_cleaned</th>\n",
              "    </tr>\n",
              "  </thead>\n",
              "  <tbody>\n",
              "    <tr>\n",
              "      <th>0</th>\n",
              "      <td>1</td>\n",
              "      <td>i sing my own rhythm.</td>\n",
              "      <td>Robbie E Responds To Critics After Win Against...</td>\n",
              "      <td>sing rhythm</td>\n",
              "      <td>robbie e responds critic win eddie edward worl...</td>\n",
              "    </tr>\n",
              "    <tr>\n",
              "      <th>1</th>\n",
              "      <td>1</td>\n",
              "      <td>I'm the author of novels filled with family dr...</td>\n",
              "      <td>ÛÏIt felt like they were my friends and I was...</td>\n",
              "      <td>author novel filled family drama romance</td>\n",
              "      <td>felt like friend living story http retired http</td>\n",
              "    </tr>\n",
              "    <tr>\n",
              "      <th>2</th>\n",
              "      <td>1</td>\n",
              "      <td>louis whining and squealing and all</td>\n",
              "      <td>i absolutely adore when louis starts the songs...</td>\n",
              "      <td>louis whining squealing</td>\n",
              "      <td>absolutely adore louis start song hit hard fee...</td>\n",
              "    </tr>\n",
              "    <tr>\n",
              "      <th>3</th>\n",
              "      <td>1</td>\n",
              "      <td>Mobile guy.  49ers, Shazam, Google, Kleiner Pe...</td>\n",
              "      <td>Hi @JordanSpieth - Looking at the url - do you...</td>\n",
              "      <td>mobile guy shazam google kleiner perkins yahoo...</td>\n",
              "      <td>hi jordanspieth looking url use ifttt typicall...</td>\n",
              "    </tr>\n",
              "    <tr>\n",
              "      <th>4</th>\n",
              "      <td>0</td>\n",
              "      <td>Ricky Wilson The Best FRONTMAN/Kaiser Chiefs T...</td>\n",
              "      <td>Watching Neighbours on Sky+ catching up with t...</td>\n",
              "      <td>ricky wilson best chief best band xxxx thank k...</td>\n",
              "      <td>watching neighbour sky catching neighbs xxx xxx</td>\n",
              "    </tr>\n",
              "  </tbody>\n",
              "</table>\n",
              "</div>\n",
              "    <div class=\"colab-df-buttons\">\n",
              "\n",
              "  <div class=\"colab-df-container\">\n",
              "    <button class=\"colab-df-convert\" onclick=\"convertToInteractive('df-f2cc27ed-979d-462a-9246-cbc0e5863056')\"\n",
              "            title=\"Convert this dataframe to an interactive table.\"\n",
              "            style=\"display:none;\">\n",
              "\n",
              "  <svg xmlns=\"http://www.w3.org/2000/svg\" height=\"24px\" viewBox=\"0 -960 960 960\">\n",
              "    <path d=\"M120-120v-720h720v720H120Zm60-500h600v-160H180v160Zm220 220h160v-160H400v160Zm0 220h160v-160H400v160ZM180-400h160v-160H180v160Zm440 0h160v-160H620v160ZM180-180h160v-160H180v160Zm440 0h160v-160H620v160Z\"/>\n",
              "  </svg>\n",
              "    </button>\n",
              "\n",
              "  <style>\n",
              "    .colab-df-container {\n",
              "      display:flex;\n",
              "      gap: 12px;\n",
              "    }\n",
              "\n",
              "    .colab-df-convert {\n",
              "      background-color: #E8F0FE;\n",
              "      border: none;\n",
              "      border-radius: 50%;\n",
              "      cursor: pointer;\n",
              "      display: none;\n",
              "      fill: #1967D2;\n",
              "      height: 32px;\n",
              "      padding: 0 0 0 0;\n",
              "      width: 32px;\n",
              "    }\n",
              "\n",
              "    .colab-df-convert:hover {\n",
              "      background-color: #E2EBFA;\n",
              "      box-shadow: 0px 1px 2px rgba(60, 64, 67, 0.3), 0px 1px 3px 1px rgba(60, 64, 67, 0.15);\n",
              "      fill: #174EA6;\n",
              "    }\n",
              "\n",
              "    .colab-df-buttons div {\n",
              "      margin-bottom: 4px;\n",
              "    }\n",
              "\n",
              "    [theme=dark] .colab-df-convert {\n",
              "      background-color: #3B4455;\n",
              "      fill: #D2E3FC;\n",
              "    }\n",
              "\n",
              "    [theme=dark] .colab-df-convert:hover {\n",
              "      background-color: #434B5C;\n",
              "      box-shadow: 0px 1px 3px 1px rgba(0, 0, 0, 0.15);\n",
              "      filter: drop-shadow(0px 1px 2px rgba(0, 0, 0, 0.3));\n",
              "      fill: #FFFFFF;\n",
              "    }\n",
              "  </style>\n",
              "\n",
              "    <script>\n",
              "      const buttonEl =\n",
              "        document.querySelector('#df-f2cc27ed-979d-462a-9246-cbc0e5863056 button.colab-df-convert');\n",
              "      buttonEl.style.display =\n",
              "        google.colab.kernel.accessAllowed ? 'block' : 'none';\n",
              "\n",
              "      async function convertToInteractive(key) {\n",
              "        const element = document.querySelector('#df-f2cc27ed-979d-462a-9246-cbc0e5863056');\n",
              "        const dataTable =\n",
              "          await google.colab.kernel.invokeFunction('convertToInteractive',\n",
              "                                                    [key], {});\n",
              "        if (!dataTable) return;\n",
              "\n",
              "        const docLinkHtml = 'Like what you see? Visit the ' +\n",
              "          '<a target=\"_blank\" href=https://colab.research.google.com/notebooks/data_table.ipynb>data table notebook</a>'\n",
              "          + ' to learn more about interactive tables.';\n",
              "        element.innerHTML = '';\n",
              "        dataTable['output_type'] = 'display_data';\n",
              "        await google.colab.output.renderOutput(dataTable, element);\n",
              "        const docLink = document.createElement('div');\n",
              "        docLink.innerHTML = docLinkHtml;\n",
              "        element.appendChild(docLink);\n",
              "      }\n",
              "    </script>\n",
              "  </div>\n",
              "\n",
              "\n",
              "<div id=\"df-67589fa4-e302-4f6c-930f-0caef2b0c37f\">\n",
              "  <button class=\"colab-df-quickchart\" onclick=\"quickchart('df-67589fa4-e302-4f6c-930f-0caef2b0c37f')\"\n",
              "            title=\"Suggest charts\"\n",
              "            style=\"display:none;\">\n",
              "\n",
              "<svg xmlns=\"http://www.w3.org/2000/svg\" height=\"24px\"viewBox=\"0 0 24 24\"\n",
              "     width=\"24px\">\n",
              "    <g>\n",
              "        <path d=\"M19 3H5c-1.1 0-2 .9-2 2v14c0 1.1.9 2 2 2h14c1.1 0 2-.9 2-2V5c0-1.1-.9-2-2-2zM9 17H7v-7h2v7zm4 0h-2V7h2v10zm4 0h-2v-4h2v4z\"/>\n",
              "    </g>\n",
              "</svg>\n",
              "  </button>\n",
              "\n",
              "<style>\n",
              "  .colab-df-quickchart {\n",
              "      --bg-color: #E8F0FE;\n",
              "      --fill-color: #1967D2;\n",
              "      --hover-bg-color: #E2EBFA;\n",
              "      --hover-fill-color: #174EA6;\n",
              "      --disabled-fill-color: #AAA;\n",
              "      --disabled-bg-color: #DDD;\n",
              "  }\n",
              "\n",
              "  [theme=dark] .colab-df-quickchart {\n",
              "      --bg-color: #3B4455;\n",
              "      --fill-color: #D2E3FC;\n",
              "      --hover-bg-color: #434B5C;\n",
              "      --hover-fill-color: #FFFFFF;\n",
              "      --disabled-bg-color: #3B4455;\n",
              "      --disabled-fill-color: #666;\n",
              "  }\n",
              "\n",
              "  .colab-df-quickchart {\n",
              "    background-color: var(--bg-color);\n",
              "    border: none;\n",
              "    border-radius: 50%;\n",
              "    cursor: pointer;\n",
              "    display: none;\n",
              "    fill: var(--fill-color);\n",
              "    height: 32px;\n",
              "    padding: 0;\n",
              "    width: 32px;\n",
              "  }\n",
              "\n",
              "  .colab-df-quickchart:hover {\n",
              "    background-color: var(--hover-bg-color);\n",
              "    box-shadow: 0 1px 2px rgba(60, 64, 67, 0.3), 0 1px 3px 1px rgba(60, 64, 67, 0.15);\n",
              "    fill: var(--button-hover-fill-color);\n",
              "  }\n",
              "\n",
              "  .colab-df-quickchart-complete:disabled,\n",
              "  .colab-df-quickchart-complete:disabled:hover {\n",
              "    background-color: var(--disabled-bg-color);\n",
              "    fill: var(--disabled-fill-color);\n",
              "    box-shadow: none;\n",
              "  }\n",
              "\n",
              "  .colab-df-spinner {\n",
              "    border: 2px solid var(--fill-color);\n",
              "    border-color: transparent;\n",
              "    border-bottom-color: var(--fill-color);\n",
              "    animation:\n",
              "      spin 1s steps(1) infinite;\n",
              "  }\n",
              "\n",
              "  @keyframes spin {\n",
              "    0% {\n",
              "      border-color: transparent;\n",
              "      border-bottom-color: var(--fill-color);\n",
              "      border-left-color: var(--fill-color);\n",
              "    }\n",
              "    20% {\n",
              "      border-color: transparent;\n",
              "      border-left-color: var(--fill-color);\n",
              "      border-top-color: var(--fill-color);\n",
              "    }\n",
              "    30% {\n",
              "      border-color: transparent;\n",
              "      border-left-color: var(--fill-color);\n",
              "      border-top-color: var(--fill-color);\n",
              "      border-right-color: var(--fill-color);\n",
              "    }\n",
              "    40% {\n",
              "      border-color: transparent;\n",
              "      border-right-color: var(--fill-color);\n",
              "      border-top-color: var(--fill-color);\n",
              "    }\n",
              "    60% {\n",
              "      border-color: transparent;\n",
              "      border-right-color: var(--fill-color);\n",
              "    }\n",
              "    80% {\n",
              "      border-color: transparent;\n",
              "      border-right-color: var(--fill-color);\n",
              "      border-bottom-color: var(--fill-color);\n",
              "    }\n",
              "    90% {\n",
              "      border-color: transparent;\n",
              "      border-bottom-color: var(--fill-color);\n",
              "    }\n",
              "  }\n",
              "</style>\n",
              "\n",
              "  <script>\n",
              "    async function quickchart(key) {\n",
              "      const quickchartButtonEl =\n",
              "        document.querySelector('#' + key + ' button');\n",
              "      quickchartButtonEl.disabled = true;  // To prevent multiple clicks.\n",
              "      quickchartButtonEl.classList.add('colab-df-spinner');\n",
              "      try {\n",
              "        const charts = await google.colab.kernel.invokeFunction(\n",
              "            'suggestCharts', [key], {});\n",
              "      } catch (error) {\n",
              "        console.error('Error during call to suggestCharts:', error);\n",
              "      }\n",
              "      quickchartButtonEl.classList.remove('colab-df-spinner');\n",
              "      quickchartButtonEl.classList.add('colab-df-quickchart-complete');\n",
              "    }\n",
              "    (() => {\n",
              "      let quickchartButtonEl =\n",
              "        document.querySelector('#df-67589fa4-e302-4f6c-930f-0caef2b0c37f button');\n",
              "      quickchartButtonEl.style.display =\n",
              "        google.colab.kernel.accessAllowed ? 'block' : 'none';\n",
              "    })();\n",
              "  </script>\n",
              "</div>\n",
              "\n",
              "    </div>\n",
              "  </div>\n"
            ],
            "application/vnd.google.colaboratory.intrinsic+json": {
              "type": "dataframe",
              "variable_name": "data",
              "summary": "{\n  \"name\": \"data\",\n  \"rows\": 11194,\n  \"fields\": [\n    {\n      \"column\": \"gender\",\n      \"properties\": {\n        \"dtype\": \"number\",\n        \"std\": 0,\n        \"min\": 0,\n        \"max\": 1,\n        \"samples\": [\n          0,\n          1\n        ],\n        \"num_unique_values\": 2,\n        \"semantic_type\": \"\",\n        \"description\": \"\"\n      }\n    },\n    {\n      \"column\": \"description\",\n      \"properties\": {\n        \"dtype\": \"string\",\n        \"samples\": [\n          \"Never let adversity dictate ur future endeavors. #teammizzou\",\n          \"I am the managing editor of the Sierra Sun  newspaper in beautiful  North Lake Tahoe and Truckee, Calif. I also dig music, football and a nice whisky to sip.\"\n        ],\n        \"num_unique_values\": 10657,\n        \"semantic_type\": \"\",\n        \"description\": \"\"\n      }\n    },\n    {\n      \"column\": \"text\",\n      \"properties\": {\n        \"dtype\": \"string\",\n        \"samples\": [\n          \"when harry waved at me and some girls....\\n\\n#MadeInTheAM https://t.co/JEL4nxkoDa\",\n          \"What is the craziest thing you've done in public? \\u0089\\u00db\\u00d3 Oh you don't wanna know. https://t.co/eYGEcXs5Zu\"\n        ],\n        \"num_unique_values\": 11130,\n        \"semantic_type\": \"\",\n        \"description\": \"\"\n      }\n    },\n    {\n      \"column\": \"descrip_cleaned\",\n      \"properties\": {\n        \"dtype\": \"string\",\n        \"samples\": [\n          \"wan na contribute chaos wan na watch complain\",\n          \"educator feminist hopeless romantic candy addict happily nappy louis born tennessee raised twitter thought deal\"\n        ],\n        \"num_unique_values\": 10177,\n        \"semantic_type\": \"\",\n        \"description\": \"\"\n      }\n    },\n    {\n      \"column\": \"text_cleaned\",\n      \"properties\": {\n        \"dtype\": \"string\",\n        \"samples\": [\n          \"gannet muriwai nz great place visit localauckland http\",\n          \"low one past month woke like sipped milkshake fell hair\"\n        ],\n        \"num_unique_values\": 10750,\n        \"semantic_type\": \"\",\n        \"description\": \"\"\n      }\n    }\n  ]\n}"
            }
          },
          "metadata": {},
          "execution_count": 26
        }
      ]
    },
    {
      "cell_type": "markdown",
      "source": [
        "**droping Redundant Columns description and text**"
      ],
      "metadata": {
        "id": "oBipbjwDvt3E"
      }
    },
    {
      "cell_type": "code",
      "source": [
        "data.drop(['description', 'text'], axis = 1, inplace = True)\n",
        "data.head()"
      ],
      "metadata": {
        "colab": {
          "base_uri": "https://localhost:8080/",
          "height": 206
        },
        "id": "v9Rso1Y7vv3o",
        "outputId": "c6bde814-eedd-4be5-cd69-c67d9526cf86"
      },
      "execution_count": null,
      "outputs": [
        {
          "output_type": "execute_result",
          "data": {
            "text/plain": [
              "   gender                                    descrip_cleaned  \\\n",
              "0       1                                        sing rhythm   \n",
              "1       1           author novel filled family drama romance   \n",
              "2       1                            louis whining squealing   \n",
              "3       1  mobile guy shazam google kleiner perkins yahoo...   \n",
              "4       0  ricky wilson best chief best band xxxx thank k...   \n",
              "\n",
              "                                        text_cleaned  \n",
              "0  robbie e responds critic win eddie edward worl...  \n",
              "1    felt like friend living story http retired http  \n",
              "2  absolutely adore louis start song hit hard fee...  \n",
              "3  hi jordanspieth looking url use ifttt typicall...  \n",
              "4    watching neighbour sky catching neighbs xxx xxx  "
            ],
            "text/html": [
              "\n",
              "  <div id=\"df-bd46c337-0795-450d-93db-b321eae7f910\" class=\"colab-df-container\">\n",
              "    <div>\n",
              "<style scoped>\n",
              "    .dataframe tbody tr th:only-of-type {\n",
              "        vertical-align: middle;\n",
              "    }\n",
              "\n",
              "    .dataframe tbody tr th {\n",
              "        vertical-align: top;\n",
              "    }\n",
              "\n",
              "    .dataframe thead th {\n",
              "        text-align: right;\n",
              "    }\n",
              "</style>\n",
              "<table border=\"1\" class=\"dataframe\">\n",
              "  <thead>\n",
              "    <tr style=\"text-align: right;\">\n",
              "      <th></th>\n",
              "      <th>gender</th>\n",
              "      <th>descrip_cleaned</th>\n",
              "      <th>text_cleaned</th>\n",
              "    </tr>\n",
              "  </thead>\n",
              "  <tbody>\n",
              "    <tr>\n",
              "      <th>0</th>\n",
              "      <td>1</td>\n",
              "      <td>sing rhythm</td>\n",
              "      <td>robbie e responds critic win eddie edward worl...</td>\n",
              "    </tr>\n",
              "    <tr>\n",
              "      <th>1</th>\n",
              "      <td>1</td>\n",
              "      <td>author novel filled family drama romance</td>\n",
              "      <td>felt like friend living story http retired http</td>\n",
              "    </tr>\n",
              "    <tr>\n",
              "      <th>2</th>\n",
              "      <td>1</td>\n",
              "      <td>louis whining squealing</td>\n",
              "      <td>absolutely adore louis start song hit hard fee...</td>\n",
              "    </tr>\n",
              "    <tr>\n",
              "      <th>3</th>\n",
              "      <td>1</td>\n",
              "      <td>mobile guy shazam google kleiner perkins yahoo...</td>\n",
              "      <td>hi jordanspieth looking url use ifttt typicall...</td>\n",
              "    </tr>\n",
              "    <tr>\n",
              "      <th>4</th>\n",
              "      <td>0</td>\n",
              "      <td>ricky wilson best chief best band xxxx thank k...</td>\n",
              "      <td>watching neighbour sky catching neighbs xxx xxx</td>\n",
              "    </tr>\n",
              "  </tbody>\n",
              "</table>\n",
              "</div>\n",
              "    <div class=\"colab-df-buttons\">\n",
              "\n",
              "  <div class=\"colab-df-container\">\n",
              "    <button class=\"colab-df-convert\" onclick=\"convertToInteractive('df-bd46c337-0795-450d-93db-b321eae7f910')\"\n",
              "            title=\"Convert this dataframe to an interactive table.\"\n",
              "            style=\"display:none;\">\n",
              "\n",
              "  <svg xmlns=\"http://www.w3.org/2000/svg\" height=\"24px\" viewBox=\"0 -960 960 960\">\n",
              "    <path d=\"M120-120v-720h720v720H120Zm60-500h600v-160H180v160Zm220 220h160v-160H400v160Zm0 220h160v-160H400v160ZM180-400h160v-160H180v160Zm440 0h160v-160H620v160ZM180-180h160v-160H180v160Zm440 0h160v-160H620v160Z\"/>\n",
              "  </svg>\n",
              "    </button>\n",
              "\n",
              "  <style>\n",
              "    .colab-df-container {\n",
              "      display:flex;\n",
              "      gap: 12px;\n",
              "    }\n",
              "\n",
              "    .colab-df-convert {\n",
              "      background-color: #E8F0FE;\n",
              "      border: none;\n",
              "      border-radius: 50%;\n",
              "      cursor: pointer;\n",
              "      display: none;\n",
              "      fill: #1967D2;\n",
              "      height: 32px;\n",
              "      padding: 0 0 0 0;\n",
              "      width: 32px;\n",
              "    }\n",
              "\n",
              "    .colab-df-convert:hover {\n",
              "      background-color: #E2EBFA;\n",
              "      box-shadow: 0px 1px 2px rgba(60, 64, 67, 0.3), 0px 1px 3px 1px rgba(60, 64, 67, 0.15);\n",
              "      fill: #174EA6;\n",
              "    }\n",
              "\n",
              "    .colab-df-buttons div {\n",
              "      margin-bottom: 4px;\n",
              "    }\n",
              "\n",
              "    [theme=dark] .colab-df-convert {\n",
              "      background-color: #3B4455;\n",
              "      fill: #D2E3FC;\n",
              "    }\n",
              "\n",
              "    [theme=dark] .colab-df-convert:hover {\n",
              "      background-color: #434B5C;\n",
              "      box-shadow: 0px 1px 3px 1px rgba(0, 0, 0, 0.15);\n",
              "      filter: drop-shadow(0px 1px 2px rgba(0, 0, 0, 0.3));\n",
              "      fill: #FFFFFF;\n",
              "    }\n",
              "  </style>\n",
              "\n",
              "    <script>\n",
              "      const buttonEl =\n",
              "        document.querySelector('#df-bd46c337-0795-450d-93db-b321eae7f910 button.colab-df-convert');\n",
              "      buttonEl.style.display =\n",
              "        google.colab.kernel.accessAllowed ? 'block' : 'none';\n",
              "\n",
              "      async function convertToInteractive(key) {\n",
              "        const element = document.querySelector('#df-bd46c337-0795-450d-93db-b321eae7f910');\n",
              "        const dataTable =\n",
              "          await google.colab.kernel.invokeFunction('convertToInteractive',\n",
              "                                                    [key], {});\n",
              "        if (!dataTable) return;\n",
              "\n",
              "        const docLinkHtml = 'Like what you see? Visit the ' +\n",
              "          '<a target=\"_blank\" href=https://colab.research.google.com/notebooks/data_table.ipynb>data table notebook</a>'\n",
              "          + ' to learn more about interactive tables.';\n",
              "        element.innerHTML = '';\n",
              "        dataTable['output_type'] = 'display_data';\n",
              "        await google.colab.output.renderOutput(dataTable, element);\n",
              "        const docLink = document.createElement('div');\n",
              "        docLink.innerHTML = docLinkHtml;\n",
              "        element.appendChild(docLink);\n",
              "      }\n",
              "    </script>\n",
              "  </div>\n",
              "\n",
              "\n",
              "<div id=\"df-9198de5d-6ba9-4e03-9714-c34040673fda\">\n",
              "  <button class=\"colab-df-quickchart\" onclick=\"quickchart('df-9198de5d-6ba9-4e03-9714-c34040673fda')\"\n",
              "            title=\"Suggest charts\"\n",
              "            style=\"display:none;\">\n",
              "\n",
              "<svg xmlns=\"http://www.w3.org/2000/svg\" height=\"24px\"viewBox=\"0 0 24 24\"\n",
              "     width=\"24px\">\n",
              "    <g>\n",
              "        <path d=\"M19 3H5c-1.1 0-2 .9-2 2v14c0 1.1.9 2 2 2h14c1.1 0 2-.9 2-2V5c0-1.1-.9-2-2-2zM9 17H7v-7h2v7zm4 0h-2V7h2v10zm4 0h-2v-4h2v4z\"/>\n",
              "    </g>\n",
              "</svg>\n",
              "  </button>\n",
              "\n",
              "<style>\n",
              "  .colab-df-quickchart {\n",
              "      --bg-color: #E8F0FE;\n",
              "      --fill-color: #1967D2;\n",
              "      --hover-bg-color: #E2EBFA;\n",
              "      --hover-fill-color: #174EA6;\n",
              "      --disabled-fill-color: #AAA;\n",
              "      --disabled-bg-color: #DDD;\n",
              "  }\n",
              "\n",
              "  [theme=dark] .colab-df-quickchart {\n",
              "      --bg-color: #3B4455;\n",
              "      --fill-color: #D2E3FC;\n",
              "      --hover-bg-color: #434B5C;\n",
              "      --hover-fill-color: #FFFFFF;\n",
              "      --disabled-bg-color: #3B4455;\n",
              "      --disabled-fill-color: #666;\n",
              "  }\n",
              "\n",
              "  .colab-df-quickchart {\n",
              "    background-color: var(--bg-color);\n",
              "    border: none;\n",
              "    border-radius: 50%;\n",
              "    cursor: pointer;\n",
              "    display: none;\n",
              "    fill: var(--fill-color);\n",
              "    height: 32px;\n",
              "    padding: 0;\n",
              "    width: 32px;\n",
              "  }\n",
              "\n",
              "  .colab-df-quickchart:hover {\n",
              "    background-color: var(--hover-bg-color);\n",
              "    box-shadow: 0 1px 2px rgba(60, 64, 67, 0.3), 0 1px 3px 1px rgba(60, 64, 67, 0.15);\n",
              "    fill: var(--button-hover-fill-color);\n",
              "  }\n",
              "\n",
              "  .colab-df-quickchart-complete:disabled,\n",
              "  .colab-df-quickchart-complete:disabled:hover {\n",
              "    background-color: var(--disabled-bg-color);\n",
              "    fill: var(--disabled-fill-color);\n",
              "    box-shadow: none;\n",
              "  }\n",
              "\n",
              "  .colab-df-spinner {\n",
              "    border: 2px solid var(--fill-color);\n",
              "    border-color: transparent;\n",
              "    border-bottom-color: var(--fill-color);\n",
              "    animation:\n",
              "      spin 1s steps(1) infinite;\n",
              "  }\n",
              "\n",
              "  @keyframes spin {\n",
              "    0% {\n",
              "      border-color: transparent;\n",
              "      border-bottom-color: var(--fill-color);\n",
              "      border-left-color: var(--fill-color);\n",
              "    }\n",
              "    20% {\n",
              "      border-color: transparent;\n",
              "      border-left-color: var(--fill-color);\n",
              "      border-top-color: var(--fill-color);\n",
              "    }\n",
              "    30% {\n",
              "      border-color: transparent;\n",
              "      border-left-color: var(--fill-color);\n",
              "      border-top-color: var(--fill-color);\n",
              "      border-right-color: var(--fill-color);\n",
              "    }\n",
              "    40% {\n",
              "      border-color: transparent;\n",
              "      border-right-color: var(--fill-color);\n",
              "      border-top-color: var(--fill-color);\n",
              "    }\n",
              "    60% {\n",
              "      border-color: transparent;\n",
              "      border-right-color: var(--fill-color);\n",
              "    }\n",
              "    80% {\n",
              "      border-color: transparent;\n",
              "      border-right-color: var(--fill-color);\n",
              "      border-bottom-color: var(--fill-color);\n",
              "    }\n",
              "    90% {\n",
              "      border-color: transparent;\n",
              "      border-bottom-color: var(--fill-color);\n",
              "    }\n",
              "  }\n",
              "</style>\n",
              "\n",
              "  <script>\n",
              "    async function quickchart(key) {\n",
              "      const quickchartButtonEl =\n",
              "        document.querySelector('#' + key + ' button');\n",
              "      quickchartButtonEl.disabled = true;  // To prevent multiple clicks.\n",
              "      quickchartButtonEl.classList.add('colab-df-spinner');\n",
              "      try {\n",
              "        const charts = await google.colab.kernel.invokeFunction(\n",
              "            'suggestCharts', [key], {});\n",
              "      } catch (error) {\n",
              "        console.error('Error during call to suggestCharts:', error);\n",
              "      }\n",
              "      quickchartButtonEl.classList.remove('colab-df-spinner');\n",
              "      quickchartButtonEl.classList.add('colab-df-quickchart-complete');\n",
              "    }\n",
              "    (() => {\n",
              "      let quickchartButtonEl =\n",
              "        document.querySelector('#df-9198de5d-6ba9-4e03-9714-c34040673fda button');\n",
              "      quickchartButtonEl.style.display =\n",
              "        google.colab.kernel.accessAllowed ? 'block' : 'none';\n",
              "    })();\n",
              "  </script>\n",
              "</div>\n",
              "\n",
              "    </div>\n",
              "  </div>\n"
            ],
            "application/vnd.google.colaboratory.intrinsic+json": {
              "type": "dataframe",
              "variable_name": "data",
              "summary": "{\n  \"name\": \"data\",\n  \"rows\": 11194,\n  \"fields\": [\n    {\n      \"column\": \"gender\",\n      \"properties\": {\n        \"dtype\": \"number\",\n        \"std\": 0,\n        \"min\": 0,\n        \"max\": 1,\n        \"samples\": [\n          0,\n          1\n        ],\n        \"num_unique_values\": 2,\n        \"semantic_type\": \"\",\n        \"description\": \"\"\n      }\n    },\n    {\n      \"column\": \"descrip_cleaned\",\n      \"properties\": {\n        \"dtype\": \"string\",\n        \"samples\": [\n          \"wan na contribute chaos wan na watch complain\",\n          \"educator feminist hopeless romantic candy addict happily nappy louis born tennessee raised twitter thought deal\"\n        ],\n        \"num_unique_values\": 10177,\n        \"semantic_type\": \"\",\n        \"description\": \"\"\n      }\n    },\n    {\n      \"column\": \"text_cleaned\",\n      \"properties\": {\n        \"dtype\": \"string\",\n        \"samples\": [\n          \"gannet muriwai nz great place visit localauckland http\",\n          \"low one past month woke like sipped milkshake fell hair\"\n        ],\n        \"num_unique_values\": 10750,\n        \"semantic_type\": \"\",\n        \"description\": \"\"\n      }\n    }\n  ]\n}"
            }
          },
          "metadata": {},
          "execution_count": 27
        }
      ]
    },
    {
      "cell_type": "markdown",
      "source": [
        "**vectorization of texts**"
      ],
      "metadata": {
        "id": "xQCialJLwx8Z"
      }
    },
    {
      "cell_type": "markdown",
      "source": [
        "Text Vectorization is the process of converting text into numerical representation.\n",
        "countvectorizer is one of the most straightforword vectorization method. we will use that in this project"
      ],
      "metadata": {
        "id": "_3yP3fLbw1F5"
      }
    },
    {
      "cell_type": "code",
      "source": [
        "cv = CountVectorizer(max_features = 1000)\n",
        "x = cv.fit_transform(data['descrip_cleaned']).toarray()\n",
        "x1 = cv.fit_transform(data['text_cleaned']).toarray()"
      ],
      "metadata": {
        "id": "Zeisqzqo0Yfa"
      },
      "execution_count": null,
      "outputs": []
    },
    {
      "cell_type": "markdown",
      "source": [
        "let's save these two set of vectors in two different pandas dataframe"
      ],
      "metadata": {
        "id": "ZocIeRFP0dGu"
      }
    },
    {
      "cell_type": "code",
      "source": [
        "A = pd.DataFrame(x)\n",
        "B = pd.DataFrame(x1)"
      ],
      "metadata": {
        "id": "KeKfwpMz0hFO"
      },
      "execution_count": null,
      "outputs": []
    },
    {
      "cell_type": "markdown",
      "source": [
        "and then concatenate these two dataframes"
      ],
      "metadata": {
        "id": "PuQLpApP0maM"
      }
    },
    {
      "cell_type": "code",
      "source": [
        "X = pd.concat([B, A], join = 'outer', axis = 1)\n",
        "X.shape"
      ],
      "metadata": {
        "colab": {
          "base_uri": "https://localhost:8080/"
        },
        "id": "xZEJRAdB0v57",
        "outputId": "1d7ebaa8-6fa4-4bff-f508-075b4b14ce6d"
      },
      "execution_count": null,
      "outputs": [
        {
          "output_type": "execute_result",
          "data": {
            "text/plain": [
              "(11194, 2000)"
            ]
          },
          "metadata": {},
          "execution_count": 30
        }
      ]
    },
    {
      "cell_type": "markdown",
      "source": [
        "the shape of this new dataframe matches shape of our gender column"
      ],
      "metadata": {
        "id": "Z_o_jC-e0y9H"
      }
    },
    {
      "cell_type": "code",
      "source": [
        "data['gender'].shape"
      ],
      "metadata": {
        "colab": {
          "base_uri": "https://localhost:8080/"
        },
        "id": "O44NuWx80zpi",
        "outputId": "cee39ef8-9814-479b-d723-71c48dd8e773"
      },
      "execution_count": null,
      "outputs": [
        {
          "output_type": "execute_result",
          "data": {
            "text/plain": [
              "(11194,)"
            ]
          },
          "metadata": {},
          "execution_count": 31
        }
      ]
    },
    {
      "cell_type": "markdown",
      "source": [
        "Now build our independent variables and Target variable"
      ],
      "metadata": {
        "id": "nS8K-DLe06Br"
      }
    },
    {
      "cell_type": "code",
      "source": [
        "x = np.array(X)\n",
        "y = np.array(data['gender'])"
      ],
      "metadata": {
        "id": "ZAdFtTPo06hu"
      },
      "execution_count": null,
      "outputs": []
    },
    {
      "cell_type": "markdown",
      "source": [
        "**Split the data into train test set**"
      ],
      "metadata": {
        "id": "2I-H3Bn208yi"
      }
    },
    {
      "cell_type": "code",
      "source": [
        "X_train, X_test, y_train, y_test = train_test_split(x,y, test_size = 0.2, random_state = 0)"
      ],
      "metadata": {
        "id": "58aV3HLZ0-QV"
      },
      "execution_count": null,
      "outputs": []
    },
    {
      "cell_type": "code",
      "source": [
        "y_train"
      ],
      "metadata": {
        "colab": {
          "base_uri": "https://localhost:8080/"
        },
        "id": "qQbl4Fhk2KXb",
        "outputId": "fe280dde-b2cf-47ff-d319-d9fe8c6b50c2"
      },
      "execution_count": null,
      "outputs": [
        {
          "output_type": "execute_result",
          "data": {
            "text/plain": [
              "array([1, 1, 0, ..., 1, 0, 0])"
            ]
          },
          "metadata": {},
          "execution_count": 34
        }
      ]
    },
    {
      "cell_type": "markdown",
      "source": [
        "##Classification"
      ],
      "metadata": {
        "id": "v5sg9HZW1On5"
      }
    },
    {
      "cell_type": "markdown",
      "source": [
        "# Single layer Perceptron"
      ],
      "metadata": {
        "id": "hcl5BfzrhA7i"
      }
    },
    {
      "cell_type": "code",
      "source": [
        "from tensorflow.keras.models import Sequential\n",
        "from tensorflow.keras.layers import Dense"
      ],
      "metadata": {
        "id": "HUTS1m2Tg-2K"
      },
      "execution_count": null,
      "outputs": []
    },
    {
      "cell_type": "markdown",
      "source": [
        "Define the perceptron model"
      ],
      "metadata": {
        "id": "z0R7wg0ShIcN"
      }
    },
    {
      "cell_type": "code",
      "source": [
        "model_perceptron = Sequential()\n",
        "model_perceptron.add(Dense(1, input_dim=X_train.shape[1], activation='sigmoid'))"
      ],
      "metadata": {
        "id": "O6C_jwHwhMFI"
      },
      "execution_count": null,
      "outputs": []
    },
    {
      "cell_type": "markdown",
      "source": [
        "Compile the model"
      ],
      "metadata": {
        "id": "IJve7lZUhUiF"
      }
    },
    {
      "cell_type": "code",
      "source": [
        "model_perceptron.compile(optimizer='adam', loss='binary_crossentropy', metrics=['accuracy'])"
      ],
      "metadata": {
        "id": "WRl4Fs3XhYVb"
      },
      "execution_count": null,
      "outputs": []
    },
    {
      "cell_type": "markdown",
      "source": [
        "Training stage"
      ],
      "metadata": {
        "id": "luR4KRa4hbHW"
      }
    },
    {
      "cell_type": "code",
      "source": [
        "model_perceptron.fit(X_train, y_train, epochs=10, batch_size=32)"
      ],
      "metadata": {
        "colab": {
          "base_uri": "https://localhost:8080/"
        },
        "id": "eFbb03r9hkW0",
        "outputId": "a92b7ca4-ef92-42e4-e016-8ea60b3a4ca5"
      },
      "execution_count": null,
      "outputs": [
        {
          "output_type": "stream",
          "name": "stdout",
          "text": [
            "Epoch 1/10\n",
            "280/280 [==============================] - 1s 3ms/step - loss: 0.6843 - accuracy: 0.5672\n",
            "Epoch 2/10\n",
            "280/280 [==============================] - 1s 4ms/step - loss: 0.6567 - accuracy: 0.6689\n",
            "Epoch 3/10\n",
            "280/280 [==============================] - 1s 3ms/step - loss: 0.6353 - accuracy: 0.6924\n",
            "Epoch 4/10\n",
            "280/280 [==============================] - 1s 3ms/step - loss: 0.6181 - accuracy: 0.7052\n",
            "Epoch 5/10\n",
            "280/280 [==============================] - 1s 3ms/step - loss: 0.6038 - accuracy: 0.7168\n",
            "Epoch 6/10\n",
            "280/280 [==============================] - 1s 2ms/step - loss: 0.5918 - accuracy: 0.7195\n",
            "Epoch 7/10\n",
            "280/280 [==============================] - 1s 2ms/step - loss: 0.5816 - accuracy: 0.7251\n",
            "Epoch 8/10\n",
            "280/280 [==============================] - 1s 2ms/step - loss: 0.5726 - accuracy: 0.7266\n",
            "Epoch 9/10\n",
            "280/280 [==============================] - 1s 2ms/step - loss: 0.5648 - accuracy: 0.7314\n",
            "Epoch 10/10\n",
            "280/280 [==============================] - 1s 2ms/step - loss: 0.5578 - accuracy: 0.7349\n"
          ]
        },
        {
          "output_type": "execute_result",
          "data": {
            "text/plain": [
              "<keras.src.callbacks.History at 0x788ed014cc10>"
            ]
          },
          "metadata": {},
          "execution_count": 38
        }
      ]
    },
    {
      "cell_type": "markdown",
      "source": [
        "Evaluation of model"
      ],
      "metadata": {
        "id": "EYxLNP1sh3GN"
      }
    },
    {
      "cell_type": "code",
      "source": [
        "accuracy_perceptron = model_perceptron.evaluate(X_test, y_test)[1]"
      ],
      "metadata": {
        "colab": {
          "base_uri": "https://localhost:8080/"
        },
        "id": "duLxNikIh593",
        "outputId": "3825885f-e42d-48fd-ab06-95fcdb160c54"
      },
      "execution_count": null,
      "outputs": [
        {
          "output_type": "stream",
          "name": "stdout",
          "text": [
            "70/70 [==============================] - 1s 5ms/step - loss: 0.6247 - accuracy: 0.6512\n"
          ]
        }
      ]
    },
    {
      "cell_type": "markdown",
      "source": [
        "Confusion matrix"
      ],
      "metadata": {
        "id": "I1gJPcv5kOX7"
      }
    },
    {
      "cell_type": "code",
      "source": [
        "from sklearn.metrics import confusion_matrix, accuracy_score, precision_score, recall_score, f1_score\n",
        "import numpy as np"
      ],
      "metadata": {
        "id": "fKhQ9JL7kVv7"
      },
      "execution_count": null,
      "outputs": []
    },
    {
      "cell_type": "markdown",
      "source": [
        "Get predictions"
      ],
      "metadata": {
        "id": "lvufKb7RkhSD"
      }
    },
    {
      "cell_type": "code",
      "source": [
        "# Obtener predicciones del modelo\n",
        "y_pred = model_perceptron.predict(X_test)\n",
        "y_pred_classes = (y_pred > 0.5).astype(\"int32\")"
      ],
      "metadata": {
        "colab": {
          "base_uri": "https://localhost:8080/"
        },
        "id": "5lIzJYHHkaTc",
        "outputId": "24049194-3b02-4a42-c814-e7bcd869c107"
      },
      "execution_count": null,
      "outputs": [
        {
          "output_type": "stream",
          "name": "stdout",
          "text": [
            "70/70 [==============================] - 0s 4ms/step\n"
          ]
        }
      ]
    },
    {
      "cell_type": "markdown",
      "source": [
        "Generate the confusion matrix"
      ],
      "metadata": {
        "id": "kCA_f-ZFkmKN"
      }
    },
    {
      "cell_type": "code",
      "source": [
        "conf_matrix_perceptron = confusion_matrix(y_test, y_pred_classes)"
      ],
      "metadata": {
        "id": "NiXiU3Dhko4U"
      },
      "execution_count": null,
      "outputs": []
    },
    {
      "cell_type": "markdown",
      "source": [
        "Print matrix\n"
      ],
      "metadata": {
        "id": "R1XT46T5kuv8"
      }
    },
    {
      "cell_type": "code",
      "source": [
        "print(f'Confusion matrix for single layer perceptron:\\n{conf_matrix_perceptron}')\n",
        "\n",
        "\n",
        "accuracy = accuracy_score(y_test, y_pred_classes)\n",
        "precision = precision_score(y_test, y_pred_classes)\n",
        "recall = recall_score(y_test, y_pred_classes)\n",
        "f1 = f1_score(y_test, y_pred_classes)"
      ],
      "metadata": {
        "colab": {
          "base_uri": "https://localhost:8080/"
        },
        "id": "G3_s-unxkfbp",
        "outputId": "8acf1994-d117-487e-e942-98511b5fd9eb"
      },
      "execution_count": null,
      "outputs": [
        {
          "output_type": "stream",
          "name": "stdout",
          "text": [
            "Confusion matrix for single layer perceptron:\n",
            "[[808 324]\n",
            " [457 650]]\n"
          ]
        }
      ]
    },
    {
      "cell_type": "code",
      "source": [
        "print('accuracy:'+ str(accuracy))\n",
        "print('precision:'+ str(precision))\n",
        "print('recall:'+ str(recall))\n",
        "print('f1 score:'+ str(f1))"
      ],
      "metadata": {
        "colab": {
          "base_uri": "https://localhost:8080/"
        },
        "id": "XGYYnA8vs95L",
        "outputId": "4b40fcad-2878-4a2a-de44-206bfffa3736"
      },
      "execution_count": null,
      "outputs": [
        {
          "output_type": "stream",
          "name": "stdout",
          "text": [
            "accuracy:0.6511835640911121\n",
            "precision:0.6673511293634496\n",
            "recall:0.5871725383920506\n",
            "f1 score:0.6246996636232581\n"
          ]
        }
      ]
    },
    {
      "cell_type": "code",
      "source": [
        "import matplotlib.pyplot as plt\n",
        "import seaborn as sns\n",
        "import pandas as pd\n",
        "\n",
        "# Create Dataframe with metrics\n",
        "metrics = pd.DataFrame({\n",
        "    'Metric': ['Accuracy', 'Precision', 'Recall', 'F1 Score'],\n",
        "    'Value': [accuracy, precision, recall, f1]\n",
        "})\n",
        "\n",
        "# Create a bar chart\n",
        "plt.figure(figsize=(10, 6))\n",
        "sns.barplot(x='Metric', y='Value', data=metrics)\n",
        "plt.title('Single layer perceptron - Evaluation metrics')\n",
        "plt.ylim(0, 1)\n",
        "\n",
        "# Show values in bars\n",
        "for index, row in metrics.iterrows():\n",
        "    plt.text(row.name, row.Value, round(row.Value,3), color='black', ha=\"center\")\n",
        "\n",
        "plt.show()\n"
      ],
      "metadata": {
        "colab": {
          "base_uri": "https://localhost:8080/",
          "height": 605
        },
        "id": "9qqcxfDJudTP",
        "outputId": "753384aa-cc2d-4347-942e-a8b4fc3a4c05"
      },
      "execution_count": null,
      "outputs": [
        {
          "output_type": "display_data",
          "data": {
            "text/plain": [
              "<Figure size 1000x600 with 1 Axes>"
            ],
            "image/png": "[encoded data removed]"
          },
          "metadata": {}
        }
      ]
    },
    {
      "cell_type": "code",
      "source": [
        "import seaborn as sns\n",
        "import matplotlib.pyplot as plt\n",
        "from sklearn.metrics import confusion_matrix\n",
        "\n",
        "conf_matrix = confusion_matrix(y_test, y_pred_classes)\n",
        "\n",
        "\n",
        "labels = ['male', 'female']\n",
        "\n",
        "plt.figure(figsize=(8, 6))\n",
        "sns.heatmap(conf_matrix, annot=True, fmt='d', cmap='Blues', xticklabels=labels, yticklabels=labels)\n",
        "plt.title('Confusion Matrix')\n",
        "plt.ylabel('True Label')\n",
        "plt.xlabel('Predicted Label')\n",
        "plt.show()\n"
      ],
      "metadata": {
        "colab": {
          "base_uri": "https://localhost:8080/",
          "height": 605
        },
        "id": "28zZAlTPrajQ",
        "outputId": "f690c671-57c2-4f93-e1f5-22c15946368e"
      },
      "execution_count": null,
      "outputs": [
        {
          "output_type": "display_data",
          "data": {
            "text/plain": [
              "<Figure size 800x600 with 2 Axes>"
            ],
            "image/png": "[encoded data removed]"
          },
          "metadata": {}
        }
      ]
    },
    {
      "cell_type": "markdown",
      "source": [
        "## Neural network with 1 hidden layer"
      ],
      "metadata": {
        "id": "WLMi0Log6cvR"
      }
    },
    {
      "cell_type": "code",
      "source": [
        "model_one_hidden = Sequential()\n",
        "model_one_hidden.add(Dense(X_train.shape[1], input_dim=X_train.shape[1], activation='relu'))\n",
        "model_one_hidden.add(Dense(1, activation='sigmoid'))"
      ],
      "metadata": {
        "id": "V2iq5hD-6zSS"
      },
      "execution_count": null,
      "outputs": []
    },
    {
      "cell_type": "markdown",
      "source": [
        "Compile model"
      ],
      "metadata": {
        "id": "PgRCB4wE7cTU"
      }
    },
    {
      "cell_type": "code",
      "source": [
        "model_one_hidden.compile(optimizer='adam', loss='binary_crossentropy', metrics=['accuracy'])"
      ],
      "metadata": {
        "id": "U93amRTr7ede"
      },
      "execution_count": null,
      "outputs": []
    },
    {
      "cell_type": "markdown",
      "source": [
        "Training the model"
      ],
      "metadata": {
        "id": "WQZg1RPX7jSi"
      }
    },
    {
      "cell_type": "code",
      "source": [
        "model_one_hidden.fit(X_train, y_train, epochs=10, batch_size=32)"
      ],
      "metadata": {
        "colab": {
          "base_uri": "https://localhost:8080/"
        },
        "id": "tJCqpZCH7pgv",
        "outputId": "2513c4e7-41ac-48da-a7a8-f45a2d7325f1"
      },
      "execution_count": null,
      "outputs": [
        {
          "output_type": "stream",
          "name": "stdout",
          "text": [
            "Epoch 1/10\n",
            "280/280 [==============================] - 19s 64ms/step - loss: 0.6415 - accuracy: 0.6210\n",
            "Epoch 2/10\n",
            "280/280 [==============================] - 17s 62ms/step - loss: 0.4614 - accuracy: 0.7820\n",
            "Epoch 3/10\n",
            "280/280 [==============================] - 17s 62ms/step - loss: 0.2703 - accuracy: 0.8949\n",
            "Epoch 4/10\n",
            "280/280 [==============================] - 18s 64ms/step - loss: 0.1246 - accuracy: 0.9633\n",
            "Epoch 5/10\n",
            "280/280 [==============================] - 20s 72ms/step - loss: 0.0620 - accuracy: 0.9834\n",
            "Epoch 6/10\n",
            "280/280 [==============================] - 18s 66ms/step - loss: 0.0433 - accuracy: 0.9879\n",
            "Epoch 7/10\n",
            "280/280 [==============================] - 20s 72ms/step - loss: 0.0352 - accuracy: 0.9896\n",
            "Epoch 8/10\n",
            "280/280 [==============================] - 19s 67ms/step - loss: 0.0296 - accuracy: 0.9910\n",
            "Epoch 9/10\n",
            "280/280 [==============================] - 19s 66ms/step - loss: 0.0282 - accuracy: 0.9897\n",
            "Epoch 10/10\n",
            "280/280 [==============================] - 19s 67ms/step - loss: 0.0286 - accuracy: 0.9897\n"
          ]
        },
        {
          "output_type": "execute_result",
          "data": {
            "text/plain": [
              "<keras.src.callbacks.History at 0x788ec2c07910>"
            ]
          },
          "metadata": {},
          "execution_count": 56
        }
      ]
    },
    {
      "cell_type": "markdown",
      "source": [
        "Evaluation of model"
      ],
      "metadata": {
        "id": "aoq4Dpog8jxc"
      }
    },
    {
      "cell_type": "code",
      "source": [
        "accuracy_one_hidden = model_one_hidden.evaluate(X_test, y_test)[1]"
      ],
      "metadata": {
        "colab": {
          "base_uri": "https://localhost:8080/"
        },
        "id": "GBdquoxt8obQ",
        "outputId": "7480c058-d5a4-4538-f085-3bfca9d621df"
      },
      "execution_count": null,
      "outputs": [
        {
          "output_type": "stream",
          "name": "stdout",
          "text": [
            "70/70 [==============================] - 2s 20ms/step - loss: 1.4846 - accuracy: 0.6391\n"
          ]
        }
      ]
    },
    {
      "cell_type": "code",
      "source": [
        "y_pred = model_one_hidden.predict(X_test)\n",
        "y_pred = (y_pred > 0.5)  # To Transform probabilities to labels of binary class\n",
        "\n",
        "# Calculate confusion matrix\n",
        "conf_matrix = confusion_matrix(y_test, y_pred)\n",
        "\n",
        "# Calculate metrics\n",
        "accuracy = accuracy_score(y_test, y_pred)\n",
        "precision = precision_score(y_test, y_pred)\n",
        "recall = recall_score(y_test, y_pred)\n",
        "f1 = f1_score(y_test, y_pred)\n",
        "\n",
        "print(f\"Confusion matrix:\\n{conf_matrix}\")\n",
        "print(f\"Accuracy: {accuracy}\")\n",
        "print(f\"Precision: {precision}\")\n",
        "print(f\"Recall: {recall}\")\n",
        "print(f\"F1 Score: {f1}\")\n",
        "\n",
        "fig, ax = plt.subplots(figsize=(8, 6))\n",
        "sns.heatmap(conf_matrix, annot=True, fmt='d',\n",
        "            xticklabels=['Prediction 0', 'Prediction 1'],\n",
        "            yticklabels=['True 0', 'True 1'],\n",
        "            cmap=\"Blues\", ax=ax)\n",
        "plt.ylabel('Currently')\n",
        "plt.xlabel('Prediction')\n",
        "plt.title('Confusion matrix')\n",
        "plt.show()\n"
      ],
      "metadata": {
        "colab": {
          "base_uri": "https://localhost:8080/",
          "height": 744
        },
        "id": "wEQwpVvv_4-j",
        "outputId": "440e037e-e824-4379-a822-9dad60bb712f"
      },
      "execution_count": null,
      "outputs": [
        {
          "output_type": "stream",
          "name": "stdout",
          "text": [
            "70/70 [==============================] - 2s 22ms/step\n",
            "Confusion matrix:\n",
            "[[753 379]\n",
            " [429 678]]\n",
            "Accuracy: 0.6391246092005359\n",
            "Precision: 0.641438032166509\n",
            "Recall: 0.6124661246612466\n",
            "F1 Score: 0.6266173752310537\n"
          ]
        },
        {
          "output_type": "display_data",
          "data": {
            "text/plain": [
              "<Figure size 800x600 with 2 Axes>"
            ],
            "image/png": "[encoded data removed]"
          },
          "metadata": {}
        }
      ]
    },
    {
      "cell_type": "code",
      "source": [
        "import matplotlib.pyplot as plt\n",
        "\n",
        "\n",
        "metrics_values = [accuracy, precision, recall, f1]\n",
        "metrics_labels = ['Accuracy', 'Precision', 'Recall', 'F1 Score']\n",
        "\n",
        "plt.figure(figsize=(10, 6))\n",
        "bars = plt.bar(metrics_labels, metrics_values)\n",
        "\n",
        "\n",
        "for bar in bars:\n",
        "    yval = bar.get_height()\n",
        "    plt.text(bar.get_x() + bar.get_width()/2.0, yval, round(yval,2), va='bottom')\n",
        "\n",
        "plt.xlabel('Metrics')\n",
        "plt.ylabel('Values')\n",
        "plt.title('Evaluation of model - NN with 1 hidden layer')\n",
        "plt.ylim(0, 1)\n",
        "plt.show()\n"
      ],
      "metadata": {
        "colab": {
          "base_uri": "https://localhost:8080/",
          "height": 605
        },
        "id": "iGnrfui3G5hX",
        "outputId": "a5f0cd8e-5b88-4e50-e51c-2f2bdaf712d1"
      },
      "execution_count": null,
      "outputs": [
        {
          "output_type": "display_data",
          "data": {
            "text/plain": [
              "<Figure size 1000x600 with 1 Axes>"
            ],
            "image/png": "[encoded data removed]"
          },
          "metadata": {}
        }
      ]
    },
    {
      "cell_type": "code",
      "source": [
        "import matplotlib.pyplot as plt\n",
        "\n",
        "# Asumiendo que tu modelo se llama 'model_one_hidden' y ya está compilado.\n",
        "history = model_one_hidden.fit(X_train, y_train, validation_split=0.2, epochs=10, batch_size=32)\n",
        "\n",
        "\n",
        "# Suponiendo que 'history' es el objeto retornado por 'model.fit()'\n",
        "acc = history.history['accuracy']\n",
        "val_acc = history.history['val_accuracy']\n",
        "loss = history.history['loss']\n",
        "val_loss = history.history['val_loss']\n",
        "epochs = range(1, len(acc) + 1)\n",
        "\n",
        "# Crear gráfico para la precisión\n",
        "plt.figure(figsize=(14, 7))\n",
        "plt.subplot(1, 2, 1)  # 1 fila, 2 columnas, primer gráfico\n",
        "plt.plot(epochs, acc, 'bo-', label='Precisión en entrenamiento')\n",
        "plt.plot(epochs, val_acc, 'go-', label='Precisión en validación')\n",
        "plt.title('Precisión de entrenamiento y validación')\n",
        "plt.xlabel('Épocas')\n",
        "plt.ylabel('Precisión')\n",
        "plt.legend()\n",
        "\n",
        "# Crear gráfico para la pérdida\n",
        "plt.subplot(1, 2, 2)  # 1 fila, 2 columnas, segundo gráfico\n",
        "plt.plot(epochs, loss, 'bo-', label='Pérdida en entrenamiento')\n",
        "plt.plot(epochs, val_loss, 'go-', label='Pérdida en validación')\n",
        "plt.title('Pérdida de entrenamiento y validación')\n",
        "plt.xlabel('Épocas')\n",
        "plt.ylabel('Pérdida')\n",
        "plt.legend()\n",
        "\n",
        "plt.tight_layout()\n",
        "plt.show()\n"
      ],
      "metadata": {
        "colab": {
          "base_uri": "https://localhost:8080/",
          "height": 1000
        },
        "id": "yXBc7n3OHz4F",
        "outputId": "7b4ec6cc-c85a-4b51-9ed2-4ae2ff2c1bd1"
      },
      "execution_count": null,
      "outputs": [
        {
          "output_type": "stream",
          "name": "stdout",
          "text": [
            "Epoch 1/10\n",
            "224/224 [==============================] - 18s 78ms/step - loss: 0.0275 - accuracy: 0.9894 - val_loss: 0.0257 - val_accuracy: 0.9944\n",
            "Epoch 2/10\n",
            "224/224 [==============================] - 15s 65ms/step - loss: 0.0224 - accuracy: 0.9908 - val_loss: 0.0188 - val_accuracy: 0.9955\n",
            "Epoch 3/10\n",
            "224/224 [==============================] - 14s 63ms/step - loss: 0.0212 - accuracy: 0.9915 - val_loss: 0.0192 - val_accuracy: 0.9955\n",
            "Epoch 4/10\n",
            "224/224 [==============================] - 15s 69ms/step - loss: 0.0224 - accuracy: 0.9911 - val_loss: 0.0195 - val_accuracy: 0.9955\n",
            "Epoch 5/10\n",
            "224/224 [==============================] - 14s 63ms/step - loss: 0.0204 - accuracy: 0.9912 - val_loss: 0.0385 - val_accuracy: 0.9922\n",
            "Epoch 6/10\n",
            "224/224 [==============================] - 15s 68ms/step - loss: 0.0218 - accuracy: 0.9911 - val_loss: 0.0238 - val_accuracy: 0.9944\n",
            "Epoch 7/10\n",
            "224/224 [==============================] - 14s 64ms/step - loss: 0.0207 - accuracy: 0.9918 - val_loss: 0.0295 - val_accuracy: 0.9922\n",
            "Epoch 8/10\n",
            "224/224 [==============================] - 16s 70ms/step - loss: 0.0201 - accuracy: 0.9897 - val_loss: 0.0299 - val_accuracy: 0.9939\n",
            "Epoch 9/10\n",
            "224/224 [==============================] - 14s 63ms/step - loss: 0.0187 - accuracy: 0.9915 - val_loss: 0.0297 - val_accuracy: 0.9911\n",
            "Epoch 10/10\n",
            "224/224 [==============================] - 15s 65ms/step - loss: 0.0186 - accuracy: 0.9912 - val_loss: 0.0361 - val_accuracy: 0.9905\n"
          ]
        },
        {
          "output_type": "display_data",
          "data": {
            "text/plain": [
              "<Figure size 1400x700 with 2 Axes>"
            ],
            "image/png": "[encoded data removed]"
          },
          "metadata": {}
        }
      ]
    },
    {
      "cell_type": "markdown",
      "source": [
        "## Neural Network with 2 hidden layers"
      ],
      "metadata": {
        "id": "0skMdoDTJBtS"
      }
    },
    {
      "cell_type": "code",
      "source": [
        "model_two_hidden = Sequential()\n",
        "model_two_hidden.add(Dense(X_train.shape[1] // 2, input_dim=X_train.shape[1], activation='relu'))  # First hidden layer with the half of neurals\n",
        "model_two_hidden.add(Dense(X_train.shape[1] // 2, activation='relu'))  # Second hidden layer with the same quantity of neurals\n",
        "model_two_hidden.add(Dense(1, activation='sigmoid'))\n",
        "\n",
        "# Compile\n",
        "model_two_hidden.compile(optimizer='adam', loss='binary_crossentropy', metrics=['accuracy'])\n",
        "\n",
        "# Training\n",
        "model_two_hidden.fit(X_train, y_train, epochs=10, batch_size=32)\n",
        "\n",
        "# Testing\n",
        "accuracy_two_hidden = model_two_hidden.evaluate(X_test, y_test)[1]"
      ],
      "metadata": {
        "colab": {
          "base_uri": "https://localhost:8080/"
        },
        "id": "E9ApQqllJGNB",
        "outputId": "27762d51-47fb-4002-8285-4980d06c30f3"
      },
      "execution_count": null,
      "outputs": [
        {
          "output_type": "stream",
          "name": "stdout",
          "text": [
            "Epoch 1/10\n",
            "280/280 [==============================] - 13s 43ms/step - loss: 0.6425 - accuracy: 0.6153\n",
            "Epoch 2/10\n",
            "280/280 [==============================] - 13s 46ms/step - loss: 0.4625 - accuracy: 0.7767\n",
            "Epoch 3/10\n",
            "280/280 [==============================] - 12s 44ms/step - loss: 0.2026 - accuracy: 0.9143\n",
            "Epoch 4/10\n",
            "280/280 [==============================] - 12s 43ms/step - loss: 0.0620 - accuracy: 0.9798\n",
            "Epoch 5/10\n",
            "280/280 [==============================] - 11s 38ms/step - loss: 0.0306 - accuracy: 0.9876\n",
            "Epoch 6/10\n",
            "280/280 [==============================] - 11s 39ms/step - loss: 0.0222 - accuracy: 0.9894\n",
            "Epoch 7/10\n",
            "280/280 [==============================] - 12s 44ms/step - loss: 0.0172 - accuracy: 0.9912\n",
            "Epoch 8/10\n",
            "280/280 [==============================] - 12s 42ms/step - loss: 0.0165 - accuracy: 0.9906\n",
            "Epoch 9/10\n",
            "280/280 [==============================] - 12s 44ms/step - loss: 0.0148 - accuracy: 0.9918\n",
            "Epoch 10/10\n",
            "280/280 [==============================] - 14s 49ms/step - loss: 0.0192 - accuracy: 0.9904\n",
            "70/70 [==============================] - 1s 13ms/step - loss: 2.6584 - accuracy: 0.6472\n"
          ]
        }
      ]
    },
    {
      "cell_type": "markdown",
      "source": [
        "### Metrics"
      ],
      "metadata": {
        "id": "SN86jdB1Kl0s"
      }
    },
    {
      "cell_type": "code",
      "source": [
        "history_two_hidden = model_two_hidden.fit(X_train, y_train, validation_split=0.2, epochs=10, batch_size=32)\n"
      ],
      "metadata": {
        "colab": {
          "base_uri": "https://localhost:8080/"
        },
        "id": "MyyJLA0aKqIR",
        "outputId": "26293e57-5b07-47b2-8982-6379ae211bf5"
      },
      "execution_count": null,
      "outputs": [
        {
          "output_type": "stream",
          "name": "stdout",
          "text": [
            "Epoch 1/10\n",
            "224/224 [==============================] - 13s 58ms/step - loss: 0.0255 - accuracy: 0.9895 - val_loss: 0.0156 - val_accuracy: 0.9933\n",
            "Epoch 2/10\n",
            "224/224 [==============================] - 9s 40ms/step - loss: 0.0247 - accuracy: 0.9901 - val_loss: 0.0170 - val_accuracy: 0.9933\n",
            "Epoch 3/10\n",
            "224/224 [==============================] - 11s 48ms/step - loss: 0.0197 - accuracy: 0.9904 - val_loss: 0.0358 - val_accuracy: 0.9888\n",
            "Epoch 4/10\n",
            "224/224 [==============================] - 10s 43ms/step - loss: 0.0254 - accuracy: 0.9884 - val_loss: 0.0358 - val_accuracy: 0.9872\n",
            "Epoch 5/10\n",
            "224/224 [==============================] - 9s 39ms/step - loss: 0.0153 - accuracy: 0.9908 - val_loss: 0.0346 - val_accuracy: 0.9872\n",
            "Epoch 6/10\n",
            "224/224 [==============================] - 10s 45ms/step - loss: 0.0145 - accuracy: 0.9919 - val_loss: 0.0413 - val_accuracy: 0.9849\n",
            "Epoch 7/10\n",
            "224/224 [==============================] - 10s 46ms/step - loss: 0.0133 - accuracy: 0.9918 - val_loss: 0.0351 - val_accuracy: 0.9860\n",
            "Epoch 8/10\n",
            "224/224 [==============================] - 10s 43ms/step - loss: 0.0129 - accuracy: 0.9913 - val_loss: 0.0355 - val_accuracy: 0.9860\n",
            "Epoch 9/10\n",
            "224/224 [==============================] - 10s 46ms/step - loss: 0.0124 - accuracy: 0.9925 - val_loss: 0.0346 - val_accuracy: 0.9855\n",
            "Epoch 10/10\n",
            "224/224 [==============================] - 11s 48ms/step - loss: 0.0118 - accuracy: 0.9923 - val_loss: 0.0364 - val_accuracy: 0.9866\n"
          ]
        }
      ]
    },
    {
      "cell_type": "markdown",
      "source": [
        "**Chart of precision and loss**"
      ],
      "metadata": {
        "id": "rENpbIfvLJ4M"
      }
    },
    {
      "cell_type": "code",
      "source": [
        "#import matplotlib.pyplot as plt\n",
        "\n",
        "# Precision\n",
        "plt.figure(figsize=(14, 7))\n",
        "plt.subplot(1, 2, 1)\n",
        "plt.plot(history_two_hidden.history['accuracy'], label='Training')\n",
        "plt.plot(history_two_hidden.history['val_accuracy'], label='Validation')\n",
        "plt.title('Precision throughtout the training - Precision')\n",
        "plt.xlabel('Epochs')\n",
        "plt.ylabel('Precision')\n",
        "plt.legend()\n",
        "\n",
        "# Loss\n",
        "plt.subplot(1, 2, 2)\n",
        "plt.plot(history_two_hidden.history['loss'], label='Training')\n",
        "plt.plot(history_two_hidden.history['val_loss'], label='Validation')\n",
        "plt.title('Precision throughtout the training - Loss')\n",
        "plt.xlabel('Epochs')\n",
        "plt.ylabel('Loss')\n",
        "plt.legend()\n",
        "\n",
        "plt.show()\n"
      ],
      "metadata": {
        "colab": {
          "base_uri": "https://localhost:8080/",
          "height": 686
        },
        "id": "MvNacAo8LIFv",
        "outputId": "5afbd816-01af-4b7b-f5a3-30f189fd5908"
      },
      "execution_count": null,
      "outputs": [
        {
          "output_type": "display_data",
          "data": {
            "text/plain": [
              "<Figure size 1400x700 with 2 Axes>"
            ],
            "image/png": "[encoded data removed]"
          },
          "metadata": {}
        }
      ]
    },
    {
      "cell_type": "markdown",
      "source": [
        "**Evaluate model and calculate metrics**"
      ],
      "metadata": {
        "id": "l-BAjeXTMGko"
      }
    },
    {
      "cell_type": "code",
      "source": [
        "from sklearn.metrics import confusion_matrix, accuracy_score, precision_score, recall_score, f1_score\n",
        "\n",
        "# Predictions\n",
        "y_pred_two_hidden = model_two_hidden.predict(X_test)\n",
        "y_pred_two_hidden = (y_pred_two_hidden > 0.5).astype(int)\n",
        "\n",
        "# Confusion matrix\n",
        "conf_matrix_two_hidden = confusion_matrix(y_test, y_pred_two_hidden)\n",
        "\n",
        "# Metrics\n",
        "accuracy_two_hidden = accuracy_score(y_test, y_pred_two_hidden)\n",
        "precision_two_hidden = precision_score(y_test, y_pred_two_hidden)\n",
        "recall_two_hidden = recall_score(y_test, y_pred_two_hidden)\n",
        "f1_two_hidden = f1_score(y_test, y_pred_two_hidden)\n",
        "\n",
        "print(f\"Accuracy: {accuracy_two_hidden}\")\n",
        "print(f\"Precision: {precision_two_hidden}\")\n",
        "print(f\"Recall: {recall_two_hidden}\")\n",
        "print(f\"F1 Score: {f1_two_hidden}\")\n"
      ],
      "metadata": {
        "colab": {
          "base_uri": "https://localhost:8080/"
        },
        "id": "PZpQKnwKMNHS",
        "outputId": "0b5ba694-91f4-464c-8433-243e129f3a20"
      },
      "execution_count": null,
      "outputs": [
        {
          "output_type": "stream",
          "name": "stdout",
          "text": [
            "70/70 [==============================] - 1s 13ms/step\n",
            "Accuracy: 0.6346583296114336\n",
            "Precision: 0.6324472960586618\n",
            "Recall: 0.6233062330623306\n",
            "F1 Score: 0.6278434940855323\n"
          ]
        }
      ]
    },
    {
      "cell_type": "markdown",
      "source": [
        "**Visualization of confusion matrix**"
      ],
      "metadata": {
        "id": "ihoVTv5EMYJi"
      }
    },
    {
      "cell_type": "code",
      "source": [
        "import seaborn as sns\n",
        "\n",
        "plt.figure(figsize=(8, 6))\n",
        "sns.heatmap(conf_matrix_two_hidden, annot=True, fmt=\"d\", cmap=\"Blues\", xticklabels=['0', '1'], yticklabels=['0', '1'])\n",
        "plt.xlabel('Prediction')\n",
        "plt.ylabel('Real')\n",
        "plt.title('Confusion matrix - NN 2 Hidden layers')\n",
        "plt.show()\n"
      ],
      "metadata": {
        "colab": {
          "base_uri": "https://localhost:8080/",
          "height": 605
        },
        "id": "nrxP-puhMdfp",
        "outputId": "c620929c-e2bb-4fc6-bc14-a06535fb9026"
      },
      "execution_count": null,
      "outputs": [
        {
          "output_type": "display_data",
          "data": {
            "text/plain": [
              "<Figure size 800x600 with 2 Axes>"
            ],
            "image/png": "[encoded data removed]"
          },
          "metadata": {}
        }
      ]
    },
    {
      "cell_type": "code",
      "source": [],
      "metadata": {
        "id": "xOTG18I0hGxN"
      },
      "execution_count": null,
      "outputs": []
    },
    {
      "cell_type": "markdown",
      "source": [
        "**Bar charts for metrics of evaluation**"
      ],
      "metadata": {
        "id": "DD_54SZJMsWs"
      }
    },
    {
      "cell_type": "code",
      "source": [
        "metrics_values_two_hidden = [accuracy_two_hidden, precision_two_hidden, recall_two_hidden, f1_two_hidden]\n",
        "metrics_labels = ['Accuracy', 'Precision', 'Recall', 'F1 Score']\n",
        "\n",
        "plt.figure(figsize=(10, 6))\n",
        "plt.bar(metrics_labels, metrics_values_two_hidden)\n",
        "for i, value in enumerate(metrics_values_two_hidden):\n",
        "    plt.text(i, value, f\"{value:.2f}\", ha='center', va='bottom')\n",
        "plt.title('Metrics of evaluation')\n",
        "plt.show()\n"
      ],
      "metadata": {
        "colab": {
          "base_uri": "https://localhost:8080/",
          "height": 577
        },
        "id": "BkrGBmB2M0hg",
        "outputId": "2a41d9d0-57be-42a2-b9fe-92e410aa98ab"
      },
      "execution_count": null,
      "outputs": [
        {
          "output_type": "display_data",
          "data": {
            "text/plain": [
              "<Figure size 1000x600 with 1 Axes>"
            ],
            "image/png": "[encoded data removed]"
          },
          "metadata": {}
        }
      ]
    },
    {
      "cell_type": "code",
      "source": [
        "import seaborn as sns\n",
        "import matplotlib.pyplot as plt\n",
        "\n",
        "# Distribución de la variable 'gender'\n",
        "sns.countplot(data['gender'])\n",
        "plt.title('Gender distribution')\n",
        "plt.xlabel('Gender')\n",
        "plt.ylabel('Quantity')\n",
        "plt.show()\n"
      ],
      "metadata": {
        "colab": {
          "base_uri": "https://localhost:8080/",
          "height": 508
        },
        "id": "KlgVcEyaPmLm",
        "outputId": "1c26bd54-812c-4c88-cff6-4147c463a149"
      },
      "execution_count": null,
      "outputs": [
        {
          "output_type": "display_data",
          "data": {
            "text/plain": [
              "<Figure size 640x480 with 1 Axes>"
            ],
            "image/png": "[encoded data removed]"
          },
          "metadata": {}
        }
      ]
    }
  ]
}